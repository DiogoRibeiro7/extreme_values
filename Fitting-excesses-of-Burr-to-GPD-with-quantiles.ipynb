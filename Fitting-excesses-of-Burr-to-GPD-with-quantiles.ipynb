{
 "cells": [
  {
   "cell_type": "code",
   "execution_count": 1,
   "metadata": {},
   "outputs": [],
   "source": [
    "import numpy as np\n",
    "from numpy import polyval, place, extract, any, asarray, nan, inf, pi\n",
    "from numpy import (where, arange, putmask, ravel, sum, shape,\n",
    "                   log, sqrt, exp, arctanh, tan, sin, arcsin, arctan,\n",
    "                   tanh, cos, cosh, sinh, log1p, expm1)\n",
    "\n",
    "from scipy.stats import rv_continuous\n",
    "import matplotlib.pyplot as plt\n",
    "\n",
    "class burr_gen(rv_continuous):\n",
    "#     def _argcheck(self, c):\n",
    "#         c = asarray(c)\n",
    "#         self.b = where(c < 0, 1.0/abs(c), inf)\n",
    "#         return where(c == 0, 0, 1)\n",
    "\n",
    "#     def _pdf(self, x, alpha1, alpha2, beta):\n",
    "#         Px = 1 / beta / ss.beta(alpha1, alpha2) * pow(x/beta, asarray(alpha1-1.0)) * pow(1 + x/beta, asarray(- alpha1 - alpha2))\n",
    "#         return Px\n",
    "\n",
    "#     def _logpdf(self, x, alpha1, alpha2, beta):\n",
    "#         return (alpha1 - 1) * np.log(x) - alpha1 * np.log(beta) - np.log(ss.beta(alpha1, alpha2)) - (alpha1 + alpha2) * np.log(1 + x/beta)\n",
    "\n",
    "    def _cdf(self, x, beta, tau, Lambda):\n",
    "        return 1 - pow( beta / ( beta + pow(x, tau) ), Lambda)\n",
    "#     def _ppf(self, q, c):\n",
    "#         vals = 1.0/c * (pow(1-q, -c)-1)\n",
    "#         return vals\n",
    "\n",
    "#     def _munp(self, n, c):\n",
    "#         k = arange(0, n+1)\n",
    "#         val = (-1.0/c)**n * sum(comb(n, k)*(-1)**k / (1.0-c*k), axis=0)\n",
    "#         return where(c*n < 1, val, inf)\n",
    "\n",
    "#     def _entropy(self, c):\n",
    "#         if (c > 0):\n",
    "#             return 1+c\n",
    "#         else:\n",
    "#             self.b = -1.0 / c\n",
    "#             return rv_continuous._entropy(self, c)\n",
    "burr = burr_gen(a=0.0, name='burr')"
   ]
  },
  {
   "cell_type": "code",
   "execution_count": 2,
   "metadata": {},
   "outputs": [
    {
     "data": {
      "text/plain": [
       "4.552329507932205"
      ]
     },
     "execution_count": 2,
     "metadata": {},
     "output_type": "execute_result"
    }
   ],
   "source": [
    "N, k, beta, tau, Lambda = 1000, 100, 1, 0.5, 2\n",
    "r = burr.rvs(beta, tau, Lambda, size = N)\n",
    "np.mean(r)"
   ]
  },
  {
   "cell_type": "code",
   "execution_count": 3,
   "metadata": {},
   "outputs": [
    {
     "name": "stdout",
     "output_type": "stream",
     "text": [
      "+-----------+-------+--------+-------+-------+-------+-------+--------+\n",
      "| pr.distr. |  mean |   sd   |  2.5% |  25%  |  50%  |  75%  | 97.5%  |\n",
      "+-----------+-------+--------+-------+-------+-------+-------+--------+\n",
      "|    Burr   | 4.552 | 32.992 | 0.000 | 0.024 | 0.184 | 1.103 | 30.747 |\n",
      "+-----------+-------+--------+-------+-------+-------+-------+--------+\n"
     ]
    }
   ],
   "source": [
    "from prettytable import PrettyTable\n",
    "m = 3 # how much we round\n",
    "t = PrettyTable(['pr.distr.', 'mean', 'sd', '2.5%', '25%', '50%', '75%', '97.5%'])\n",
    "t.add_row(['Burr',\n",
    "           \"%.3f\" % round(np.mean(r),m),\n",
    "           \"%.3f\" % round(np.std(r),m),\n",
    "           \"%.3f\" % round(np.percentile(r, 2.5),m), \n",
    "           \"%.3f\" % round(np.percentile(r, 25),m), \n",
    "           \"%.3f\" % round(np.percentile(r, 50),m), \n",
    "           \"%.3f\" % round(np.percentile(r, 75),m), \n",
    "           \"%.3f\" % round(np.percentile(r, 97.5),m)])\n",
    "# t.add_row(['Bob', 19])\n",
    "print(t)"
   ]
  },
  {
   "cell_type": "code",
   "execution_count": 4,
   "metadata": {},
   "outputs": [],
   "source": [
    "def k_greatest_values(a,k):\n",
    "    \"\"\"returns k greatest elements from the list and k-1 value starting from which we consider values to be extreme\"\"\"\n",
    "    u = np.sort(a, axis=None)[-1-k]\n",
    "    a = np.sort(a, axis=None)[-1-k+1:]\n",
    "    a = asarray([a-u for x in a])\n",
    "    return(a[1].tolist(), u) # u the starting value from which we consider others as excesses"
   ]
  },
  {
   "cell_type": "code",
   "execution_count": 5,
   "metadata": {},
   "outputs": [],
   "source": [
    "# k = 100 # number of excesses # above\n",
    "burr, u = k_greatest_values(r, k)\n",
    "# frechet # so we recover  k = 100 excesses sampled from Frechet distribution"
   ]
  },
  {
   "cell_type": "code",
   "execution_count": 6,
   "metadata": {},
   "outputs": [],
   "source": [
    "import pystan\n",
    "from pystan import StanModel \n",
    "GPD = \"\"\"\n",
    "functions {\n",
    "  real myGPD_lpdf(real y, real alpha, real beta) {\n",
    "      //return -(1+1/c)*log(1+c*y2);\n",
    "      return -(alpha + 1)*( log(1+y/beta) )+(log(alpha) - log(beta));\n",
    "  }\n",
    "  // above distribution is a special case of the distribution in the paper for alpha = beta = 1 / c\n",
    "  // c = 1/beta\n",
    "}\n",
    "data { \n",
    "  int N;\n",
    "  real y[N]; // points sampled from gpd in python with some(known) parameters, by mcmc we recover true values of those params\n",
    "}\n",
    "parameters { \n",
    "  //real c; \n",
    "  real alpha;\n",
    "  real beta;\n",
    "}\n",
    "model {\n",
    "  // Priors\n",
    "  // no priors - we assume improper priors on params\n",
    "  // c ~ uniform(0,1);\n",
    "\n",
    "// Likelihood\n",
    "  for(n in 1:N) {\n",
    "    target += myGPD_lpdf( y[n] | alpha, beta );\n",
    "  }\n",
    "\n",
    "}\n",
    "generated quantities{}\n",
    "\"\"\""
   ]
  },
  {
   "cell_type": "code",
   "execution_count": 7,
   "metadata": {},
   "outputs": [
    {
     "name": "stderr",
     "output_type": "stream",
     "text": [
      "INFO:pystan:COMPILING THE C++ CODE FOR MODEL anon_model_1f5534f12167b1e11be9c0c4dfd4126d NOW.\n",
      "C:\\Users\\Michal Lewandowski\\Anaconda3\\envs\\py35\\lib\\site-packages\\pystan\\misc.py:399: FutureWarning: Conversion of the second argument of issubdtype from `float` to `np.floating` is deprecated. In future, it will be treated as `np.float64 == np.dtype(float).type`.\n",
      "  elif np.issubdtype(np.asarray(v).dtype, float):\n"
     ]
    },
    {
     "name": "stdout",
     "output_type": "stream",
     "text": [
      "Inference for Stan model: anon_model_1f5534f12167b1e11be9c0c4dfd4126d.\n",
      "1 chains, each with iter=1000; warmup=200; thin=1; \n",
      "post-warmup draws per chain=800, total post-warmup draws=800.\n",
      "\n",
      "        mean se_mean     sd   2.5%    25%    50%    75%  97.5%  n_eff   Rhat\n",
      "alpha   1.22    0.03   0.28   0.77   1.03   1.16   1.35   1.89     99   1.01\n",
      "beta   11.69    0.47   4.49   5.48   8.56  10.82  13.81  22.54     90   1.01\n",
      "lp__  -409.4    0.12   1.14 -412.5 -409.8 -409.1 -408.6 -408.3     90   1.01\n",
      "\n",
      "Samples were drawn using NUTS at Wed May 16 10:59:00 2018.\n",
      "For each parameter, n_eff is a crude measure of effective sample size,\n",
      "and Rhat is the potential scale reduction factor on split chains (at \n",
      "convergence, Rhat=1).\n"
     ]
    }
   ],
   "source": [
    "data = dict(N = k,  y = burr) \n",
    "fit = StanModel(model_code=GPD).sampling(data=data,iter=1000,warmup=200, chains=1) #we sample from the provided data ;\n",
    "print(fit)"
   ]
  },
  {
   "cell_type": "code",
   "execution_count": 8,
   "metadata": {},
   "outputs": [
    {
     "name": "stdout",
     "output_type": "stream",
     "text": [
      "alpha =  1.217731811339228 \n",
      " beta =  11.690329935418294\n"
     ]
    }
   ],
   "source": [
    "beta = np.mean(list(fit.extract().values())[1].tolist())\n",
    "alpha = np.mean(list(fit.extract().values())[0].tolist())\n",
    "print(\"alpha = \", alpha, \"\\n beta = \", beta)\n",
    "gamma = 1 / alpha \n",
    "\n",
    "def quantile_GPD(N, k, p, beta, gamma, u):\n",
    "    return( u + beta*( ( N * p / k )**( -gamma ) - 1 ) ) # p = 0.05\n",
    "\n",
    "quant_GPD = quantile_GPD(N, k, 0.05, beta, gamma, u)"
   ]
  },
  {
   "cell_type": "code",
   "execution_count": 9,
   "metadata": {},
   "outputs": [
    {
     "data": {
      "text/plain": [
       "13.775209435220113"
      ]
     },
     "execution_count": 9,
     "metadata": {},
     "output_type": "execute_result"
    }
   ],
   "source": [
    "quant_GPD"
   ]
  },
  {
   "cell_type": "code",
   "execution_count": 10,
   "metadata": {},
   "outputs": [],
   "source": [
    "beta_values = list(fit.extract().values())[1].tolist()\n",
    "alpha_values = list(fit.extract().values())[0].tolist()"
   ]
  },
  {
   "cell_type": "code",
   "execution_count": 11,
   "metadata": {},
   "outputs": [
    {
     "data": {
      "image/png": "[encoded data removed]",
      "text/plain": [
       "<Figure size 576x432 with 1 Axes>"
      ]
     },
     "metadata": {},
     "output_type": "display_data"
    }
   ],
   "source": [
    "# define window size, output and axes\n",
    "fig, ax = plt.subplots(figsize=[8,6])\n",
    "\n",
    "# set plot title\n",
    "ax.set_title(\"Values of beta in GPD(alpha, beta) fitted to the excesses from Burr \")\n",
    "\n",
    "# set x-axis name\n",
    "ax.set_xlabel(\"beta\")\n",
    "\n",
    "# set y-axis name\n",
    "ax.set_ylabel(\"number of records\")\n",
    "\n",
    "# create histogram within output\n",
    "N, bins, patches = ax.hist(beta_values, bins=50, color=\"#777777\") #initial color of all bins\n",
    "\n",
    "# Iterate through all histogram elements\n",
    "# each element in this interation is one patch on the histogram, where:\n",
    "# - bin_size - number of records in current bin\n",
    "# - bin - value of current bin (x-axis)\n",
    "# - patch - a rectangle, object of class matplotlib.patches.Patch\n",
    "# more details on patch properties: [visit this link][1]\n",
    "\n",
    "for bin_size, bin, patch in zip(N, bins, patches):\n",
    "    if bin_size == 50:\n",
    "        patch.set_facecolor(\"#777777\")\n",
    "        patch.set_label(\"something\")\n",
    "\n",
    "plt.show()"
   ]
  },
  {
   "cell_type": "code",
   "execution_count": 12,
   "metadata": {},
   "outputs": [
    {
     "data": {
      "image/png": "[encoded data removed]",
      "text/plain": [
       "<Figure size 576x432 with 1 Axes>"
      ]
     },
     "metadata": {},
     "output_type": "display_data"
    }
   ],
   "source": [
    "# define window size, output and axes\n",
    "fig, ax = plt.subplots(figsize=[8,6])\n",
    "\n",
    "# set plot title\n",
    "ax.set_title(\"Values of alpha in GPD(alpha, beta) fitted to the excesses from Burr \")\n",
    "\n",
    "# set x-axis name\n",
    "ax.set_xlabel(\"alpha\")\n",
    "\n",
    "# set y-axis name\n",
    "ax.set_ylabel(\"number of records\")\n",
    "\n",
    "# create histogram within output\n",
    "N, bins, patches = ax.hist(alpha_values, bins=50, color=\"#777777\") #initial color of all bins\n",
    "\n",
    "# Iterate through all histogram elements\n",
    "# each element in this interation is one patch on the histogram, where:\n",
    "# - bin_size - number of records in current bin\n",
    "# - bin - value of current bin (x-axis)\n",
    "# - patch - a rectangle, object of class matplotlib.patches.Patch\n",
    "# more details on patch properties: [visit this link][1]\n",
    "\n",
    "for bin_size, bin, patch in zip(N, bins, patches):\n",
    "    if bin_size == 50:\n",
    "        patch.set_facecolor(\"#777777\")\n",
    "        patch.set_label(\"something\")\n",
    "\n",
    "plt.show()"
   ]
  },
  {
   "cell_type": "code",
   "execution_count": null,
   "metadata": {},
   "outputs": [],
   "source": []
  },
  {
   "cell_type": "code",
   "execution_count": null,
   "metadata": {},
   "outputs": [],
   "source": []
  },
  {
   "cell_type": "code",
   "execution_count": null,
   "metadata": {},
   "outputs": [],
   "source": []
  },
  {
   "cell_type": "code",
   "execution_count": null,
   "metadata": {},
   "outputs": [],
   "source": []
  },
  {
   "cell_type": "code",
   "execution_count": null,
   "metadata": {},
   "outputs": [],
   "source": []
  },
  {
   "cell_type": "code",
   "execution_count": null,
   "metadata": {},
   "outputs": [],
   "source": []
  },
  {
   "cell_type": "code",
   "execution_count": 13,
   "metadata": {},
   "outputs": [],
   "source": [
    "Fisher = \"\"\"\n",
    "functions { \n",
    " real myFisher_lpdf(real y, real alpha1, real alpha2, real beta) {\n",
    "      return -lbeta(alpha1,alpha2)-log(beta)+(alpha1-1)*log(y/beta)-(alpha1+alpha2)*log(1+y/beta);\n",
    "  }\n",
    "  \n",
    "// to recover more general distribution of Fisher parametrized by three parameters we need to multiply the above distribution \n",
    "// by: df1**df1/2\n",
    "// we have alpha1,2 = df1,2/2, beta = df2/df1\n",
    "}\n",
    "\n",
    "data { \n",
    "  int N;\n",
    "  real y[N]; // points sampled from fisher in python with some(known) parameters, by mcmc we recover true values of those params\n",
    "}\n",
    "parameters { \n",
    "  //parameters of the Fisher\n",
    "  //real df1;\n",
    "  //real df2;\n",
    "  real<lower=0> alpha1;\n",
    "  real<lower=0> alpha2;\n",
    "  real<lower=0> beta;\n",
    "  \n",
    "}\n",
    "model {\n",
    "  // when we deliberately do not specify priors then Stan works with improper priors\n",
    "  //alpha1 ~ uniform(0,2);\n",
    "  alpha2 ~ gamma(2,2);\n",
    "  beta ~ gamma(2,2);\n",
    "   // Likelihood\n",
    "  for(n in 1:N) {\n",
    "    target += myFisher_lpdf( y[n] |alpha1, alpha2, beta);\n",
    "  }\n",
    "}\n",
    "\n",
    "generated quantities{}\n",
    "\"\"\""
   ]
  },
  {
   "cell_type": "code",
   "execution_count": 14,
   "metadata": {},
   "outputs": [
    {
     "name": "stderr",
     "output_type": "stream",
     "text": [
      "INFO:pystan:COMPILING THE C++ CODE FOR MODEL anon_model_f7407f4ac5ee146989f26dd1ed73d4db NOW.\n"
     ]
    },
    {
     "name": "stdout",
     "output_type": "stream",
     "text": [
      "Inference for Stan model: anon_model_f7407f4ac5ee146989f26dd1ed73d4db.\n",
      "1 chains, each with iter=1000; warmup=200; thin=1; \n",
      "post-warmup draws per chain=800, total post-warmup draws=800.\n",
      "\n",
      "         mean se_mean     sd   2.5%    25%    50%    75%  97.5%  n_eff   Rhat\n",
      "alpha1   1.34    0.02   0.26   0.91   1.15   1.31    1.5   1.95    269    1.0\n",
      "alpha2   0.72  6.3e-3   0.12   0.51   0.63   0.72    0.8   0.97    354    1.0\n",
      "beta     2.99    0.06   1.15   1.27   2.15   2.79   3.71    5.6    395    1.0\n",
      "lp__   -418.3    0.08   1.33 -421.7 -418.9 -417.9 -417.3 -416.8    273    1.0\n",
      "\n",
      "Samples were drawn using NUTS at Wed May 16 10:59:36 2018.\n",
      "For each parameter, n_eff is a crude measure of effective sample size,\n",
      "and Rhat is the potential scale reduction factor on split chains (at \n",
      "convergence, Rhat=1).\n"
     ]
    },
    {
     "name": "stderr",
     "output_type": "stream",
     "text": [
      "C:\\Users\\Michal Lewandowski\\Anaconda3\\envs\\py35\\lib\\site-packages\\pystan\\misc.py:399: FutureWarning: Conversion of the second argument of issubdtype from `float` to `np.floating` is deprecated. In future, it will be treated as `np.float64 == np.dtype(float).type`.\n",
      "  elif np.issubdtype(np.asarray(v).dtype, float):\n"
     ]
    }
   ],
   "source": [
    "data = dict(N = k,  y = burr) \n",
    "fit = StanModel(model_code=Fisher).sampling(data=data,iter=1000,warmup=200, chains=1) #we sample from the provided data ;\n",
    "print(fit)"
   ]
  },
  {
   "cell_type": "code",
   "execution_count": 15,
   "metadata": {},
   "outputs": [
    {
     "name": "stdout",
     "output_type": "stream",
     "text": [
      "alpha1 =  1.3388799617115301 \n",
      " alpha2 =  0.7211946129688434 \n",
      " beta =  2.9943709360978916\n"
     ]
    }
   ],
   "source": [
    "beta = np.mean(list(fit.extract().values())[2].tolist())\n",
    "alpha2 = np.mean(list(fit.extract().values())[1].tolist())\n",
    "alpha1 = np.mean(list(fit.extract().values())[0].tolist())\n",
    "print(\"alpha1 = \", alpha1, \"\\n alpha2 = \", alpha2, \"\\n beta = \", beta)\n",
    "# gamma = 1 / alpha "
   ]
  },
  {
   "cell_type": "code",
   "execution_count": 16,
   "metadata": {},
   "outputs": [],
   "source": [
    "# the parameter values are totall shit, i will try to get back to it later, with respect to work I want to try  "
   ]
  },
  {
   "cell_type": "code",
   "execution_count": 17,
   "metadata": {},
   "outputs": [],
   "source": [
    "alpha1_values = list(fit.extract().values())[0].tolist()\n",
    "alpha2_values = list(fit.extract().values())[1].tolist()\n",
    "beta_values = list(fit.extract().values())[2].tolist()\n"
   ]
  },
  {
   "cell_type": "code",
   "execution_count": 18,
   "metadata": {},
   "outputs": [
    {
     "data": {
      "image/png": "[encoded data removed]",
      "text/plain": [
       "<Figure size 576x432 with 1 Axes>"
      ]
     },
     "metadata": {},
     "output_type": "display_data"
    }
   ],
   "source": [
    "# define window size, output and axes\n",
    "fig, ax = plt.subplots(figsize=[8,6])\n",
    "\n",
    "# set plot title\n",
    "ax.set_title(\"Values of beta in Fisher(alpha1, alpha2, beta) fitted to the excesses from Burr \")\n",
    "\n",
    "# set x-axis name\n",
    "ax.set_xlabel(\"beta\")\n",
    "\n",
    "# set y-axis name\n",
    "ax.set_ylabel(\"number of records\")\n",
    "\n",
    "# create histogram within output\n",
    "N, bins, patches = ax.hist(beta_values, bins=25, color=\"#777777\") #initial color of all bins\n",
    "\n",
    "# Iterate through all histogram elements\n",
    "# each element in this interation is one patch on the histogram, where:\n",
    "# - bin_size - number of records in current bin\n",
    "# - bin - value of current bin (x-axis)\n",
    "# - patch - a rectangle, object of class matplotlib.patches.Patch\n",
    "# more details on patch properties: [visit this link][1]\n",
    "\n",
    "for bin_size, bin, patch in zip(N, bins, patches):\n",
    "    if bin_size == 25:\n",
    "        patch.set_facecolor(\"#FF000\")\n",
    "        patch.set_label(\"something\")\n",
    "\n",
    "plt.show()"
   ]
  },
  {
   "cell_type": "code",
   "execution_count": 19,
   "metadata": {},
   "outputs": [
    {
     "data": {
      "image/png": "[encoded data removed]",
      "text/plain": [
       "<Figure size 576x432 with 1 Axes>"
      ]
     },
     "metadata": {},
     "output_type": "display_data"
    }
   ],
   "source": [
    "# define window size, output and axes\n",
    "fig, ax = plt.subplots(figsize=[8,6])\n",
    "\n",
    "# set plot title\n",
    "ax.set_title(\"Values of alpha1 in Fisher(alpha1, alpha2, beta) fitted to the excesses from Burr \")\n",
    "\n",
    "# set x-axis name\n",
    "ax.set_xlabel(\"alpha1\")\n",
    "\n",
    "# set y-axis name\n",
    "ax.set_ylabel(\"number of records\")\n",
    "\n",
    "# create histogram within output\n",
    "N, bins, patches = ax.hist(alpha1_values, bins=25, color=\"#777777\") #initial color of all bins\n",
    "\n",
    "# Iterate through all histogram elements\n",
    "# each element in this interation is one patch on the histogram, where:\n",
    "# - bin_size - number of records in current bin\n",
    "# - bin - value of current bin (x-axis)\n",
    "# - patch - a rectangle, object of class matplotlib.patches.Patch\n",
    "# more details on patch properties: [visit this link][1]\n",
    "\n",
    "for bin_size, bin, patch in zip(N, bins, patches):\n",
    "    if bin_size == 25:\n",
    "        patch.set_facecolor(\"#FF000\")\n",
    "        patch.set_label(\"something\")\n",
    "\n",
    "plt.show()"
   ]
  },
  {
   "cell_type": "code",
   "execution_count": 28,
   "metadata": {},
   "outputs": [
    {
     "data": {
      "image/png": "[encoded data removed]",
      "text/plain": [
       "<Figure size 576x432 with 1 Axes>"
      ]
     },
     "metadata": {},
     "output_type": "display_data"
    }
   ],
   "source": [
    "# define window size, output and axes\n",
    "fig, ax = plt.subplots(figsize=[8,6])\n",
    "\n",
    "# set plot title\n",
    "ax.set_title(\"Values of alpha2 in Fisher(alpha1, alpha2, beta) fitted to the excesses from Burr \")\n",
    "\n",
    "# set x-axis name\n",
    "ax.set_xlabel(\"alpha2\")\n",
    "\n",
    "# set y-axis name\n",
    "ax.set_ylabel(\"number of records\")\n",
    "\n",
    "# create histogram within output\n",
    "N, bins, patches = ax.hist(alpha2_values, bins=25, color=\"#777777\") #initial color of all bins\n",
    "\n",
    "# Iterate through all histogram elements\n",
    "# each element in this interation is one patch on the histogram, where:\n",
    "# - bin_size - number of records in current bin\n",
    "# - bin - value of current bin (x-axis)\n",
    "# - patch - a rectangle, object of class matplotlib.patches.Patch\n",
    "# more details on patch properties: [visit this link][1]\n",
    "\n",
    "for bin_size, bin, patch in zip(N, bins, patches):\n",
    "    if bin_size == 25:\n",
    "        patch.set_facecolor(\"#777777\")\n",
    "        patch.set_label(\"something\")\n",
    "\n",
    "plt.show()"
   ]
  },
  {
   "cell_type": "code",
   "execution_count": 25,
   "metadata": {},
   "outputs": [
    {
     "name": "stdout",
     "output_type": "stream",
     "text": [
      " alpha1 =  1.3388799617115301 \n",
      " alpha2 =  0.7211946129688434 \n",
      " beta =  2.9943709360978916 \n",
      " u =  4.810203382522611\n"
     ]
    }
   ],
   "source": [
    "#ok, next step would be to average ovet multiple datasets ctreated from the given number of excesses in Burr distribution\n",
    "print(\" alpha1 = \", alpha1, \"\\n alpha2 = \", alpha2, \"\\n beta = \", beta, \"\\n u = \", u)"
   ]
  },
  {
   "cell_type": "code",
   "execution_count": 29,
   "metadata": {},
   "outputs": [],
   "source": [
    "#quantiles of Fisher, inverse survival function\n",
    "import scipy.integrate as integrate\n",
    "import scipy.special as special\n",
    "\n",
    "def isf(alpha1, alpha2, beta, u):\n",
    "    const = 1/special.beta(alpha1, alpha2)\n",
    "    I = integrate.quad(lambda x : pow(x, alpha1 - 1 ) / pow(1 + x, alpha1 + alpha2), 0, u / beta)\n",
    "    sf = 1 - I[0]\n",
    "    isf = pow(sf, -1)\n",
    "    return isf"
   ]
  },
  {
   "cell_type": "code",
   "execution_count": 30,
   "metadata": {},
   "outputs": [
    {
     "data": {
      "text/plain": [
       "1.8066285885665676"
      ]
     },
     "execution_count": 30,
     "metadata": {},
     "output_type": "execute_result"
    }
   ],
   "source": [
    "result = isf(alpha1, alpha2, beta, u)\n",
    "result"
   ]
  },
  {
   "cell_type": "code",
   "execution_count": null,
   "metadata": {},
   "outputs": [],
   "source": [
    "# I don't understand- in notes we have that isf takes in arguments n,p,k but in hand calculation these arguments do not appear\n",
    "def quant_Fisher(isf, u, n, p, k):\n",
    "    return u +  "
   ]
  },
  {
   "cell_type": "code",
   "execution_count": null,
   "metadata": {},
   "outputs": [],
   "source": []
  },
  {
   "cell_type": "code",
   "execution_count": null,
   "metadata": {},
   "outputs": [],
   "source": []
  }
 ],
 "metadata": {
  "kernelspec": {
   "display_name": "Python 3",
   "language": "python",
   "name": "python3"
  },
  "language_info": {
   "codemirror_mode": {
    "name": "ipython",
    "version": 3
   },
   "file_extension": ".py",
   "mimetype": "text/x-python",
   "name": "python",
   "nbconvert_exporter": "python",
   "pygments_lexer": "ipython3",
   "version": "3.5.4"
  }
 },
 "nbformat": 4,
 "nbformat_minor": 2
}
