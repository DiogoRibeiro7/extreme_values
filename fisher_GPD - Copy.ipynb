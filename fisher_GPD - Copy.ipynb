{
 "cells": [
  {
   "cell_type": "code",
   "execution_count": null,
   "metadata": {},
   "outputs": [],
   "source": [
    "import pystan\n",
    "import numpy as np\n",
    "from pystan import StanModel\n",
    "\n",
    "# here we try to get the quantile table for both Fisher and GPD\n",
    "normal = \"\"\"\n",
    "functions {\n",
    "  // Define log probability density function\n",
    "  // we define desired probability distributions manually\n",
    "  real myNormal_lpdf(real y1, real mu, real sigma) {\n",
    "    return -log(2 * pi()) / 2 - log(sigma) - square(mu - y1) / (2 * sigma^2);\n",
    "  } \n",
    "\n",
    "}\n",
    "data { \n",
    "  // data points sampled from the given distribution from Python Scipy \n",
    "  int N;\n",
    "  real y1[N]; // points sampled from normal in python with some(known) parameters, by mcmc we recover true values of those params\n",
    " }\n",
    "parameters { \n",
    "  // parameters of the normal distributions & Fisher & GPD\n",
    "  real mu;\n",
    "  real<lower = 0> sigma;\n",
    "}\n",
    "model {\n",
    " // Priors, not specifying priors is equal to improper prior \n",
    "  \n",
    " //  mu ~ normal(0, 10);\n",
    " //  sigma ~ cauchy(0,10);\n",
    "  \n",
    "  // Likelihood\n",
    "  for(n in 1:N) {\n",
    "    target +=  myNormal_lpdf( y1[n] | mu, sigma ); \n",
    "  }\n",
    "\n",
    "}\n",
    "\n",
    "generated quantities{}\n",
    "\"\"\""
   ]
  },
  {
   "cell_type": "markdown",
   "metadata": {},
   "source": [
    "we try to recover original parameters from normal distribution, we provide data sampled from N(2,1)"
   ]
  },
  {
   "cell_type": "code",
   "execution_count": null,
   "metadata": {},
   "outputs": [],
   "source": [
    "n, p, N = 1, .5, 10  # number of trials, probability of each trial\n",
    "s = np.random.normal(2,1, N)\n",
    "# s1 = [1,1,1,1,1,1,1,1,1,1]\n",
    "data = dict(N = N, y1 = s.tolist())#, y2 = s.tolist(), y3 = s.tolist()) # we provide data for our model, y is primarly an array, it needs to be converted to a list\n",
    "sm = StanModel(model_code=normal) # we put the created model to the stan \n",
    "fit = sm.sampling(data=data)# we sample from the provided data ;\n",
    "print(fit)"
   ]
  },
  {
   "cell_type": "markdown",
   "metadata": {},
   "source": [
    "The model with normal simulations works, now we try the same with GPD density"
   ]
  },
  {
   "cell_type": "code",
   "execution_count": 1,
   "metadata": {},
   "outputs": [],
   "source": [
    "# genereting random numbers from Frechet & Burr & log-gamma \n",
    "import pystan\n",
    "import numpy as np\n",
    "from pystan import StanModel \n",
    "from scipy.stats import frechet_r, loggamma, burr, invweibull\n",
    "# from scipy.stats import burr\n",
    "# from scipy.stats import loggamma\n",
    "N = 5000\n",
    "c = 1\n",
    "# frechet_r.pdf(x, c) =c*x**(-c-1)*exp(-x**-c)\n",
    "frechet = invweibull.rvs(c, size=N) # this is exactly the same as in publication, there beta = 1/c \n",
    "\n",
    "# burr distribution, burr(1, 1/2, 2)\n",
    "# burr_r.pdf = c * d * x**(-c-1) * ( 1 + x**( -c ) )**(- d - 1)\n",
    "c, d = 1, 0.5\n",
    "burr = burr.rvs(c, d, size=N)\n",
    "\n",
    "# log-gamma\n",
    "# probability density for loggamma: loggamma.pdf(x, c) = exp(c*x-exp(x)) / gamma(c)\n",
    "c = 2\n",
    "loggamma = loggamma.rvs(c, size=N)\n",
    "\n",
    "# i assume the pdfs are correct, now we need to save the k- greatest values from each distribution,\n",
    "# save the k-th greatest value u, \n",
    "# get the array of x_i - u and to those data fit both GPD and Fisher distribution"
   ]
  },
  {
   "cell_type": "code",
   "execution_count": 9,
   "metadata": {},
   "outputs": [],
   "source": [
    "# to get k-greatest value from which we subtract the border value\n",
    "\n",
    "def k_greatest_values(a,k):\n",
    "    \"\"\"returns k greatest elements from the list and k-1 value starting from which we consider values to be extreme\"\"\"\n",
    "    u = np.sort(a, axis=None)[-1-k]\n",
    "    a = np.sort(a, axis=None)[-1-k+1:]\n",
    "    a = [a-u for x in a]\n",
    "    return(a[1].tolist(), u)"
   ]
  },
  {
   "cell_type": "code",
   "execution_count": 149,
   "metadata": {},
   "outputs": [
    {
     "data": {
      "text/plain": [
       "[0.17192324364231126,\n",
       " 0.4984858895881459,\n",
       " 2.1810267288829337,\n",
       " 2.6330803282229027,\n",
       " 3.6495618951010442,\n",
       " 4.1900593158621575,\n",
       " 4.5908834985053915,\n",
       " 5.01701181784594,\n",
       " 6.878865864091992,\n",
       " 9.160421826678963,\n",
       " 9.479394708335683,\n",
       " 10.594151578273838,\n",
       " 10.882035077462056,\n",
       " 11.273445040684557,\n",
       " 11.370616380637365,\n",
       " 11.789070481091564,\n",
       " 12.030376625598628,\n",
       " 12.432003787721705,\n",
       " 13.093229151213535,\n",
       " 13.573499956040258,\n",
       " 14.850130106836971,\n",
       " 15.108255730110066,\n",
       " 15.311979231851588,\n",
       " 15.500520110157765,\n",
       " 15.535607118940916,\n",
       " 16.08467127882915,\n",
       " 16.09679395067456,\n",
       " 16.902171657990444,\n",
       " 17.270244906676147,\n",
       " 18.90967257618839,\n",
       " 18.965616438585236,\n",
       " 21.530749348784852,\n",
       " 24.387448272596288,\n",
       " 25.75984780506535,\n",
       " 26.872522403842225,\n",
       " 31.2757367369948,\n",
       " 33.68021345888819,\n",
       " 36.48348569706678,\n",
       " 37.693957230801516,\n",
       " 40.62268123706822,\n",
       " 42.073091607814305,\n",
       " 48.10248175806734,\n",
       " 48.520576251775395,\n",
       " 49.006746125515036,\n",
       " 50.63642535429884,\n",
       " 52.96779503574146,\n",
       " 54.631579562994645,\n",
       " 55.555727239754404,\n",
       " 58.1240408204542,\n",
       " 59.288714278888634,\n",
       " 66.59351513201511,\n",
       " 71.47101162278223,\n",
       " 76.38207823289507,\n",
       " 76.7900198197316,\n",
       " 77.28821860706663,\n",
       " 85.85746233268328,\n",
       " 87.52209713696892,\n",
       " 87.72244755435445,\n",
       " 93.21240023433883,\n",
       " 94.49664802073987,\n",
       " 97.09452405250259,\n",
       " 100.39968705662478,\n",
       " 101.72415560766483,\n",
       " 102.47687382317245,\n",
       " 107.86115381435523,\n",
       " 108.84803301641087,\n",
       " 114.52571363152093,\n",
       " 117.13852934489681,\n",
       " 121.36436149995949,\n",
       " 166.26788611330483,\n",
       " 169.42726358564244,\n",
       " 172.62376084302667,\n",
       " 173.4796510805449,\n",
       " 182.16357896715414,\n",
       " 197.30831966718478,\n",
       " 203.37544523870855,\n",
       " 218.55687814126645,\n",
       " 226.28374013135584,\n",
       " 232.3588776958004,\n",
       " 244.92431404130832,\n",
       " 252.2628883269627,\n",
       " 260.06998849999235,\n",
       " 293.8115811543178,\n",
       " 311.9125101996873,\n",
       " 323.0825650062288,\n",
       " 363.5002878584052,\n",
       " 377.0453674459916,\n",
       " 520.7380475681557,\n",
       " 598.255116352438,\n",
       " 617.1403831493573,\n",
       " 776.668017286034,\n",
       " 858.3419099396564,\n",
       " 913.0950818540804,\n",
       " 1103.6292437624986,\n",
       " 1127.4065323232896,\n",
       " 1667.4883219615826,\n",
       " 1769.703038355095,\n",
       " 2132.169805923936,\n",
       " 2209.031226023443,\n",
       " 3807.3131038714555]"
      ]
     },
     "execution_count": 149,
     "metadata": {},
     "output_type": "execute_result"
    }
   ],
   "source": [
    "k = 100\n",
    "data_frechet,u = k_greatest_values(frechet,k)\n",
    "data_frechet"
   ]
  },
  {
   "cell_type": "markdown",
   "metadata": {},
   "source": [
    " For now the frechet distribution is ok, so we will keep working with it. \n",
    " So we need to fit to the data_frechet (excesses adequetly reduced) Fisher and GPD distribution and obtain the parametrs of the fit. Then we will use parameters to estimate quantiles (with standard errors?)"
   ]
  },
  {
   "cell_type": "code",
   "execution_count": 146,
   "metadata": {},
   "outputs": [],
   "source": [
    "GPD = \"\"\"\n",
    "functions {\n",
    "  real myGPD_lpdf(real y2, real alpha, real beta) {\n",
    "      //return -(1+1/c)*log(1+c*y2);\n",
    "      return -(alpha + 1)*( log(1+y2/beta) )+(log(alpha) - log(beta));\n",
    "  }\n",
    "  // above distribution is a special case of the distribution in the paper for alpha = beta = 1 / c\n",
    "  // c = 1/beta\n",
    "}\n",
    "data { \n",
    "  int N;\n",
    "  real y2[N]; // points sampled from gpd in python with some(known) parameters, by mcmc we recover true values of those params\n",
    "}\n",
    "parameters { \n",
    "  //real c; \n",
    "  real alpha;\n",
    "  real beta;\n",
    "}\n",
    "model {\n",
    "  // Priors\n",
    "\n",
    "  // c ~ uniform(0,1);\n",
    "\n",
    "// Likelihood\n",
    "  for(n in 1:N) {\n",
    "    target += myGPD_lpdf( y2[n] | alpha, beta );\n",
    "  }\n",
    "\n",
    "}\n",
    "\n",
    "generated quantities{}\n",
    "\"\"\""
   ]
  },
  {
   "cell_type": "code",
   "execution_count": 144,
   "metadata": {},
   "outputs": [
    {
     "data": {
      "text/plain": [
       "array([2.46070426e-03, 1.79990392e-02, 2.18257965e-02, 4.54572052e-02,\n",
       "       6.38849847e-02, 7.01360001e-02, 8.54192192e-02, 9.36877035e-02,\n",
       "       1.00700235e-01, 1.20361650e-01, 1.31868533e-01, 1.35737209e-01,\n",
       "       1.56092628e-01, 1.59730055e-01, 1.60986309e-01, 1.70415021e-01,\n",
       "       2.83225178e-01, 2.85857506e-01, 2.88666038e-01, 3.25191060e-01,\n",
       "       3.47241246e-01, 3.47932234e-01, 3.60167209e-01, 4.16569493e-01,\n",
       "       4.22915096e-01, 4.29890730e-01, 4.44802310e-01, 4.47223114e-01,\n",
       "       4.71415209e-01, 4.72121513e-01, 4.87093099e-01, 5.18554510e-01,\n",
       "       5.67054651e-01, 5.76291824e-01, 5.96209782e-01, 6.28585908e-01,\n",
       "       6.36242360e-01, 7.13776822e-01, 7.51522809e-01, 8.78100911e-01,\n",
       "       8.84650571e-01, 8.85325326e-01, 9.31590265e-01, 9.66189837e-01,\n",
       "       9.97228091e-01, 1.01536077e+00, 1.09202697e+00, 1.11273711e+00,\n",
       "       1.13143887e+00, 1.17437086e+00, 1.19739808e+00, 1.27496788e+00,\n",
       "       1.38310155e+00, 1.38915604e+00, 1.39516641e+00, 1.44013314e+00,\n",
       "       1.44131795e+00, 1.45242292e+00, 1.50655427e+00, 1.53735546e+00,\n",
       "       1.62466123e+00, 1.73240149e+00, 1.81509150e+00, 1.81963978e+00,\n",
       "       1.84014717e+00, 1.90278609e+00, 2.10999996e+00, 2.13630067e+00,\n",
       "       2.61785030e+00, 2.70194582e+00, 2.80008923e+00, 3.01959019e+00,\n",
       "       3.04199725e+00, 3.15635295e+00, 3.18044549e+00, 3.98923914e+00,\n",
       "       4.10325298e+00, 4.55300058e+00, 4.64599038e+00, 4.68125487e+00,\n",
       "       5.96436091e+00, 5.97985798e+00, 6.20794577e+00, 6.85898723e+00,\n",
       "       6.87925538e+00, 7.09946250e+00, 7.74508914e+00, 7.76656006e+00,\n",
       "       1.00634811e+01, 1.02879590e+01, 1.08586584e+01, 1.47329501e+01,\n",
       "       1.67013459e+01, 1.80593141e+01, 3.10536457e+01, 3.39343897e+01,\n",
       "       3.68197424e+01, 4.49127875e+01, 5.60508515e+01, 7.00120093e+01])"
      ]
     },
     "execution_count": 144,
     "metadata": {},
     "output_type": "execute_result"
    }
   ],
   "source": [
    "# gpd\n",
    "# genpareto.pdf(x, c) = (1 + c * x)**(-1 - 1/c)\n",
    "from scipy.stats import genpareto\n",
    "c, N, beta  = 1, 100, 1\n",
    "r = genpareto.rvs(c, size=N)*beta*c\n",
    "r = r.tolist()\n",
    "np.sort(r)\n",
    "# [x - 5 for x in r]"
   ]
  },
  {
   "cell_type": "code",
   "execution_count": 147,
   "metadata": {},
   "outputs": [
    {
     "name": "stderr",
     "output_type": "stream",
     "text": [
      "INFO:pystan:COMPILING THE C++ CODE FOR MODEL anon_model_4995339e5aaf6e92c78e547754614ea3 NOW.\n"
     ]
    },
    {
     "name": "stdout",
     "output_type": "stream",
     "text": [
      "Inference for Stan model: anon_model_4995339e5aaf6e92c78e547754614ea3.\n",
      "1 chains, each with iter=1000; warmup=200; thin=1; \n",
      "post-warmup draws per chain=800, total post-warmup draws=800.\n",
      "\n",
      "        mean se_mean     sd   2.5%    25%    50%    75%  97.5%  n_eff   Rhat\n",
      "alpha   1.17    0.02   0.23   0.79    1.0   1.14   1.32   1.72    133    1.0\n",
      "beta    1.57    0.05   0.55   0.78   1.17   1.51    1.9   2.88    123    1.0\n",
      "lp__  -216.7    0.09   0.99 -219.4 -217.1 -216.5 -216.1 -215.7    129    1.0\n",
      "\n",
      "Samples were drawn using NUTS at Wed Apr 25 14:34:00 2018.\n",
      "For each parameter, n_eff is a crude measure of effective sample size,\n",
      "and Rhat is the potential scale reduction factor on split chains (at \n",
      "convergence, Rhat=1).\n"
     ]
    },
    {
     "name": "stderr",
     "output_type": "stream",
     "text": [
      "C:\\Users\\Michal Lewandowski\\Anaconda3\\envs\\py35\\lib\\site-packages\\pystan\\misc.py:399: FutureWarning: Conversion of the second argument of issubdtype from `float` to `np.floating` is deprecated. In future, it will be treated as `np.float64 == np.dtype(float).type`.\n",
      "  elif np.issubdtype(np.asarray(v).dtype, float):\n"
     ]
    }
   ],
   "source": [
    "data = dict(N = N,  y2 = r) # we provide data for our model, y is primarly an array, it needs to be converted to a list\n",
    "sm = StanModel(model_code=GPD) # we put the created model to the stan \n",
    "fit = sm.sampling(data=data,iter=1000, warmup=200, chains=1)# we sample from the provided data ;\n",
    "print(fit)"
   ]
  },
  {
   "cell_type": "code",
   "execution_count": 181,
   "metadata": {},
   "outputs": [],
   "source": [
    "Fisher = \"\"\"\n",
    "functions { \n",
    " real myFisher_lpdf(real y3, real alpha1, real alpha2, real beta) {\n",
    "      //return df2/2*log(df2)+df1/2*log(df1)+(df1/2-1)*log(y3)-(df1/2+df2/2)*log(df2+df1*y3)-lbeta(df1/2, df2/2);\n",
    "      return -lbeta(alpha1,alpha2)-log(beta)+(alpha1-1)*log(y3/beta)-(alpha1+alpha2)*log(1+y3/beta);\n",
    "  }\n",
    "  \n",
    "// to recover more general distribution of Fisher parametrized by three parameters we need to multiply the above distribution \n",
    "// by: df1**df1/2\n",
    "// we have alpha1,2 = df1,2/2, beta = df2/df1\n",
    "}\n",
    "data { \n",
    "  int N;\n",
    "  real y3[N]; // points sampled from fisher in python with some(known) parameters, by mcmc we recover true values of those params\n",
    "}\n",
    "parameters { \n",
    "  // parameters of the Fisher\n",
    "  //real df1;\n",
    "  //real df2;\n",
    "  real<lower=0> beta;\n",
    "  real<lower=0> alpha1;\n",
    "  real<lower=0> alpha2;\n",
    "  \n",
    "}\n",
    "model {\n",
    "  // deliberately we do not specify priors - in this way Stan works with improper priors\n",
    "  alpha1 ~ uniform(0,2);\n",
    "  alpha2 ~ gamma(2,2);\n",
    "  //beta ~ \n",
    "  // Likelihood\n",
    "  for(n in 1:N) {\n",
    "    target += myFisher_lpdf( y3[n] |beta,alpha1, alpha2);\n",
    "  }\n",
    "}\n",
    "\n",
    "generated quantities{}\n",
    "\"\"\""
   ]
  },
  {
   "cell_type": "code",
   "execution_count": 182,
   "metadata": {},
   "outputs": [
    {
     "name": "stderr",
     "output_type": "stream",
     "text": [
      "INFO:pystan:COMPILING THE C++ CODE FOR MODEL anon_model_b529ff7d148b2469efaae8f6c4345fb1 NOW.\n"
     ]
    },
    {
     "name": "stdout",
     "output_type": "stream",
     "text": [
      "Inference for Stan model: anon_model_b529ff7d148b2469efaae8f6c4345fb1.\n",
      "1 chains, each with iter=2000; warmup=200; thin=1; \n",
      "post-warmup draws per chain=1800, total post-warmup draws=1800.\n",
      "\n",
      "         mean se_mean     sd   2.5%    25%    50%    75%  97.5%  n_eff   Rhat\n",
      "beta     3.25    0.03   0.78   2.06   2.73   3.12   3.64   5.06    818    1.0\n",
      "alpha1   0.54  2.2e-3   0.07   0.41    0.5   0.54   0.59   0.67    892    1.0\n",
      "alpha2   3.94    0.04   1.23   1.83   3.07   3.81   4.71   6.56    847    1.0\n",
      "lp__   -626.6    0.04   1.19 -630.0 -627.1 -626.3 -625.8 -625.3    795    1.0\n",
      "\n",
      "Samples were drawn using NUTS at Wed Apr 25 15:15:48 2018.\n",
      "For each parameter, n_eff is a crude measure of effective sample size,\n",
      "and Rhat is the potential scale reduction factor on split chains (at \n",
      "convergence, Rhat=1).\n"
     ]
    },
    {
     "name": "stderr",
     "output_type": "stream",
     "text": [
      "C:\\Users\\Michal Lewandowski\\Anaconda3\\envs\\py35\\lib\\site-packages\\pystan\\misc.py:399: FutureWarning: Conversion of the second argument of issubdtype from `float` to `np.floating` is deprecated. In future, it will be treated as `np.float64 == np.dtype(float).type`.\n",
      "  elif np.issubdtype(np.asarray(v).dtype, float):\n"
     ]
    }
   ],
   "source": [
    "data = dict(N = k,  y3 = data_frechet) # we provide data for our model, y is primarly an array, it needs to be converted to a list\n",
    "# sm = StanModel(model_code=Fisher) # we put the created model to the stan \n",
    "fit = StanModel(model_code=Fisher).sampling(data=data,iter=2000,warmup=200, chains=1)# we sample from the provided data ;\n",
    "print(fit)"
   ]
  },
  {
   "cell_type": "code",
   "execution_count": 175,
   "metadata": {},
   "outputs": [],
   "source": [
    "beta = list(fit.extract().values())[0].tolist()\n",
    "alpha1 = list(fit.extract().values())[1].tolist()\n",
    "alpha2 = list(fit.extract().values())[2].tolist()"
   ]
  },
  {
   "cell_type": "code",
   "execution_count": 193,
   "metadata": {},
   "outputs": [
    {
     "name": "stdout",
     "output_type": "stream",
     "text": [
      "0.5407828880021844 3.939100949221416 3.2479317748860437\n"
     ]
    },
    {
     "ename": "TypeError",
     "evalue": "ufunc 'bitwise_xor' not supported for the input types, and the inputs could not be safely coerced to any supported types according to the casting rule ''safe''",
     "output_type": "error",
     "traceback": [
      "\u001b[1;31m---------------------------------------------------------------------------\u001b[0m",
      "\u001b[1;31mTypeError\u001b[0m                                 Traceback (most recent call last)",
      "\u001b[1;32m<ipython-input-193-25e06769c517>\u001b[0m in \u001b[0;36m<module>\u001b[1;34m()\u001b[0m\n\u001b[0;32m      5\u001b[0m \u001b[1;32mfrom\u001b[0m \u001b[0mscipy\u001b[0m\u001b[1;33m.\u001b[0m\u001b[0mstats\u001b[0m \u001b[1;32mimport\u001b[0m \u001b[0mbeta\u001b[0m\u001b[1;33m\u001b[0m\u001b[0m\n\u001b[0;32m      6\u001b[0m \u001b[0mprint\u001b[0m\u001b[1;33m(\u001b[0m\u001b[0malpha1\u001b[0m\u001b[1;33m,\u001b[0m\u001b[0malpha2\u001b[0m\u001b[1;33m,\u001b[0m\u001b[0mbeta1\u001b[0m\u001b[1;33m)\u001b[0m\u001b[1;33m\u001b[0m\u001b[0m\n\u001b[1;32m----> 7\u001b[1;33m \u001b[0mplt\u001b[0m\u001b[1;33m.\u001b[0m\u001b[0mplot\u001b[0m\u001b[1;33m(\u001b[0m\u001b[0mx\u001b[0m\u001b[1;33m^\u001b[0m\u001b[1;36m2\u001b[0m\u001b[1;33m,\u001b[0m\u001b[0mx\u001b[0m\u001b[1;33m)\u001b[0m\u001b[1;33m\u001b[0m\u001b[0m\n\u001b[0m\u001b[0;32m      8\u001b[0m \u001b[1;31m# plt.plot(1/beta(alpha1,alpha2)*np.exp(-np.log(beta1)+(alpha1-1)*np.log(x/beta1)-(alpha1+alpha2)*np.log(1+x/beta1)))\u001b[0m\u001b[1;33m\u001b[0m\u001b[1;33m\u001b[0m\u001b[0m\n",
      "\u001b[1;31mTypeError\u001b[0m: ufunc 'bitwise_xor' not supported for the input types, and the inputs could not be safely coerced to any supported types according to the casting rule ''safe''"
     ]
    }
   ],
   "source": [
    "beta1 = np.mean(list(fit.extract().values())[0].tolist())\n",
    "alpha1 = np.mean(list(fit.extract().values())[1].tolist())\n",
    "alpha2 = np.mean(list(fit.extract().values())[2].tolist())\n",
    "# from scipy.stats import beta\n"
   ]
  },
  {
   "cell_type": "code",
   "execution_count": 206,
   "metadata": {},
   "outputs": [
    {
     "name": "stderr",
     "output_type": "stream",
     "text": [
      "C:\\Users\\Michal Lewandowski\\Anaconda3\\envs\\py35\\lib\\site-packages\\matplotlib\\axes\\_axes.py:6462: UserWarning: The 'normed' kwarg is deprecated, and has been replaced by the 'density' kwarg.\n",
      "  warnings.warn(\"The 'normed' kwarg is deprecated, and has been \"\n"
     ]
    },
    {
     "ename": "TypeError",
     "evalue": "_parse_args() missing 1 required positional argument: 'c'",
     "output_type": "error",
     "traceback": [
      "\u001b[1;31m---------------------------------------------------------------------------\u001b[0m",
      "\u001b[1;31mTypeError\u001b[0m                                 Traceback (most recent call last)",
      "\u001b[1;32m<ipython-input-206-912b2765a151>\u001b[0m in \u001b[0;36m<module>\u001b[1;34m()\u001b[0m\n\u001b[0;32m      7\u001b[0m \u001b[1;31m# rv = ss.gamma(alpha,loc,beta)\u001b[0m\u001b[1;33m\u001b[0m\u001b[1;33m\u001b[0m\u001b[0m\n\u001b[0;32m      8\u001b[0m \u001b[0mx\u001b[0m \u001b[1;33m=\u001b[0m \u001b[0mnp\u001b[0m\u001b[1;33m.\u001b[0m\u001b[0mlinspace\u001b[0m\u001b[1;33m(\u001b[0m\u001b[1;36m0\u001b[0m\u001b[1;33m,\u001b[0m\u001b[1;36m400\u001b[0m\u001b[1;33m)\u001b[0m\u001b[1;33m\u001b[0m\u001b[0m\n\u001b[1;32m----> 9\u001b[1;33m \u001b[0mh\u001b[0m \u001b[1;33m=\u001b[0m \u001b[0mplt\u001b[0m\u001b[1;33m.\u001b[0m\u001b[0mplot\u001b[0m\u001b[1;33m(\u001b[0m\u001b[0mx\u001b[0m\u001b[1;33m,\u001b[0m \u001b[0mss\u001b[0m\u001b[1;33m.\u001b[0m\u001b[0minvweibull\u001b[0m\u001b[1;33m.\u001b[0m\u001b[0mpdf\u001b[0m\u001b[1;33m(\u001b[0m\u001b[0mx\u001b[0m\u001b[1;33m)\u001b[0m\u001b[1;33m,\u001b[0m \u001b[0mlw\u001b[0m\u001b[1;33m=\u001b[0m\u001b[1;36m2\u001b[0m\u001b[1;33m)\u001b[0m\u001b[1;33m\u001b[0m\u001b[0m\n\u001b[0m\u001b[0;32m     10\u001b[0m \u001b[0mplt\u001b[0m\u001b[1;33m.\u001b[0m\u001b[0mshow\u001b[0m\u001b[1;33m(\u001b[0m\u001b[1;33m)\u001b[0m\u001b[1;33m\u001b[0m\u001b[0m\n",
      "\u001b[1;32m~\\Anaconda3\\envs\\py35\\lib\\site-packages\\scipy\\stats\\_distn_infrastructure.py\u001b[0m in \u001b[0;36mpdf\u001b[1;34m(self, x, *args, **kwds)\u001b[0m\n\u001b[0;32m   1646\u001b[0m \u001b[1;33m\u001b[0m\u001b[0m\n\u001b[0;32m   1647\u001b[0m         \"\"\"\n\u001b[1;32m-> 1648\u001b[1;33m         \u001b[0margs\u001b[0m\u001b[1;33m,\u001b[0m \u001b[0mloc\u001b[0m\u001b[1;33m,\u001b[0m \u001b[0mscale\u001b[0m \u001b[1;33m=\u001b[0m \u001b[0mself\u001b[0m\u001b[1;33m.\u001b[0m\u001b[0m_parse_args\u001b[0m\u001b[1;33m(\u001b[0m\u001b[1;33m*\u001b[0m\u001b[0margs\u001b[0m\u001b[1;33m,\u001b[0m \u001b[1;33m**\u001b[0m\u001b[0mkwds\u001b[0m\u001b[1;33m)\u001b[0m\u001b[1;33m\u001b[0m\u001b[0m\n\u001b[0m\u001b[0;32m   1649\u001b[0m         \u001b[0mx\u001b[0m\u001b[1;33m,\u001b[0m \u001b[0mloc\u001b[0m\u001b[1;33m,\u001b[0m \u001b[0mscale\u001b[0m \u001b[1;33m=\u001b[0m \u001b[0mmap\u001b[0m\u001b[1;33m(\u001b[0m\u001b[0masarray\u001b[0m\u001b[1;33m,\u001b[0m \u001b[1;33m(\u001b[0m\u001b[0mx\u001b[0m\u001b[1;33m,\u001b[0m \u001b[0mloc\u001b[0m\u001b[1;33m,\u001b[0m \u001b[0mscale\u001b[0m\u001b[1;33m)\u001b[0m\u001b[1;33m)\u001b[0m\u001b[1;33m\u001b[0m\u001b[0m\n\u001b[0;32m   1650\u001b[0m         \u001b[0margs\u001b[0m \u001b[1;33m=\u001b[0m \u001b[0mtuple\u001b[0m\u001b[1;33m(\u001b[0m\u001b[0mmap\u001b[0m\u001b[1;33m(\u001b[0m\u001b[0masarray\u001b[0m\u001b[1;33m,\u001b[0m \u001b[0margs\u001b[0m\u001b[1;33m)\u001b[0m\u001b[1;33m)\u001b[0m\u001b[1;33m\u001b[0m\u001b[0m\n",
      "\u001b[1;31mTypeError\u001b[0m: _parse_args() missing 1 required positional argument: 'c'"
     ]
    },
    {
     "data": {
      "image/png": "[encoded data removed]",
      "text/plain": [
       "<Figure size 432x288 with 1 Axes>"
      ]
     },
     "metadata": {},
     "output_type": "display_data"
    }
   ],
   "source": [
    "import scipy.stats as ss\n",
    "# import numpy as np\n",
    "# import matplotlib.pyplot as plt\n",
    "# alpha, loc, beta=5, 100, 22\n",
    "# data=ss.gamma.rvs(alpha,loc=loc,scale=beta,size=5000)\n",
    "myHist = plt.hist(data_frechet, 100, normed=True)\n",
    "# rv = ss.gamma(alpha,loc,beta)\n",
    "# x = np.linspace(0,400) \n",
    "# h = plt.plot(x, ss.invweibull.pdf(x), lw=2)\n",
    "plt.show()\n",
    "# we wanted to plot the pdf function of the used density on the histogram below"
   ]
  },
  {
   "cell_type": "code",
   "execution_count": 204,
   "metadata": {},
   "outputs": [
    {
     "name": "stderr",
     "output_type": "stream",
     "text": [
      "C:\\Users\\Michal Lewandowski\\Anaconda3\\envs\\py35\\lib\\site-packages\\ipykernel_launcher.py:5: RuntimeWarning: divide by zero encountered in log\n",
      "  \"\"\"\n",
      "C:\\Users\\Michal Lewandowski\\Anaconda3\\envs\\py35\\lib\\site-packages\\ipykernel_launcher.py:5: RuntimeWarning: invalid value encountered in multiply\n",
      "  \"\"\"\n"
     ]
    },
    {
     "data": {
      "text/plain": [
       "[<matplotlib.lines.Line2D at 0x1f20c4b6128>]"
      ]
     },
     "execution_count": 204,
     "metadata": {},
     "output_type": "execute_result"
    },
    {
     "data": {
      "image/png": "[encoded data removed]",
      "text/plain": [
       "<Figure size 432x288 with 1 Axes>"
      ]
     },
     "metadata": {},
     "output_type": "display_data"
    }
   ],
   "source": [
    "# hist = np.histogram(data_frechet)\n",
    "# plt.hist(data_frechet,bins = 100)\n",
    "import scipy.special as ss\n",
    "# here we want to get a pdf to plot it on histogram\n",
    "def fisher_den(x,alpha1,alpha2,beta1):\n",
    "    return(1/ss.beta(alpha1,alpha2)*np.exp(-np.log(beta1)+(alpha1-1)*np.log(x/beta1)-(alpha1+alpha2)*np.log(1+x/beta1))) \n",
    "x = np.linspace(0,600) \n",
    "   \n",
    "plt.plot(fisher_den(x,1,1,1))"
   ]
  },
  {
   "cell_type": "code",
   "execution_count": 173,
   "metadata": {},
   "outputs": [
    {
     "data": {
      "text/plain": [
       "[<matplotlib.lines.Line2D at 0x1f20c164518>]"
      ]
     },
     "execution_count": 173,
     "metadata": {},
     "output_type": "execute_result"
    },
    {
     "data": {
      "image/png": "[encoded data removed]",
      "text/plain": [
       "<Figure size 432x288 with 1 Axes>"
      ]
     },
     "metadata": {},
     "output_type": "display_data"
    }
   ],
   "source": [
    "plt.plot(alpha1[0:100]) # we check whether we have convergence"
   ]
  },
  {
   "cell_type": "code",
   "execution_count": 174,
   "metadata": {},
   "outputs": [
    {
     "data": {
      "text/plain": [
       "[<matplotlib.lines.Line2D at 0x1f206650c88>]"
      ]
     },
     "execution_count": 174,
     "metadata": {},
     "output_type": "execute_result"
    },
    {
     "data": {
      "image/png": "[encoded data removed]",
      "text/plain": [
       "<Figure size 432x288 with 1 Axes>"
      ]
     },
     "metadata": {},
     "output_type": "display_data"
    }
   ],
   "source": [
    "plt.plot(alpha2[0:100]) # we check convergence for the second parameter in the same way as before"
   ]
  },
  {
   "cell_type": "code",
   "execution_count": null,
   "metadata": {},
   "outputs": [],
   "source": [
    "# fisher\n",
    "from scipy.stats import f\n",
    "df1, df2, N = 2, 1, 1000\n",
    "r = f.rvs(df1, df2, size=N)\n",
    "# r.tolist()"
   ]
  },
  {
   "cell_type": "markdown",
   "metadata": {},
   "source": [
    "we get the \\hat{beta}, \\hat{gamma} values from fitted Fisher distribution to estiamte quantile values \n",
    "\\hat{q}_{GPD} = u + ..."
   ]
  },
  {
   "cell_type": "code",
   "execution_count": 150,
   "metadata": {},
   "outputs": [
    {
     "name": "stderr",
     "output_type": "stream",
     "text": [
      "INFO:pystan:COMPILING THE C++ CODE FOR MODEL anon_model_4995339e5aaf6e92c78e547754614ea3 NOW.\n",
      "C:\\Users\\Michal Lewandowski\\Anaconda3\\envs\\py35\\lib\\site-packages\\pystan\\misc.py:399: FutureWarning: Conversion of the second argument of issubdtype from `float` to `np.floating` is deprecated. In future, it will be treated as `np.float64 == np.dtype(float).type`.\n",
      "  elif np.issubdtype(np.asarray(v).dtype, float):\n"
     ]
    }
   ],
   "source": [
    "N = 5000\n",
    "k = 100\n",
    "data = dict(N = k,  y2 = data_frechet) \n",
    "# sm = StanModel(model_code=GPD) \n",
    "fit = StanModel(model_code=GPD).sampling(data=data,iter=1000,warmup=200, chains=1)\n",
    "print(fit)"
   ]
  },
  {
   "cell_type": "code",
   "execution_count": 148,
   "metadata": {},
   "outputs": [
    {
     "name": "stdout",
     "output_type": "stream",
     "text": [
      "1.1653252952351447 1.5725595684023386\n"
     ]
    }
   ],
   "source": [
    "alpha = np.mean(list(fit.extract().values())[0].tolist())\n",
    "beta = np.mean(list(fit.extract().values())[1].tolist())\n",
    "# print(alpha, beta)"
   ]
  },
  {
   "cell_type": "code",
   "execution_count": 100,
   "metadata": {},
   "outputs": [],
   "source": [
    "def quantile_GPD(N, k, p, beta, gamma, u):\n",
    "    return( u + beta*( ( N * p / k )**( -gamma ) - 1 ) ) # p = 0.05"
   ]
  },
  {
   "cell_type": "code",
   "execution_count": 103,
   "metadata": {},
   "outputs": [],
   "source": [
    "quant_gpd = quantile_GPD(N, k, 0.05, beta, 1/alpha, u)"
   ]
  },
  {
   "cell_type": "code",
   "execution_count": 102,
   "metadata": {},
   "outputs": [
    {
     "data": {
      "text/plain": [
       "44.77078340034417"
      ]
     },
     "execution_count": 102,
     "metadata": {},
     "output_type": "execute_result"
    }
   ],
   "source": [
    "def quantile_Fisher(N, F_y):\n",
    "    return(u + F_y) # F_y is inversed survival function available for programmed .f distribution in python"
   ]
  },
  {
   "cell_type": "code",
   "execution_count": 106,
   "metadata": {},
   "outputs": [
    {
     "name": "stdout",
     "output_type": "stream",
     "text": [
      "34013148.30470357 0.22691540796553988 6.671402656782597e-09\n"
     ]
    }
   ],
   "source": [
    "df1 = np.mean(list(fit.extract().values())[0].tolist())\n",
    "df2 = np.mean(list(fit.extract().values())[1].tolist())\n",
    "alpha1, alpha2, beta_f = df1 / 2, df2 / 2, df2 / df1\n",
    "print(alpha1, alpha2, beta_f)"
   ]
  },
  {
   "cell_type": "code",
   "execution_count": 115,
   "metadata": {},
   "outputs": [
    {
     "data": {
      "image/png": "[encoded data removed]",
      "text/plain": [
       "<Figure size 432x288 with 1 Axes>"
      ]
     },
     "metadata": {},
     "output_type": "display_data"
    }
   ],
   "source": [
    "import matplotlib.pyplot as plt\n",
    "plt.plot(data_frechet)\n",
    "plt.show()"
   ]
  },
  {
   "cell_type": "code",
   "execution_count": 116,
   "metadata": {},
   "outputs": [],
   "source": [
    "# alpha\n",
    "# from scipy.stats import rv_continuous\n",
    "import numpy as np\n",
    "from statsmodels.distributions.empirical_distribution import ECDF"
   ]
  },
  {
   "cell_type": "code",
   "execution_count": 124,
   "metadata": {},
   "outputs": [],
   "source": [
    "ecdf = ECDF(data_frechet)\n"
   ]
  },
  {
   "cell_type": "code",
   "execution_count": 125,
   "metadata": {},
   "outputs": [
    {
     "data": {
      "text/plain": [
       "<statsmodels.distributions.empirical_distribution.ECDF at 0x1f20beee278>"
      ]
     },
     "execution_count": 125,
     "metadata": {},
     "output_type": "execute_result"
    }
   ],
   "source": [
    "ecdf"
   ]
  },
  {
   "cell_type": "code",
   "execution_count": 152,
   "metadata": {},
   "outputs": [
    {
     "data": {
      "text/plain": [
       "62.941114705451874"
      ]
     },
     "execution_count": 152,
     "metadata": {},
     "output_type": "execute_result"
    }
   ],
   "source": [
    "np.median(data_frechet)"
   ]
  },
  {
   "cell_type": "code",
   "execution_count": null,
   "metadata": {},
   "outputs": [],
   "source": []
  }
 ],
 "metadata": {
  "kernelspec": {
   "display_name": "Python 3",
   "language": "python",
   "name": "python3"
  },
  "language_info": {
   "codemirror_mode": {
    "name": "ipython",
    "version": 3
   },
   "file_extension": ".py",
   "mimetype": "text/x-python",
   "name": "python",
   "nbconvert_exporter": "python",
   "pygments_lexer": "ipython3",
   "version": "3.5.4"
  }
 },
 "nbformat": 4,
 "nbformat_minor": 2
}
