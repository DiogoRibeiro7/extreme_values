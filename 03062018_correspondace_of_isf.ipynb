{
 "cells": [
  {
   "cell_type": "code",
   "execution_count": 1,
   "metadata": {},
   "outputs": [],
   "source": [
    "## we need to plot cumulative distribution function of Fisher(1, alpha2, beta) and GPD(alpha2, beta) on one plot"
   ]
  },
  {
   "cell_type": "code",
   "execution_count": 2,
   "metadata": {},
   "outputs": [],
   "source": [
    "import numpy as np\n",
    "import matplotlib.pyplot as plt\n",
    "import pystan\n",
    "from pystan import StanModel \n",
    "from numpy import polyval, place, extract, any, asarray, nan, inf, pi\n",
    "from numpy import (where, arange, putmask, ravel, sum, shape,\n",
    "                   log, sqrt, exp, arctanh, tan, sin, arcsin, arctan,\n",
    "                   tanh, cos, cosh, sinh, log1p, expm1)\n",
    "\n",
    "from scipy.stats import rv_continuous\n",
    "from scipy.stats import f\n",
    "from prettytable import PrettyTable\n",
    "import datetime\n",
    "import os # to save file to a selected directories, which do not need to be created\n"
   ]
  },
  {
   "cell_type": "code",
   "execution_count": 3,
   "metadata": {},
   "outputs": [],
   "source": [
    "class GPD_gen(rv_continuous):\n",
    "#     def _argcheck(self, c):\n",
    "#         c = asarray(c)\n",
    "#         self.b = where(c < 0, 1.0/abs(c), inf)\n",
    "#         return where(c == 0, 0, 1)\n",
    "\n",
    "# but when both pdf and cdf are defined there is an error! \n",
    "#     def _pdf(self, x, alpha, beta):\n",
    "#         return(alpha / beta * pow( 1 + x / beta, asarray(-alpha - 1) )\n",
    "\n",
    "    def _cdf(self, x, alpha, beta):\n",
    "        return 1 - pow(1 + x / beta, asarray(- alpha))  \n",
    "#     def _ppf(self, q, c):\n",
    "#         vals = 1.0/c * (pow(1-q, -c)-1)\n",
    "#         return vals\n",
    "\n",
    "#     def _munp(self, n, c):\n",
    "#         k = arange(0, n+1)\n",
    "#         val = (-1.0/c)**n * sum(comb(n, k)*(-1)**k / (1.0-c*k), axis=0)\n",
    "#         return where(c*n < 1, val, inf)\n",
    "\n",
    "#     def _entropy(self, c):\n",
    "#         if (c > 0):\n",
    "#             return 1+c\n",
    "#         else:\n",
    "#             self.b = -1.0 / c\n",
    "#             return rv_continuous._entropy(self, c)\n",
    "GPD = GPD_gen(a=0.0, name='GPD') # we specify the support [a,b], no b means b = infinity"
   ]
  },
  {
   "cell_type": "code",
   "execution_count": 4,
   "metadata": {},
   "outputs": [],
   "source": [
    "x = np.linspace(0, 100, 100)"
   ]
  },
  {
   "cell_type": "code",
   "execution_count": 35,
   "metadata": {},
   "outputs": [],
   "source": [
    "# what values are to be given to alpha2, beta ? maybe we should try it for several different values ?\n",
    "alpha2 = 3\n",
    "beta = 4# alpha2"
   ]
  },
  {
   "cell_type": "code",
   "execution_count": 36,
   "metadata": {},
   "outputs": [],
   "source": [
    "y1 = f.cdf(x, 2, 2 * alpha2, loc=0, scale=1)"
   ]
  },
  {
   "cell_type": "code",
   "execution_count": 37,
   "metadata": {},
   "outputs": [],
   "source": [
    "y2 = GPD.cdf(x, alpha2, beta)"
   ]
  },
  {
   "cell_type": "code",
   "execution_count": 38,
   "metadata": {},
   "outputs": [
    {
     "data": {
      "text/plain": [
       "array([1.33311122, 1.32871254, 1.32439564, 1.32015851, 1.31599919,\n",
       "       1.31191581, 1.30790652, 1.30396956, 1.30010321, 1.29630579,\n",
       "       1.29257569, 1.28891133, 1.28531119, 1.28177379, 1.27829768,\n",
       "       1.27488148, 1.27152382, 1.26822339, 1.26497891, 1.26178913,\n",
       "       1.25865284, 1.25556887, 1.25253606, 1.24955332, 1.24661955,\n",
       "       1.24373371, 1.24089477, 1.23810172, 1.23535361, 1.23264949,\n",
       "       1.22998844, 1.22736955, 1.22479197, 1.22225483, 1.21975731,\n",
       "       1.21729861, 1.21487794, 1.21249453, 1.21014763, 1.20783652,\n",
       "       1.20556048, 1.20331883, 1.20111089, 1.19893599, 1.19679351,\n",
       "       1.1946828 , 1.19260326, 1.19055428, 1.1885353 , 1.18654573])"
      ]
     },
     "execution_count": 38,
     "metadata": {},
     "output_type": "execute_result"
    }
   ],
   "source": [
    "np.divide(y1, y2)"
   ]
  },
  {
   "cell_type": "code",
   "execution_count": 39,
   "metadata": {},
   "outputs": [
    {
     "data": {
      "image/png": "[encoded data removed]",
      "text/plain": [
       "<Figure size 432x288 with 1 Axes>"
      ]
     },
     "metadata": {},
     "output_type": "display_data"
    }
   ],
   "source": [
    "plt.plot(x, y1, 'r', label='Fisher')\n",
    "plt.plot(x, y2, 'b', label='GPD')\n",
    "plt.xlabel('x')\n",
    "plt.ylabel('value of cdf')\n",
    "plt.legend()\n",
    "plt.title('Comparison of CDF of Fisher(1, alpha2, beta) and GPD(alpha2, beta) ')\n",
    "plt.show()"
   ]
  },
  {
   "cell_type": "code",
   "execution_count": 40,
   "metadata": {},
   "outputs": [],
   "source": [
    "# here we compare the inverse survival functions for GPD and Fisher\n",
    "# isf for GPD is g(x) = beta * (x ^ ( - 1 / alpha ) - 1 )"
   ]
  },
  {
   "cell_type": "code",
   "execution_count": 41,
   "metadata": {},
   "outputs": [],
   "source": [
    "x = np.arange(0.001,1,0.02)"
   ]
  },
  {
   "cell_type": "code",
   "execution_count": 51,
   "metadata": {},
   "outputs": [],
   "source": [
    "y3 =  f.isf(x, 2, 2 * alpha2, loc=0, scale=beta / alpha2)"
   ]
  },
  {
   "cell_type": "code",
   "execution_count": 52,
   "metadata": {},
   "outputs": [],
   "source": [
    "def GPD_isf(x, alpha, beta):\n",
    "    return beta * ( pow(x , - 1 / asarray(alpha) ) - 1 )"
   ]
  },
  {
   "cell_type": "code",
   "execution_count": 53,
   "metadata": {},
   "outputs": [],
   "source": [
    "y4 = GPD_isf(x, alpha2, beta)"
   ]
  },
  {
   "cell_type": "code",
   "execution_count": 54,
   "metadata": {},
   "outputs": [
    {
     "data": {
      "image/png": "[encoded data removed]",
      "text/plain": [
       "<Figure size 432x288 with 1 Axes>"
      ]
     },
     "metadata": {},
     "output_type": "display_data"
    }
   ],
   "source": [
    "plt.plot(x, y3, 'r', label='Fisher isf')\n",
    "plt.plot(x, y4, 'b', label='GPD isf')\n",
    "plt.xlabel('x')\n",
    "plt.ylabel('value of isf')\n",
    "plt.legend()\n",
    "plt.title('Comparison of ISF of Fisher(1, alpha2, beta) and GPD(alpha2, beta) ')\n",
    "plt.show()"
   ]
  },
  {
   "cell_type": "code",
   "execution_count": 55,
   "metadata": {},
   "outputs": [
    {
     "data": {
      "text/plain": [
       "array([1., 1., 1., 1., 1., 1., 1., 1., 1., 1., 1., 1., 1., 1., 1., 1., 1.,\n",
       "       1., 1., 1., 1., 1., 1., 1., 1., 1., 1., 1., 1., 1., 1., 1., 1., 1.,\n",
       "       1., 1., 1., 1., 1., 1., 1., 1., 1., 1., 1., 1., 1., 1., 1., 1.])"
      ]
     },
     "execution_count": 55,
     "metadata": {},
     "output_type": "execute_result"
    }
   ],
   "source": [
    "np.divide(y3,y4)"
   ]
  },
  {
   "cell_type": "code",
   "execution_count": null,
   "metadata": {},
   "outputs": [],
   "source": []
  },
  {
   "cell_type": "code",
   "execution_count": null,
   "metadata": {},
   "outputs": [],
   "source": []
  }
 ],
 "metadata": {
  "kernelspec": {
   "display_name": "Python 3",
   "language": "python",
   "name": "python3"
  },
  "language_info": {
   "codemirror_mode": {
    "name": "ipython",
    "version": 3
   },
   "file_extension": ".py",
   "mimetype": "text/x-python",
   "name": "python",
   "nbconvert_exporter": "python",
   "pygments_lexer": "ipython3",
   "version": "3.5.4"
  }
 },
 "nbformat": 4,
 "nbformat_minor": 2
}
