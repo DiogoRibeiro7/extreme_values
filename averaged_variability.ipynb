{
 "cells": [
  {
   "cell_type": "code",
   "execution_count": 1,
   "metadata": {},
   "outputs": [],
   "source": [
    "import numpy as np\n",
    "import matplotlib.pyplot as plt\n",
    "import pystan\n",
    "from pystan import StanModel \n",
    "from numpy import polyval, place, extract, any, asarray, nan, inf, pi\n",
    "from numpy import (where, arange, putmask, ravel, sum, shape,\n",
    "                   log, sqrt, exp, arctanh, tan, sin, arcsin, arctan,\n",
    "                   tanh, cos, cosh, sinh, log1p, expm1)\n",
    "\n",
    "from scipy.stats import rv_continuous\n",
    "from scipy.stats import f\n",
    "from prettytable import PrettyTable\n",
    "\n",
    "\n",
    "class frechet_gen(rv_continuous):\n",
    "#     def _argcheck(self, c):\n",
    "#         c = asarray(c)\n",
    "#         self.b = where(c < 0, 1.0/abs(c), inf)\n",
    "#         return where(c == 0, 0, 1)\n",
    "\n",
    "#     def _pdf(self, x, alpha1, alpha2, beta):\n",
    "#         Px = 1 / beta / ss.beta(alpha1, alpha2) * pow(x/beta, asarray(alpha1-1.0)) * pow(1 + x/beta, asarray(- alpha1 - alpha2))\n",
    "#         return Px\n",
    "\n",
    "#     def _logpdf(self, x, alpha1, alpha2, beta):\n",
    "#         return (alpha1 - 1) * np.log(x) - alpha1 * np.log(beta) - np.log(ss.beta(alpha1, alpha2)) - (alpha1 + alpha2) * np.log(1 + x/beta)\n",
    "\n",
    "    def _cdf(self, x, beta):\n",
    "        return exp(-pow(x, -1/beta))\n",
    "#     def _ppf(self, q, c):\n",
    "#         vals = 1.0/c * (pow(1-q, -c)-1)\n",
    "#         return vals\n",
    "\n",
    "#     def _munp(self, n, c):\n",
    "#         k = arange(0, n+1)\n",
    "#         val = (-1.0/c)**n * sum(comb(n, k)*(-1)**k / (1.0-c*k), axis=0)\n",
    "#         return where(c*n < 1, val, inf)\n",
    "\n",
    "#     def _entropy(self, c):\n",
    "#         if (c > 0):\n",
    "#             return 1+c\n",
    "#         else:\n",
    "#             self.b = -1.0 / c\n",
    "#             return rv_continuous._entropy(self, c)\n",
    "frechet = frechet_gen(a=0.0, name='frechet') # we specify the support [a,b], no b means b = infinity"
   ]
  },
  {
   "cell_type": "code",
   "execution_count": 2,
   "metadata": {},
   "outputs": [],
   "source": [
    "GPD = \"\"\"\n",
    "functions {\n",
    "  real myGPD_lpdf(real y, real alpha, real beta) {\n",
    "      return -(alpha + 1)*( log(1+y/beta) )+(log(alpha) - log(beta));\n",
    "  }\n",
    "  real myBetaPrior_lpdf(real x, real beta) {\n",
    "      return -log(beta); // log(1/beta) = log(1) - log(beta) = - log(beta)\n",
    "  }\n",
    "}\n",
    "data { \n",
    "  int N;\n",
    "  real y[N]; // points sampled from gpd in python with some(known) parameters, by mcmc we recover true values of those params\n",
    "}\n",
    "parameters { \n",
    "  real alpha;\n",
    "  real beta;\n",
    "}\n",
    "model {\n",
    "  // Priors; no priors - we assume improper priors on params\n",
    "  alpha ~ gamma(1,1);\n",
    "  beta ~ gamma(1,1);\n",
    "\n",
    "// Likelihood\n",
    "  for(n in 1:N) {\n",
    "    target += myGPD_lpdf( y[n] | alpha, beta );\n",
    "  }\n",
    "}\n",
    "generated quantities{}\n",
    "\"\"\""
   ]
  },
  {
   "cell_type": "code",
   "execution_count": 3,
   "metadata": {},
   "outputs": [],
   "source": [
    "Fisher = \"\"\"\n",
    "functions { \n",
    " real myFisher_lpdf(real y, real alpha1, real alpha2, real beta) {\n",
    "      return -lbeta(alpha1,alpha2)-log(beta)+(alpha1-1)*log(y/beta)-(alpha1+alpha2)*log(1+y/beta);\n",
    "  }\n",
    "}\n",
    "data { \n",
    "  int N;\n",
    "  real y[N]; \n",
    "}\n",
    "parameters { \n",
    "  //parameters of the Fisher\n",
    "  real<lower=0> alpha1;\n",
    "  real<lower=0> alpha2;\n",
    "  real<lower=0> beta; \n",
    "}\n",
    "model {\n",
    "  // when we deliberately do not specify priors then Stan works with improper priors\n",
    "  alpha1 ~ gamma(1,1);\n",
    "  alpha2 ~ gamma(1,1);\n",
    "  beta ~ gamma(1,1);\n",
    "   // Likelihood\n",
    "  for(n in 1:N) {\n",
    "    target += myFisher_lpdf( y[n] |alpha1, alpha2, beta);\n",
    "  }\n",
    "}\n",
    "generated quantities{}\n",
    "\"\"\""
   ]
  },
  {
   "cell_type": "code",
   "execution_count": 4,
   "metadata": {},
   "outputs": [],
   "source": [
    "q = [0.98, 0.99, 0.995, 0.999, 0.9995]\n",
    "beta = 1/2\n",
    "quant_th = np.zeros(len(q))\n",
    "for i in range(len(q)):\n",
    "    quant_th[i] = pow(-log(q[i]), -beta)\n",
    "\n",
    "def quantiles_GPD(excesses, k, u): \n",
    "    \"\"\" \n",
    "    we forward to function array of the quantiles as excesses, the number of excesses, k, and the border value u\n",
    "    \"\"\"\n",
    "    quant_GPD = np.zeros(len(q)) \n",
    "    bayesian_quant_GPD = np.zeros(len(q))\n",
    "\n",
    "    # here we fit GPD to excesses via PyStan\n",
    "    data = dict(N = k,  y = excesses) \n",
    "    fit = StanModel(model_code=GPD).sampling(data=data,iter=1000,warmup=200, chains=1) \n",
    "    \n",
    "    # we save the params from the fit to calculate GPD quantiles and their traceplots to calculate Bayesian GPD quantiles\n",
    "    traceplot_beta_GPD = list(fit.extract().values())[1].tolist() \n",
    "    traceplot_alpha = list(fit.extract().values())[0].tolist()\n",
    "    traceplot_gamma = np.divide(np.ones(len(traceplot_alpha)), traceplot_alpha)\n",
    "    beta_GPD = np.mean(list(fit.extract().values())[1].tolist())\n",
    "    alpha = np.mean(list(fit.extract().values())[0].tolist())\n",
    "    gamma = 1 / alpha \n",
    "    \n",
    "    for i in range(len(q)):\n",
    "        quant_GPD[i] = u + beta_GPD*( pow( N * (1-q[i]) / k, -gamma ) - 1 ) \n",
    "        for j in range(len(traceplot_gamma)):\n",
    "                bayesian_quant_GPD[i] += u + traceplot_beta_GPD[j] * (pow( N * (1 - q[i]) / k, - traceplot_gamma[j] ) - 1)\n",
    "    bayesian_quant_GPD = bayesian_quant_GPD / len(traceplot_gamma)\n",
    "    list_of_params = [alpha, beta_GPD]\n",
    "    return(quant_GPD, bayesian_quant_GPD, list_of_params ) # it return arrays: quant_GPD, bayesian_quant_GPD and values alpha, beta_GPD\n",
    "\n",
    "def quantiles_Fisher(excesses, k, u):\n",
    "    quant_Fisher = np.zeros(len(q)) \n",
    "    bayesian_quant_Fisher = np.zeros(len(q))\n",
    "    \n",
    "    # here we fit GPD to excesses via PyStan\n",
    "    data = dict(N = k,  y = excesses) \n",
    "    fit = StanModel(model_code=Fisher).sampling(data=data,iter=1000,warmup=200, chains=1) \n",
    "    \n",
    "    # we save the params from the fit to calculate Fisher quantiles and their traceplots to calculate Bayesian Fisher quantiles\n",
    "    traceplot_beta = list(fit.extract().values())[2].tolist()\n",
    "    traceplot_alpha1 = list(fit.extract().values())[1].tolist()\n",
    "    traceplot_alpha2 = list(fit.extract().values())[0].tolist()\n",
    "    beta = np.mean(list(fit.extract().values())[2].tolist())\n",
    "    alpha2 = np.mean(list(fit.extract().values())[1].tolist())\n",
    "    alpha1 = np.mean(list(fit.extract().values())[0].tolist())\n",
    "    beta0 = alpha2/alpha1\n",
    "    \n",
    "    for i in range(len(q)):\n",
    "        quant_Fisher[i] = u + beta0 / beta * f.isf(N / k * (1-q[i]), 2 * alpha1, 2 * alpha2, loc=0, scale=1)\n",
    "        for j in range(len(traceplot_alpha1)):\n",
    "                bayesian_quant_Fisher[i] += u + traceplot_alpha2[j] / traceplot_alpha1[j] / traceplot_beta[j] * f.isf(N / k *(1- q[i]), 2 * traceplot_alpha1[j], 2 * traceplot_alpha2[j], loc=0, scale=1)\n",
    "    bayesian_quant_Fisher = bayesian_quant_Fisher / len(traceplot_alpha1)\n",
    "    list_of_params = [alpha1, alpha2, beta]\n",
    "    return(quant_Fisher, bayesian_quant_Fisher, list_of_params) \n",
    "# it return arrays: quant_Fisher, bayesian_quant_Fisher and values of params as a list\n"
   ]
  },
  {
   "cell_type": "code",
   "execution_count": 5,
   "metadata": {},
   "outputs": [],
   "source": [
    "def plot_table(k, averaged_bayesian_quant_Fisher, averaged_quant_Fisher, averaged_bayesian_quant_GPD, averaged_quant_GPD):\n",
    "    m = \"3\" # how much we round\n",
    "    rounding = \"%.\" + m + \"f\"\n",
    "    m = int(m)\n",
    "    t_quantiles = PrettyTable([\"# of excesses k = \" +  str(k),  \n",
    "                               'mean', \n",
    "                               'sd',\n",
    "                               str(q[0] * 100) + \"%\", \n",
    "                               str(q[1] * 100) + \"%\",\n",
    "                               str(q[2] * 100) + \"%\",\n",
    "                               str(q[3] * 100) + \"%\",\n",
    "                               str(q[4] * 100) + \"%\"])\n",
    "    t_quantiles.add_row(['theoretically', '--', '--',\n",
    "                         rounding % round(quant_th[0],m),  \n",
    "                         rounding % round(quant_th[1], m), \n",
    "                         rounding % round(quant_th[2], m),\n",
    "                         rounding % round(quant_th[3], m),\n",
    "                         rounding % round(quant_th[4], m) ])\n",
    "    t_quantiles.add_row(['Bayes Fisher',  '--', '--',\n",
    "                         rounding % round(averaged_bayesian_quant_Fisher[0],m),  \n",
    "                         rounding % round(averaged_bayesian_quant_Fisher[1], m), \n",
    "                         rounding % round(averaged_bayesian_quant_Fisher[2], m),\n",
    "                         rounding % round(averaged_bayesian_quant_Fisher[3], m),\n",
    "                         rounding % round(averaged_bayesian_quant_Fisher[4], m) ])\n",
    "    t_quantiles.add_row(['Fisher',  '--', '--',\n",
    "                         rounding % round(averaged_quant_Fisher[0],m),  \n",
    "                         rounding % round(averaged_quant_Fisher[1], m), \n",
    "                         rounding % round(averaged_quant_Fisher[2], m),\n",
    "                         rounding % round(averaged_quant_Fisher[3], m),\n",
    "                         rounding % round(averaged_quant_Fisher[4], m) ])\n",
    "    t_quantiles.add_row(['Bayes GPD', '--', '--',\n",
    "                         rounding % round(averaged_bayesian_quant_GPD[0],m),  \n",
    "                         rounding % round(averaged_bayesian_quant_GPD[1], m), \n",
    "                         rounding % round(averaged_bayesian_quant_GPD[2], m),\n",
    "                         rounding % round(averaged_bayesian_quant_GPD[3], m),\n",
    "                         rounding % round(averaged_bayesian_quant_GPD[4], m) ])\n",
    "    t_quantiles.add_row(['GPD',  '--', '--',\n",
    "                         rounding % round(averaged_quant_GPD[0],m),  \n",
    "                         rounding % round(averaged_quant_GPD[1], m), \n",
    "                         rounding % round(averaged_quant_GPD[2], m),\n",
    "                         rounding % round(averaged_quant_GPD[3], m),\n",
    "                         rounding % round(averaged_quant_GPD[4], m) ])\n",
    "    return(print(t_quantiles))"
   ]
  },
  {
   "cell_type": "code",
   "execution_count": 6,
   "metadata": {},
   "outputs": [],
   "source": [
    "def plot_variability(jump_excesses, method, quantile_level, title):\n",
    "    plt.plot(jump_excesses, method )\n",
    "    plt.xlabel('number of excesses')\n",
    "    plt.ylabel('value of quantile at level ' + str(quantile_level))\n",
    "    plt.title('Variability of quantile at level ' + str(quantile_level) + ' obtained with: ' + title )\n",
    "    return(plt.show())"
   ]
  },
  {
   "cell_type": "code",
   "execution_count": 7,
   "metadata": {},
   "outputs": [],
   "source": [
    "def k_greatest_values_matrices(a,k):\n",
    "    \"\"\"returns k greatest elements from the list a and k - 1 value starting from which we consider greater values as extremes\"\"\"\n",
    "    # we prepare the matrix for the excesses, the last value of 1 could be substituted by any value within the range\n",
    "    mat = np.zeros( len(a[-1 - k + 1 : , 1] ) ) \n",
    "    # we prepare the vector in which we will return u values for each dataset in column of a\n",
    "    u = np.zeros(len(r[0 , : ] )) \n",
    "    for i in range(len(a[0,:])): \n",
    "        # index i goes through the columns, instead of len(a[0,:]) there could be len(a[i,:]) for i in range of columns\n",
    "        u[i] = a[-1 - k, i] \n",
    "        # u is a list of values s.t. bigger values are considered as excesses, for each set of data, i.e. for each column we save an u value\n",
    "        mat = np.column_stack( (mat,a[ -1 - k + 1 : , i]) ) \n",
    "    # in mat matrix we return the values of excesses but not yet transformed (y_i = x_i - u)\n",
    "    return(mat, u) # u is the starting value from which we consider others as excesses"
   ]
  },
  {
   "cell_type": "code",
   "execution_count": 22,
   "metadata": {},
   "outputs": [],
   "source": [
    "n = 3 # number of sampled dataset over which we average the quantiles\n",
    "N, beta = 1000,  1/2\n",
    "\n",
    "r = frechet.rvs(beta, size=N)\n",
    "for i in range(n):\n",
    "    r = np.column_stack( (r, frechet.rvs(beta, size=N) ) ) \n",
    "\n",
    "# we need to sort in increasing order sampled data\n",
    "for i in range(len(r[0,:])):\n",
    "    r[:,i] = np.sort(r[:,i], axis=None)"
   ]
  },
  {
   "cell_type": "code",
   "execution_count": 24,
   "metadata": {},
   "outputs": [
    {
     "name": "stderr",
     "output_type": "stream",
     "text": [
      "INFO:pystan:COMPILING THE C++ CODE FOR MODEL anon_model_8b0d170e9e6b140cbdd27db918a83514 NOW.\n",
      "C:\\Users\\Michal Lewandowski\\Anaconda3\\envs\\py35\\lib\\site-packages\\pystan\\misc.py:399: FutureWarning: Conversion of the second argument of issubdtype from `float` to `np.floating` is deprecated. In future, it will be treated as `np.float64 == np.dtype(float).type`.\n",
      "  elif np.issubdtype(np.asarray(v).dtype, float):\n",
      "INFO:pystan:COMPILING THE C++ CODE FOR MODEL anon_model_ecbac65cce1d714e75f45a634ba1d39a NOW.\n",
      "INFO:pystan:COMPILING THE C++ CODE FOR MODEL anon_model_8b0d170e9e6b140cbdd27db918a83514 NOW.\n"
     ]
    },
    {
     "name": "stdout",
     "output_type": "stream",
     "text": [
      "\n",
      " quant_Fisher : \n",
      "  [ 5.53632968  6.65613117  8.71777731 22.91608746 38.77082968] \n",
      " bayesian_quant_Fisher: \n",
      " [nan nan nan nan nan]\n",
      "\n",
      " averaged_quant_GPD \n",
      "  [  7.27520071  11.03934251  17.85611558  63.07565526 112.09266506] \n",
      " averaged_bayesian_quant_GPD \n",
      " [  7.30580556  11.37906786  19.48403136  91.57521714 198.57112265]\n"
     ]
    },
    {
     "name": "stderr",
     "output_type": "stream",
     "text": [
      "INFO:pystan:COMPILING THE C++ CODE FOR MODEL anon_model_ecbac65cce1d714e75f45a634ba1d39a NOW.\n",
      "INFO:pystan:COMPILING THE C++ CODE FOR MODEL anon_model_8b0d170e9e6b140cbdd27db918a83514 NOW.\n"
     ]
    },
    {
     "name": "stdout",
     "output_type": "stream",
     "text": [
      "\n",
      " quant_Fisher : \n",
      "  [ 5.37736524  7.12087252 10.47226662 35.34030592 64.71554312] \n",
      " bayesian_quant_Fisher: \n",
      " [nan nan nan nan nan]\n",
      "\n",
      " averaged_quant_GPD \n",
      "  [ 13.26320543  19.73189703  31.72654608 115.07706801 208.87815102] \n",
      " averaged_bayesian_quant_GPD \n",
      " [ 13.3106329   20.35882045  34.93261365 182.03005205 438.57016917]\n"
     ]
    },
    {
     "name": "stderr",
     "output_type": "stream",
     "text": [
      "INFO:pystan:COMPILING THE C++ CODE FOR MODEL anon_model_ecbac65cce1d714e75f45a634ba1d39a NOW.\n",
      "INFO:pystan:COMPILING THE C++ CODE FOR MODEL anon_model_8b0d170e9e6b140cbdd27db918a83514 NOW.\n"
     ]
    },
    {
     "name": "stdout",
     "output_type": "stream",
     "text": [
      "\n",
      " quant_Fisher : \n",
      "  [ 4.81746758  5.34075707  6.0743885   9.20392    11.58343349] \n",
      " bayesian_quant_Fisher: \n",
      " [ 5.16908707  6.03061958  7.21413341 12.17441468 15.96635572]\n",
      "\n",
      " averaged_quant_GPD \n",
      "  [ 20.18847597  29.9021649   46.78390789 153.22774215 266.07510789] \n",
      " averaged_bayesian_quant_GPD \n",
      " [ 20.28062329  30.77692743  50.83393669 227.93752162 513.74391683]\n",
      "\n",
      " averaged_quant_Fisher: \n",
      " [ 4.81746758  5.34075707  6.0743885   9.20392    11.58343349]\n",
      "\n",
      " averaged_bayesian_quant_Fisher: \n",
      " [ 5.16908707  6.03061958  7.21413341 12.17441468 15.96635572]\n",
      "\n",
      " counter: \n",
      " 1\n",
      "quant_Fisher \n",
      "  [ 4.81746758  5.34075707  6.0743885   9.20392    11.58343349] bayesian_quant_Fisher \n",
      "  [ 5.16908707  6.03061958  7.21413341 12.17441468 15.96635572]\n",
      "+----------------------+------+----+--------+--------+--------+---------+---------+\n",
      "| # of excesses k = 50 | mean | sd | 98.0%  | 99.0%  | 99.5%  |  99.9%  |  99.95% |\n",
      "+----------------------+------+----+--------+--------+--------+---------+---------+\n",
      "|    theoretically     |  --  | -- | 7.036  | 9.975  | 14.124 |  31.615 |  44.716 |\n",
      "|     Bayes Fisher     |  --  | -- | 5.169  | 6.031  | 7.214  |  12.174 |  15.966 |\n",
      "|        Fisher        |  --  | -- | 4.817  | 5.341  | 6.074  |  9.204  |  11.583 |\n",
      "|      Bayes GPD       |  --  | -- | 20.281 | 30.777 | 50.834 | 227.938 | 513.744 |\n",
      "|         GPD          |  --  | -- | 20.188 | 29.902 | 46.784 | 153.228 | 266.075 |\n",
      "+----------------------+------+----+--------+--------+--------+---------+---------+\n",
      " Current number of excesses k = 50 \n",
      " averaged_params_GPD:  [3.92718105 7.1022713 ] \n",
      " averaged_params_Fisher:  [1.97242744 1.93902966 2.26349197]\n"
     ]
    },
    {
     "name": "stderr",
     "output_type": "stream",
     "text": [
      "INFO:pystan:COMPILING THE C++ CODE FOR MODEL anon_model_ecbac65cce1d714e75f45a634ba1d39a NOW.\n",
      "INFO:pystan:COMPILING THE C++ CODE FOR MODEL anon_model_8b0d170e9e6b140cbdd27db918a83514 NOW.\n"
     ]
    },
    {
     "name": "stdout",
     "output_type": "stream",
     "text": [
      "\n",
      " quant_Fisher : \n",
      "  [ 7.46840513 11.04526745 16.37082539 41.03016192 61.02630949] \n",
      " bayesian_quant_Fisher: \n",
      " [  6.5769849   11.11425424  19.63071834  81.07426484 153.01539309]\n",
      "\n",
      " averaged_quant_GPD \n",
      "  [ 28.13866561  41.56644066  63.83228984 194.027513   325.35961338] \n",
      " averaged_bayesian_quant_GPD \n",
      " [ 28.33798763  42.74423851  68.60823524 272.77674942 580.86246538]\n"
     ]
    },
    {
     "name": "stderr",
     "output_type": "stream",
     "text": [
      "INFO:pystan:COMPILING THE C++ CODE FOR MODEL anon_model_ecbac65cce1d714e75f45a634ba1d39a NOW.\n",
      "INFO:pystan:COMPILING THE C++ CODE FOR MODEL anon_model_8b0d170e9e6b140cbdd27db918a83514 NOW.\n"
     ]
    },
    {
     "name": "stdout",
     "output_type": "stream",
     "text": [
      "\n",
      " quant_Fisher : \n",
      "  [ 7.56027998 10.86389074 15.55253377 35.46610282 50.46979427] \n",
      " bayesian_quant_Fisher: \n",
      " [  5.79562609  10.03862806  18.56885226  88.49779242 178.42858986]\n",
      "\n",
      " averaged_quant_GPD \n",
      "  [ 34.89278397  51.0819811   77.20956909 223.37960945 366.47752623] \n",
      " averaged_bayesian_quant_GPD \n",
      " [ 35.18310353  52.5008772   82.53190038 304.83055444 626.96746607]\n"
     ]
    },
    {
     "name": "stderr",
     "output_type": "stream",
     "text": [
      "INFO:pystan:COMPILING THE C++ CODE FOR MODEL anon_model_ecbac65cce1d714e75f45a634ba1d39a NOW.\n",
      "INFO:pystan:COMPILING THE C++ CODE FOR MODEL anon_model_8b0d170e9e6b140cbdd27db918a83514 NOW.\n"
     ]
    },
    {
     "name": "stdout",
     "output_type": "stream",
     "text": [
      "\n",
      " quant_Fisher : \n",
      "  [ 7.67179619 10.99779558 15.73210692 35.95026861 51.25633474] \n",
      " bayesian_quant_Fisher: \n",
      " [  6.293844    10.67017786  19.14265816  84.00434266 163.45738569]\n",
      "\n",
      " averaged_quant_GPD \n",
      "  [ 41.813361    60.90343663  91.1507125  254.83732695 411.14544653] \n",
      " averaged_bayesian_quant_GPD \n",
      " [ 42.20628061  62.60612978  97.1390904  339.83027589 678.37571425]\n",
      "\n",
      " averaged_quant_Fisher: \n",
      " [12.48926377 16.33855265 21.80649542 45.15418862 62.83976823]\n",
      "\n",
      " averaged_bayesian_quant_Fisher: \n",
      " [ 11.46293106  16.70079744  26.35679157  96.17875733 179.42374141]\n",
      "\n",
      " counter: \n",
      " 2\n",
      "quant_Fisher \n",
      "  [ 6.24463189  8.16927633 10.90324771 22.57709431 31.41988411] bayesian_quant_Fisher \n",
      "  [ 5.73146553  8.35039872 13.17839579 48.08937867 89.71187071]\n",
      "+-----------------------+------+----+--------+--------+--------+---------+---------+\n",
      "| # of excesses k = 275 | mean | sd | 98.0%  | 99.0%  | 99.5%  |  99.9%  |  99.95% |\n",
      "+-----------------------+------+----+--------+--------+--------+---------+---------+\n",
      "|     theoretically     |  --  | -- | 7.036  | 9.975  | 14.124 |  31.615 |  44.716 |\n",
      "|      Bayes Fisher     |  --  | -- | 5.731  | 8.350  | 13.178 |  48.089 |  89.712 |\n",
      "|         Fisher        |  --  | -- | 6.245  | 8.169  | 10.903 |  22.577 |  31.420 |\n",
      "|       Bayes GPD       |  --  | -- | 21.103 | 31.303 | 48.570 | 169.915 | 339.188 |\n",
      "|          GPD          |  --  | -- | 20.907 | 30.452 | 45.575 | 127.419 | 205.573 |\n",
      "+-----------------------+------+----+--------+--------+--------+---------+---------+\n",
      " Current number of excesses k = 275 \n",
      " averaged_params_GPD:  [4.91840477 6.45668374] \n",
      " averaged_params_Fisher:  [1.51252472 1.95052641 2.00727061]\n"
     ]
    },
    {
     "name": "stderr",
     "output_type": "stream",
     "text": [
      "INFO:pystan:COMPILING THE C++ CODE FOR MODEL anon_model_ecbac65cce1d714e75f45a634ba1d39a NOW.\n",
      "INFO:pystan:COMPILING THE C++ CODE FOR MODEL anon_model_8b0d170e9e6b140cbdd27db918a83514 NOW.\n"
     ]
    },
    {
     "name": "stdout",
     "output_type": "stream",
     "text": [
      "\n",
      " quant_Fisher : \n",
      "  [11.20436636 16.51223734 24.10207192 56.77514189 81.67910128] \n",
      " bayesian_quant_Fisher: \n",
      " [  9.87040534  18.33411945  34.82582168 161.6390533  316.62539743]\n",
      "\n",
      " averaged_quant_GPD \n",
      "  [ 28.80124946  41.91236379  62.13195323 165.88511714 260.72083327] \n",
      " averaged_bayesian_quant_GPD \n",
      " [ 29.1240371   43.06510427  65.7752019  211.46934969 400.03210711]\n"
     ]
    },
    {
     "name": "stderr",
     "output_type": "stream",
     "text": [
      "INFO:pystan:COMPILING THE C++ CODE FOR MODEL anon_model_ecbac65cce1d714e75f45a634ba1d39a NOW.\n",
      "INFO:pystan:COMPILING THE C++ CODE FOR MODEL anon_model_8b0d170e9e6b140cbdd27db918a83514 NOW.\n"
     ]
    },
    {
     "name": "stdout",
     "output_type": "stream",
     "text": [
      "\n",
      " quant_Fisher : \n",
      "  [10.0826016  14.23464737 19.89271816 42.25700322 58.09296357] \n",
      " bayesian_quant_Fisher: \n",
      " [  7.74559421  13.21315226  23.07694862  88.5523706  159.98187685]\n",
      "\n",
      " averaged_quant_GPD \n",
      "  [ 35.57606602  51.18624235  74.72892901 191.05363788 294.45351578] \n",
      " averaged_bayesian_quant_GPD \n",
      " [ 35.96882134  52.49494207  78.68481681 237.88778437 435.89923338]\n"
     ]
    },
    {
     "name": "stderr",
     "output_type": "stream",
     "text": [
      "INFO:pystan:COMPILING THE C++ CODE FOR MODEL anon_model_ecbac65cce1d714e75f45a634ba1d39a NOW.\n"
     ]
    },
    {
     "name": "stdout",
     "output_type": "stream",
     "text": [
      "\n",
      " quant_Fisher : \n",
      "  [10.3634656  14.74064322 20.74796787 44.78645806 61.9897194 ] \n",
      " bayesian_quant_Fisher: \n",
      " [  8.2800654   14.88447747  27.52442119 121.35575832 232.92008513]\n",
      "\n",
      " averaged_quant_GPD \n",
      "  [ 42.49879377  60.75723981  87.87955522 218.1438056  331.28455692] \n",
      " averaged_bayesian_quant_GPD \n",
      " [ 42.98287834  62.26993405  92.24795799 266.68067163 475.68710814]\n",
      "\n",
      " averaged_quant_Fisher: \n",
      " [16.60809748 22.90991954 31.65121557 67.36355236 93.40960351]\n",
      "\n",
      " averaged_bayesian_quant_Fisher: \n",
      " [ 14.01153094  23.23487619  40.70281697 169.44513699 322.63195583]\n",
      "\n",
      " counter: \n",
      " 3\n",
      "quant_Fisher \n",
      "  [ 5.53603249  7.63663985 10.55040519 22.45451745 31.1365345 ] bayesian_quant_Fisher \n",
      "  [  4.67051031   7.74495873  13.56760566  56.48171233 107.54398528]\n",
      "+-----------------------+------+----+--------+--------+--------+--------+---------+\n",
      "| # of excesses k = 500 | mean | sd | 98.0%  | 99.0%  | 99.5%  | 99.9%  |  99.95% |\n",
      "+-----------------------+------+----+--------+--------+--------+--------+---------+\n",
      "|     theoretically     |  --  | -- | 7.036  | 9.975  | 14.124 | 31.615 |  44.716 |\n",
      "|      Bayes Fisher     |  --  | -- | 4.671  | 7.745  | 13.568 | 56.482 | 107.544 |\n",
      "|         Fisher        |  --  | -- | 5.536  | 7.637  | 10.550 | 22.455 |  31.137 |\n",
      "|       Bayes GPD       |  --  | -- | 14.328 | 20.757 | 30.749 | 88.894 | 158.562 |\n",
      "|          GPD          |  --  | -- | 14.166 | 20.252 | 29.293 | 72.715 | 110.428 |\n",
      "+-----------------------+------+----+--------+--------+--------+--------+---------+\n",
      " Current number of excesses k = 500 \n",
      " averaged_params_GPD:  [3.86415695 3.97213272] \n",
      " averaged_params_Fisher:  [0.86173631 1.37956322 1.21023191]\n"
     ]
    }
   ],
   "source": [
    "how_many_different_thresholds = 3\n",
    "min_thresholds = 50\n",
    "max_thresholds = N / 2\n",
    "# astype function converts the values in the array to integers\n",
    "jump_excesses = np.linspace(min_thresholds, max_thresholds, how_many_different_thresholds).astype(int) \n",
    "\n",
    "number_of_GPD_params = 2\n",
    "number_of_Fisher_params = 3\n",
    "\n",
    "averaged_params_GPD, averaged_params_Fisher =  np.zeros(number_of_GPD_params), np.zeros(number_of_Fisher_params)\n",
    "\n",
    "averaged_quant_GPD, averaged_bayesian_quant_GPD = np.zeros(len(q)), np.zeros(len(q))\n",
    "averaged_quant_Fisher, averaged_bayesian_quant_Fisher = np.zeros(len(q)), np.zeros(len(q))\n",
    "\n",
    "# we initialize the matrices of quantiles with row of zeros\n",
    "concatenated_averaged_quant_GPD, concatenated_averaged_bayesian_quant_GPD = np.zeros(len(q)), np.zeros(len(q))\n",
    "concatenated_averaged_quant_Fisher, concatenated_averaged_bayesian_quant_Fisher = np.zeros(len(q)), np.zeros(len(q))\n",
    "\n",
    "counter = 0 # counter to normalize over the values of parameters\n",
    "\n",
    "for j in range(len(jump_excesses)): # for different threshold of excesses\n",
    "    k = jump_excesses[j]\n",
    "    \n",
    "    # in data frechet we keep the matrix of excesses\n",
    "    # transferred r is a matrix with n sampled dataset from Frechet\n",
    "    \n",
    "    data_frechet, u = k_greatest_values_matrices(r,k) \n",
    "\n",
    "    # delete first column (indexed by 0) of a matrix A, to match the sizes \n",
    "    A = np.delete(data_frechet, 0, 1)\n",
    "\n",
    "    # form the array of u values we create matrix, in columns we have repeated u values   \n",
    "    B = [ [x] * k for x in u ] \n",
    "\n",
    "    # here we subtract u_i from excesses in each dataset\n",
    "    C = np.array(A) - np.array(B).transpose() \n",
    "    counter = counter +  1\n",
    "    \n",
    "    for i in range(n): \n",
    "        \n",
    "        # we fit GPD and Fisher distributions to excesses from each dataset\n",
    "        excesses_array = C[:,i] # asarray(C.transpose().tolist()[i]) \n",
    "        quant_GPD, bayesian_quant_GPD, params_GPD = quantiles_GPD(excesses_array, k, u[i])\n",
    "        quant_Fisher, bayesian_quant_Fisher, params_Fisher = quantiles_Fisher(excesses_array, k, u[i])\n",
    "        print(\"\\n quant_Fisher : \\n \", quant_Fisher,\"\\n bayesian_quant_Fisher: \\n\", bayesian_quant_Fisher)\n",
    "    averaged_quant_GPD += quant_GPD\n",
    "    averaged_bayesian_quant_GPD += bayesian_quant_GPD\n",
    "    averaged_params_GPD += params_GPD \n",
    "        print(\"\\n averaged_quant_GPD \\n \", averaged_quant_GPD, \"\\n averaged_bayesian_quant_GPD \\n\", averaged_bayesian_quant_GPD)\n",
    "        \n",
    "    averaged_quant_Fisher += quant_Fisher\n",
    "    print(\"\\n averaged_quant_Fisher: \\n\", averaged_quant_Fisher)\n",
    "    averaged_bayesian_quant_Fisher += bayesian_quant_Fisher\n",
    "    print(\"\\n averaged_bayesian_quant_Fisher: \\n\", averaged_bayesian_quant_Fisher)\n",
    "    averaged_params_Fisher += params_Fisher \n",
    "\n",
    "        \n",
    "    print(\"\\n counter: \\n\", counter)    \n",
    "    averaged_quant_GPD = averaged_quant_GPD / counter \n",
    "    averaged_bayesian_quant_GPD = averaged_bayesian_quant_GPD / counter\n",
    "    averaged_params_GPD = asarray(averaged_params_GPD) / counter\n",
    "\n",
    "    averaged_quant_Fisher = averaged_quant_Fisher / counter \n",
    "    averaged_bayesian_quant_Fisher = averaged_bayesian_quant_Fisher / counter\n",
    "    averaged_params_Fisher = asarray(averaged_params_Fisher) / counter\n",
    "    \n",
    "    print(\"quant_Fisher \\n \",averaged_quant_Fisher, \"bayesian_quant_Fisher \\n \", averaged_bayesian_quant_Fisher )\n",
    "    \n",
    "    plot_table(jump_excesses[j], \n",
    "           averaged_bayesian_quant_Fisher, \n",
    "           averaged_quant_Fisher, \n",
    "           averaged_bayesian_quant_GPD, \n",
    "           averaged_quant_GPD)\n",
    "    \n",
    "    print(\" Current number of excesses k = \" + str(jump_excesses[j]), \n",
    "          \"\\n\", \"averaged_params_GPD: \", averaged_params_GPD, \n",
    "          \"\\n\", \"averaged_params_Fisher: \", averaged_params_Fisher)\n",
    "    \n",
    "    #preparing to plot\n",
    "    \n",
    "    concatenated_averaged_quant_GPD = np.column_stack( (concatenated_averaged_quant_GPD, averaged_quant_GPD ) )\n",
    "    concatenated_averaged_bayesian_quant_GPD = np.column_stack( (concatenated_averaged_bayesian_quant_GPD, averaged_bayesian_quant_GPD ) )\n",
    "    concatenated_averaged_quant_Fisher = np.column_stack( (concatenated_averaged_quant_Fisher, averaged_quant_Fisher ) )\n",
    "    concatenated_averaged_bayesian_quant_Fisher = np.column_stack( (concatenated_averaged_bayesian_quant_Fisher, averaged_bayesian_quant_Fisher ) )\n",
    "\n",
    "# we delete first column which was created as zeros\n",
    "concatenated_averaged_quant_GPD = np.delete(concatenated_averaged_quant_GPD, 0, 1)\n",
    "concatenated_averaged_bayesian_quant_GPD = np.delete(concatenated_averaged_bayesian_quant_GPD, 0, 1)\n",
    "concatenated_averaged_quant_Fisher = np.delete(concatenated_averaged_quant_Fisher, 0, 1)\n",
    "concatenated_averaged_bayesian_quant_Fisher = np.delete(concatenated_averaged_bayesian_quant_Fisher, 0, 1)"
   ]
  },
  {
   "cell_type": "code",
   "execution_count": 10,
   "metadata": {},
   "outputs": [],
   "source": [
    "def compare_quantiles(jump_excesses, GPD, BGPD, Fisher, theoretical_quantile,  quantile_level):\n",
    "    plt.hlines(y=theoretical_quantile[quantile_level], \n",
    "               xmin=min(jump_excesses), \n",
    "               xmax=max(jump_excesses), \n",
    "               color='yellow', \n",
    "               zorder=1, \n",
    "               label='theoretical value')\n",
    "    plt.plot(jump_excesses, GPD[quantile_level,:],  'r', label='GPD') # plotting t, a separately \n",
    "    plt.plot(jump_excesses, BGPD[quantile_level,:], 'b', label='BGPD') # plotting t, b separately \n",
    "    plt.plot(jump_excesses, Fisher[quantile_level,:], 'g', label='Fisher') # plotting t, c separately \n",
    "    plt.xlabel('number of excesses')\n",
    "    plt.ylabel('value of quantile at level ' + str(q[quantile_level]))\n",
    "    plt.title('Variability of quantile at level ' + str(q[quantile_level])  )\n",
    "    plt.legend()\n",
    "    return(plt.show())"
   ]
  },
  {
   "cell_type": "code",
   "execution_count": 25,
   "metadata": {},
   "outputs": [
    {
     "data": {
      "image/png": "[encoded data removed]",
      "text/plain": [
       "<Figure size 432x288 with 1 Axes>"
      ]
     },
     "metadata": {},
     "output_type": "display_data"
    },
    {
     "data": {
      "image/png": "[encoded data removed]",
      "text/plain": [
       "<Figure size 432x288 with 1 Axes>"
      ]
     },
     "metadata": {},
     "output_type": "display_data"
    },
    {
     "data": {
      "image/png": "[encoded data removed]",
      "text/plain": [
       "<Figure size 432x288 with 1 Axes>"
      ]
     },
     "metadata": {},
     "output_type": "display_data"
    },
    {
     "data": {
      "image/png": "[encoded data removed]",
      "text/plain": [
       "<Figure size 432x288 with 1 Axes>"
      ]
     },
     "metadata": {},
     "output_type": "display_data"
    },
    {
     "data": {
      "image/png": "[encoded data removed]",
      "text/plain": [
       "<Figure size 432x288 with 1 Axes>"
      ]
     },
     "metadata": {},
     "output_type": "display_data"
    }
   ],
   "source": [
    "for i in range(len(q)):\n",
    "    compare_quantiles(jump_excesses,\n",
    "                  concatenated_averaged_quant_GPD, \n",
    "                  concatenated_averaged_bayesian_quant_GPD, \n",
    "                  concatenated_averaged_quant_Fisher, \n",
    "                  quant_th,\n",
    "                  i)"
   ]
  },
  {
   "cell_type": "code",
   "execution_count": 17,
   "metadata": {},
   "outputs": [
    {
     "name": "stdout",
     "output_type": "stream",
     "text": [
      "0\n"
     ]
    }
   ],
   "source": [
    "counter = 0 # counter to normalize over the values of parameters\n",
    "n = 1\n",
    "for i in range(1,n): \n",
    "    counter = counter +  1\n",
    "print(counter)"
   ]
  },
  {
   "cell_type": "code",
   "execution_count": 12,
   "metadata": {},
   "outputs": [],
   "source": [
    "# concatenated_averaged_quant_Fisher[3, :] \n",
    "# str(concatenated_averaged_quant_Fisher[3, :])\n",
    "# 3 stands for the same level of quantile but for different number of excesses \n",
    "# instead of 3 we should be able to use i in 0, 1, 2, 3, 4, those represents different levels of quantiles "
   ]
  },
  {
   "cell_type": "code",
   "execution_count": null,
   "metadata": {},
   "outputs": [],
   "source": []
  }
 ],
 "metadata": {
  "kernelspec": {
   "display_name": "Python 3",
   "language": "python",
   "name": "python3"
  },
  "language_info": {
   "codemirror_mode": {
    "name": "ipython",
    "version": 3
   },
   "file_extension": ".py",
   "mimetype": "text/x-python",
   "name": "python",
   "nbconvert_exporter": "python",
   "pygments_lexer": "ipython3",
   "version": "3.5.4"
  }
 },
 "nbformat": 4,
 "nbformat_minor": 2
}
