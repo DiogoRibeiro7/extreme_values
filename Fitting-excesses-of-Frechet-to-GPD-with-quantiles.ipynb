{
 "cells": [
  {
   "cell_type": "code",
   "execution_count": null,
   "metadata": {},
   "outputs": [],
   "source": [
    "# i need class to sampla datas from 1) frechet(1), with F(x) \n",
    "import matplotlib.pyplot as plt\n"
   ]
  },
  {
   "cell_type": "code",
   "execution_count": 1,
   "metadata": {},
   "outputs": [],
   "source": [
    "import numpy as np\n",
    "import matplotlib.pyplot as plt\n",
    "import pystan\n",
    "from pystan import StanModel \n",
    "from numpy import polyval, place, extract, any, asarray, nan, inf, pi\n",
    "from numpy import (where, arange, putmask, ravel, sum, shape,\n",
    "                   log, sqrt, exp, arctanh, tan, sin, arcsin, arctan,\n",
    "                   tanh, cos, cosh, sinh, log1p, expm1)\n",
    "\n",
    "from scipy.stats import rv_continuous\n",
    "\n",
    "class frechet_gen(rv_continuous):\n",
    "#     def _argcheck(self, c):\n",
    "#         c = asarray(c)\n",
    "#         self.b = where(c < 0, 1.0/abs(c), inf)\n",
    "#         return where(c == 0, 0, 1)\n",
    "\n",
    "#     def _pdf(self, x, alpha1, alpha2, beta):\n",
    "#         Px = 1 / beta / ss.beta(alpha1, alpha2) * pow(x/beta, asarray(alpha1-1.0)) * pow(1 + x/beta, asarray(- alpha1 - alpha2))\n",
    "#         return Px\n",
    "\n",
    "#     def _logpdf(self, x, alpha1, alpha2, beta):\n",
    "#         return (alpha1 - 1) * np.log(x) - alpha1 * np.log(beta) - np.log(ss.beta(alpha1, alpha2)) - (alpha1 + alpha2) * np.log(1 + x/beta)\n",
    "\n",
    "    def _cdf(self, x, beta):\n",
    "        return exp(-pow(x, -1/beta))\n",
    "#     def _ppf(self, q, c):\n",
    "#         vals = 1.0/c * (pow(1-q, -c)-1)\n",
    "#         return vals\n",
    "\n",
    "#     def _munp(self, n, c):\n",
    "#         k = arange(0, n+1)\n",
    "#         val = (-1.0/c)**n * sum(comb(n, k)*(-1)**k / (1.0-c*k), axis=0)\n",
    "#         return where(c*n < 1, val, inf)\n",
    "\n",
    "#     def _entropy(self, c):\n",
    "#         if (c > 0):\n",
    "#             return 1+c\n",
    "#         else:\n",
    "#             self.b = -1.0 / c\n",
    "#             return rv_continuous._entropy(self, c)\n",
    "frechet = frechet_gen(a=0.0, name='frechet')"
   ]
  },
  {
   "cell_type": "code",
   "execution_count": 24,
   "metadata": {},
   "outputs": [],
   "source": [
    "# here we are able to sample rv exactly as in publication\n",
    "N, beta = 1000,  1/2 # run with n = 1000000\n",
    "# beta = 1/2 because we want to have a finite mean\n",
    "r = frechet.rvs(beta, size=N)\n",
    "# np.mean(r)\n",
    "# + histogram of data's"
   ]
  },
  {
   "cell_type": "code",
   "execution_count": null,
   "metadata": {},
   "outputs": [],
   "source": [
    "# beta = 1/2 because we want to have a finite mean"
   ]
  },
  {
   "cell_type": "code",
   "execution_count": 25,
   "metadata": {},
   "outputs": [
    {
     "data": {
      "image/png": "[encoded data removed]",
      "text/plain": [
       "<Figure size 576x432 with 1 Axes>"
      ]
     },
     "metadata": {},
     "output_type": "display_data"
    }
   ],
   "source": [
    "# histogram of data\n",
    "fig, ax = plt.subplots(figsize=[8,6])\n",
    "\n",
    "# set plot title\n",
    "ax.set_title(\"Data sampled from Frechet \")\n",
    "\n",
    "# set x-axis name\n",
    "ax.set_xlabel(\"value\")\n",
    "\n",
    "# set y-axis name\n",
    "ax.set_ylabel(\"number of records\")\n",
    "\n",
    "# create histogram within output\n",
    "N, bins, patches = ax.hist(r, bins=100, color=\"#777777\") #initial color of all bins\n",
    "\n",
    "# Iterate through all histogram elements\n",
    "# each element in this interation is one patch on the histogram, where:\n",
    "# - bin_size - number of records in current bin\n",
    "# - bin - value of current bin (x-axis)\n",
    "# - patch - a rectangle, object of class matplotlib.patches.Patch\n",
    "# more details on patch properties: [visit this link][1]\n",
    "\n",
    "for bin_size, bin, patch in zip(N, bins, patches):\n",
    "    if bin_size == 100:\n",
    "        patch.set_facecolor(\"#FF000\")\n",
    "        patch.set_label(\"something\")\n",
    "\n",
    "plt.show()"
   ]
  },
  {
   "cell_type": "code",
   "execution_count": 26,
   "metadata": {},
   "outputs": [
    {
     "name": "stdout",
     "output_type": "stream",
     "text": [
      "+-----------+-------+-------+-------+-------+-------+-------+-------+\n",
      "| pr.distr. |  mean |   sd  |  2.5% |  25%  |  50%  |  75%  | 97.5% |\n",
      "+-----------+-------+-------+-------+-------+-------+-------+-------+\n",
      "|  Fréchet  | 1.758 | 2.362 | 0.531 | 0.847 | 1.194 | 1.884 | 6.179 |\n",
      "+-----------+-------+-------+-------+-------+-------+-------+-------+\n"
     ]
    }
   ],
   "source": [
    "from prettytable import PrettyTable\n",
    "m = 3 # how much we round\n",
    "t = PrettyTable(['pr.distr.', 'mean', 'sd', '2.5%', '25%', '50%', '75%', '97.5%'])\n",
    "t.add_row(['Fréchet',\n",
    "           \"%.3f\" % round(np.mean(r),m),\n",
    "           \"%.3f\" % round(np.std(r),m),\n",
    "           \"%.3f\" % round(np.percentile(r, 2.5),m), \n",
    "           \"%.3f\" % round(np.percentile(r, 25),m), \n",
    "           \"%.3f\" % round(np.percentile(r, 50),m), \n",
    "           \"%.3f\" % round(np.percentile(r, 75),m), \n",
    "           \"%.3f\" % round(np.percentile(r, 97.5),m)])\n",
    "# t.add_row(['Bob', 19])\n",
    "print(t)"
   ]
  },
  {
   "cell_type": "code",
   "execution_count": null,
   "metadata": {},
   "outputs": [],
   "source": [
    "# sd >> mean wtf!"
   ]
  },
  {
   "cell_type": "code",
   "execution_count": 27,
   "metadata": {},
   "outputs": [],
   "source": [
    "# we need a function to get a excesses\n",
    "def k_greatest_values(a,k):\n",
    "    \"\"\"returns k greatest elements from the list and k-1 value starting from which we consider values to be extreme\"\"\"\n",
    "    u = np.sort(a, axis=None)[-1-k]\n",
    "    a = np.sort(a, axis=None)[-1-k+1:]\n",
    "    a = asarray([a-u for x in a])\n",
    "    return(a[1].tolist(), u) # u the starting value from which we consider others as excesses"
   ]
  },
  {
   "cell_type": "code",
   "execution_count": 28,
   "metadata": {},
   "outputs": [],
   "source": [
    "k = 100 # number of excesses\n",
    "frechet, u = k_greatest_values(r, k)\n",
    "# frechet # so we recover  k = 100 excesses sampled from Frechet distribution"
   ]
  },
  {
   "cell_type": "code",
   "execution_count": null,
   "metadata": {},
   "outputs": [],
   "source": [
    "import pystan\n",
    "from pystan import StanModel "
   ]
  },
  {
   "cell_type": "code",
   "execution_count": null,
   "metadata": {},
   "outputs": [],
   "source": [
    "GPD = \"\"\"\n",
    "functions {\n",
    "  real myGPD_lpdf(real y, real alpha, real beta) {\n",
    "      //return -(1+1/c)*log(1+c*y2);\n",
    "      return -(alpha + 1)*( log(1+y/beta) )+(log(alpha) - log(beta));\n",
    "  }\n",
    "  // above distribution is a special case of the distribution in the paper for alpha = beta = 1 / c\n",
    "  // c = 1/beta\n",
    "}\n",
    "data { \n",
    "  int N;\n",
    "  real y[N]; // points sampled from gpd in python with some(known) parameters, by mcmc we recover true values of those params\n",
    "}\n",
    "parameters { \n",
    "  //real c; \n",
    "  real alpha;\n",
    "  real beta;\n",
    "}\n",
    "model {\n",
    "  // Priors\n",
    "  // no priors - we assume improper priors on params\n",
    "  // c ~ uniform(0,1);\n",
    "  alpha ~ gamma(2,2);\n",
    "  beta ~ gamma(2,2);\n",
    "\n",
    "// Likelihood\n",
    "  for(n in 1:N) {\n",
    "    target += myGPD_lpdf( y[n] | alpha, beta );\n",
    "  }\n",
    "\n",
    "}\n",
    "generated quantities{}\n",
    "\"\"\""
   ]
  },
  {
   "cell_type": "code",
   "execution_count": null,
   "metadata": {},
   "outputs": [],
   "source": [
    "#the same prior in gpd and fischer to compare"
   ]
  },
  {
   "cell_type": "code",
   "execution_count": null,
   "metadata": {},
   "outputs": [],
   "source": [
    "data = dict(N = k,  y = frechet) \n",
    "fit = StanModel(model_code=GPD).sampling(data=data,iter=1000,warmup=200, chains=1) #we sample from the provided data ;\n",
    "print(fit)"
   ]
  },
  {
   "cell_type": "code",
   "execution_count": null,
   "metadata": {},
   "outputs": [],
   "source": [
    "beta = np.mean(list(fit.extract().values())[1].tolist())\n",
    "alpha = np.mean(list(fit.extract().values())[0].tolist())\n",
    "print(\"alpha = \", alpha, \"\\n beta = \", beta)\n",
    "gamma = 1 / alpha "
   ]
  },
  {
   "cell_type": "code",
   "execution_count": null,
   "metadata": {},
   "outputs": [],
   "source": [
    "# table to compare with table before (beginning)\n",
    "def quantile_GPD(N, k, p, beta, gamma, u):\n",
    "    return( u + beta*( ( N * p / k )**( -gamma ) - 1 ) ) # p = 0.05\n"
   ]
  },
  {
   "cell_type": "code",
   "execution_count": null,
   "metadata": {},
   "outputs": [],
   "source": [
    "quant_GPD = quantile_GPD(N, k, 0.05, beta, gamma, u)# p=0.05 check more values of quantiles 2.5%, 25 % ...."
   ]
  },
  {
   "cell_type": "code",
   "execution_count": null,
   "metadata": {},
   "outputs": [],
   "source": [
    "quant_GPD"
   ]
  },
  {
   "cell_type": "code",
   "execution_count": null,
   "metadata": {},
   "outputs": [],
   "source": [
    "beta_values = list(fit.extract().values())[1].tolist()\n",
    "alpha_values = list(fit.extract().values())[0].tolist()"
   ]
  },
  {
   "cell_type": "code",
   "execution_count": null,
   "metadata": {},
   "outputs": [],
   "source": [
    "# define window size, output and axes\n",
    "fig, ax = plt.subplots(figsize=[8,6])\n",
    "\n",
    "# set plot title\n",
    "ax.set_title(\"Values of beta in GPD(alpha, beta) fitted to the excesses from Frechet \")\n",
    "\n",
    "# set x-axis name\n",
    "ax.set_xlabel(\"beta\")\n",
    "\n",
    "# set y-axis name\n",
    "ax.set_ylabel(\"number of records\")\n",
    "\n",
    "# create histogram within output\n",
    "N, bins, patches = ax.hist(beta_values, bins=50, color=\"#777777\") #initial color of all bins\n",
    "\n",
    "# Iterate through all histogram elements\n",
    "# each element in this interation is one patch on the histogram, where:\n",
    "# - bin_size - number of records in current bin\n",
    "# - bin - value of current bin (x-axis)\n",
    "# - patch - a rectangle, object of class matplotlib.patches.Patch\n",
    "# more details on patch properties: [visit this link][1]\n",
    "\n",
    "for bin_size, bin, patch in zip(N, bins, patches):\n",
    "    if bin_size == 50:\n",
    "        patch.set_facecolor(\"#777777\")\n",
    "        patch.set_label(\"something\")\n",
    "\n",
    "plt.show()\n",
    "#plot with more values"
   ]
  },
  {
   "cell_type": "code",
   "execution_count": null,
   "metadata": {},
   "outputs": [],
   "source": [
    "# define window size, output and axes\n",
    "fig, ax = plt.subplots(figsize=[8,6])\n",
    "\n",
    "# set plot title\n",
    "ax.set_title(\"Values of alpha in GPD(alpha, beta) fitted to the excesses from Frechet \")\n",
    "\n",
    "# set x-axis name\n",
    "ax.set_xlabel(\"alpha\")\n",
    "\n",
    "# set y-axis name\n",
    "ax.set_ylabel(\"number of records\")\n",
    "\n",
    "# create histogram within output\n",
    "N, bins, patches = ax.hist(alpha_values, bins=50, color=\"#777777\") #initial color of all bins\n",
    "\n",
    "# Iterate through all histogram elements\n",
    "# each element in this interation is one patch on the histogram, where:\n",
    "# - bin_size - number of records in current bin\n",
    "# - bin - value of current bin (x-axis)\n",
    "# - patch - a rectangle, object of class matplotlib.patches.Patch\n",
    "# more details on patch properties: [visit this link][1]\n",
    "\n",
    "for bin_size, bin, patch in zip(N, bins, patches):\n",
    "    if bin_size == 50:\n",
    "        patch.set_facecolor(\"#777777\")\n",
    "        patch.set_label(\"something\")\n",
    "\n",
    "plt.show()"
   ]
  },
  {
   "cell_type": "code",
   "execution_count": null,
   "metadata": {},
   "outputs": [],
   "source": []
  },
  {
   "cell_type": "code",
   "execution_count": null,
   "metadata": {},
   "outputs": [],
   "source": []
  },
  {
   "cell_type": "code",
   "execution_count": null,
   "metadata": {},
   "outputs": [],
   "source": []
  },
  {
   "cell_type": "code",
   "execution_count": null,
   "metadata": {},
   "outputs": [],
   "source": [
    "Fisher = \"\"\"\n",
    "functions { \n",
    " real myFisher_lpdf(real y, real alpha1, real alpha2, real beta) {\n",
    "      return -lbeta(alpha1,alpha2)-log(beta)+(alpha1-1)*log(y/beta)-(alpha1+alpha2)*log(1+y/beta);\n",
    "  }\n",
    "  \n",
    "// to recover more general distribution of Fisher parametrized by three parameters we need to multiply the above distribution \n",
    "// by: df1**df1/2\n",
    "// we have alpha1,2 = df1,2/2, beta = df2/df1\n",
    "}\n",
    "\n",
    "data { \n",
    "  int N;\n",
    "  real y[N]; // points sampled from fisher in python with some(known) parameters, by mcmc we recover true values of those params\n",
    "}\n",
    "parameters { \n",
    "  //parameters of the Fisher\n",
    "  //real df1;\n",
    "  //real df2;\n",
    "  real<lower=0> alpha1;\n",
    "  real<lower=0> alpha2;\n",
    "  real<lower=0> beta;\n",
    "  \n",
    "}\n",
    "model {\n",
    "  // when we deliberately do not specify priors then Stan works with improper priors\n",
    "  //alpha1 ~ gamma(2,2);\n",
    "  //alpha2 ~ gamma(2,2);\n",
    "  //beta ~ gamma(2,2);\n",
    "   // Likelihood\n",
    "  for(n in 1:N) {\n",
    "    target += myFisher_lpdf( y[n] |alpha1, alpha2, beta);\n",
    "  }\n",
    "}\n",
    "\n",
    "generated quantities{}\n",
    "\"\"\""
   ]
  },
  {
   "cell_type": "code",
   "execution_count": null,
   "metadata": {},
   "outputs": [],
   "source": [
    "data = dict(N = k,  y = frechet) \n",
    "fit = StanModel(model_code=Fisher).sampling(data=data,iter=1000,warmup=200, chains=1) #we sample from the provided data ;\n",
    "print(fit)"
   ]
  },
  {
   "cell_type": "code",
   "execution_count": null,
   "metadata": {},
   "outputs": [],
   "source": [
    "beta = np.mean(list(fit.extract().values())[2].tolist())\n",
    "alpha2 = np.mean(list(fit.extract().values())[1].tolist())\n",
    "alpha1 = np.mean(list(fit.extract().values())[0].tolist())\n",
    "print(\" alpha1 = \", alpha1, \"\\n alpha2 = \", alpha2, \"\\n beta = \", beta)\n",
    "# gamma = 1 / alpha "
   ]
  },
  {
   "cell_type": "code",
   "execution_count": null,
   "metadata": {},
   "outputs": [],
   "source": [
    "#we need Fisher quantiles\n",
    "def quantile_Fischer(N, k, p, beta, gamma, u):\n",
    "    return( u + beta*( ( N * p / k )**( -gamma ) - 1 ) ) # p = 0.05\n"
   ]
  },
  {
   "cell_type": "code",
   "execution_count": null,
   "metadata": {},
   "outputs": [],
   "source": [
    "alpha1_values = list(fit.extract().values())[0].tolist()\n",
    "alpha2_values = list(fit.extract().values())[1].tolist()\n",
    "beta_values = list(fit.extract().values())[2].tolist()\n",
    " "
   ]
  },
  {
   "cell_type": "code",
   "execution_count": null,
   "metadata": {},
   "outputs": [],
   "source": [
    "# define window size, output and axes\n",
    "fig, ax = plt.subplots(figsize=[8,6])\n",
    "\n",
    "# set plot title\n",
    "ax.set_title(\"Values of beta in Fisher(alpha1, alpha2, beta) fitted to the excesses from Frechet \")\n",
    "\n",
    "# set x-axis name\n",
    "ax.set_xlabel(\"beta\")\n",
    "\n",
    "# set y-axis name\n",
    "ax.set_ylabel(\"number of records\")\n",
    "\n",
    "# create histogram within output\n",
    "N, bins, patches = ax.hist(beta_values, bins=25, color=\"#777777\") #initial color of all bins\n",
    "\n",
    "# Iterate through all histogram elements\n",
    "# each element in this interation is one patch on the histogram, where:\n",
    "# - bin_size - number of records in current bin\n",
    "# - bin - value of current bin (x-axis)\n",
    "# - patch - a rectangle, object of class matplotlib.patches.Patch\n",
    "# more details on patch properties: [visit this link][1]\n",
    "\n",
    "for bin_size, bin, patch in zip(N, bins, patches):\n",
    "    if bin_size == 25:\n",
    "        patch.set_facecolor(\"#FF000\")\n",
    "        patch.set_label(\"something\")\n",
    "\n",
    "plt.show()"
   ]
  },
  {
   "cell_type": "code",
   "execution_count": null,
   "metadata": {},
   "outputs": [],
   "source": [
    "# define window size, output and axes\n",
    "fig, ax = plt.subplots(figsize=[8,6])\n",
    "\n",
    "# set plot title\n",
    "ax.set_title(\"Values of alpha1 in Fisher(alpha1, alpha2, beta) fitted to the excesses from Frechet \")\n",
    "\n",
    "# set x-axis name\n",
    "ax.set_xlabel(\"alpha1\")\n",
    "\n",
    "# set y-axis name\n",
    "ax.set_ylabel(\"number of records\")\n",
    "\n",
    "# create histogram within output\n",
    "N, bins, patches = ax.hist(alpha1_values, bins=25, color=\"#777777\") #initial color of all bins\n",
    "\n",
    "# Iterate through all histogram elements\n",
    "# each element in this interation is one patch on the histogram, where:\n",
    "# - bin_size - number of records in current bin\n",
    "# - bin - value of current bin (x-axis)\n",
    "# - patch - a rectangle, object of class matplotlib.patches.Patch\n",
    "# more details on patch properties: [visit this link][1]\n",
    "\n",
    "for bin_size, bin, patch in zip(N, bins, patches):\n",
    "    if bin_size == 25:\n",
    "        patch.set_facecolor(\"#FF000\")\n",
    "        patch.set_label(\"something\")\n",
    "\n",
    "plt.show()"
   ]
  },
  {
   "cell_type": "code",
   "execution_count": null,
   "metadata": {},
   "outputs": [],
   "source": [
    "# define window size, output and axes\n",
    "fig, ax = plt.subplots(figsize=[8,6])\n",
    "\n",
    "# set plot title\n",
    "ax.set_title(\"Values of alpha2 in Fisher(alpha1, alpha2, beta) fitted to the excesses from Frechet \")\n",
    "\n",
    "# set x-axis name\n",
    "ax.set_xlabel(\"alpha2\")\n",
    "\n",
    "# set y-axis name\n",
    "ax.set_ylabel(\"number of records\")\n",
    "\n",
    "# create histogram within output\n",
    "N, bins, patches = ax.hist(alpha2_values, bins=25, color=\"#777777\") #initial color of all bins\n",
    "\n",
    "# Iterate through all histogram elements\n",
    "# each element in this interation is one patch on the histogram, where:\n",
    "# - bin_size - number of records in current bin\n",
    "# - bin - value of current bin (x-axis)\n",
    "# - patch - a rectangle, object of class matplotlib.patches.Patch\n",
    "# more details on patch properties: [visit this link][1]\n",
    "\n",
    "for bin_size, bin, patch in zip(N, bins, patches):\n",
    "    if bin_size == 25:\n",
    "        patch.set_facecolor(\"#777777\")\n",
    "        patch.set_label(\"something\")\n",
    "\n",
    "plt.show()"
   ]
  },
  {
   "cell_type": "code",
   "execution_count": null,
   "metadata": {},
   "outputs": [],
   "source": [
    "print(\"Below tries to average over multiple sets of excesses, for some reason it doesn't work\")"
   ]
  },
  {
   "cell_type": "code",
   "execution_count": null,
   "metadata": {},
   "outputs": [],
   "source": [
    "def quantile_Fischer(N, k, p, beta, gamma, u):\n",
    "    return( u + beta*( ( N * p / k )**( -gamma ) - 1 ) ) # p = 0.05\n"
   ]
  },
  {
   "cell_type": "code",
   "execution_count": null,
   "metadata": {},
   "outputs": [],
   "source": []
  },
  {
   "cell_type": "code",
   "execution_count": null,
   "metadata": {},
   "outputs": [],
   "source": []
  },
  {
   "cell_type": "code",
   "execution_count": null,
   "metadata": {},
   "outputs": [],
   "source": []
  },
  {
   "cell_type": "code",
   "execution_count": null,
   "metadata": {},
   "outputs": [],
   "source": []
  },
  {
   "cell_type": "code",
   "execution_count": null,
   "metadata": {},
   "outputs": [],
   "source": []
  },
  {
   "cell_type": "code",
   "execution_count": null,
   "metadata": {},
   "outputs": [],
   "source": []
  },
  {
   "cell_type": "code",
   "execution_count": null,
   "metadata": {},
   "outputs": [],
   "source": []
  },
  {
   "cell_type": "code",
   "execution_count": null,
   "metadata": {},
   "outputs": [],
   "source": [
    "t = frechet.rvs(beta, size=N)"
   ]
  },
  {
   "cell_type": "code",
   "execution_count": null,
   "metadata": {},
   "outputs": [],
   "source": [
    "t"
   ]
  },
  {
   "cell_type": "code",
   "execution_count": null,
   "metadata": {},
   "outputs": [],
   "source": [
    "#ok, now we generate multiple datasets to be able to average over all the results\n",
    "n = 20 # number of datasets we investigate\n",
    "\n",
    "for i in range(n):\n",
    "    t = frechet.rvs(beta, size=N)\n",
    "    r = np.column_stack((r, t)) # 20 replications of datas from frechet distribution in columns\n"
   ]
  },
  {
   "cell_type": "code",
   "execution_count": null,
   "metadata": {},
   "outputs": [],
   "source": [
    "t = frechet.rvs(beta, size=N)# why here it doesn't work while before it worked well?"
   ]
  },
  {
   "cell_type": "code",
   "execution_count": null,
   "metadata": {},
   "outputs": [],
   "source": [
    "import numpy as np\n",
    "a = np.array([1,2,3,4,5])\n",
    "p = np.percentile(a, 50) # return 50th percentile, e.g median.\n",
    "print p\n",
    "3.0"
   ]
  }
 ],
 "metadata": {
  "kernelspec": {
   "display_name": "Python 3",
   "language": "python",
   "name": "python3"
  },
  "language_info": {
   "codemirror_mode": {
    "name": "ipython",
    "version": 3
   },
   "file_extension": ".py",
   "mimetype": "text/x-python",
   "name": "python",
   "nbconvert_exporter": "python",
   "pygments_lexer": "ipython3",
   "version": "3.5.4"
  }
 },
 "nbformat": 4,
 "nbformat_minor": 2
}
