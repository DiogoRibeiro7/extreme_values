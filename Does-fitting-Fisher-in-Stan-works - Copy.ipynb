{
 "cells": [
  {
   "cell_type": "code",
   "execution_count": 1,
   "metadata": {},
   "outputs": [
    {
     "name": "stdout",
     "output_type": "stream",
     "text": [
      "In this document we check whether fitting Fisher distribution is reasable for different values of parameters sampled from it.\n"
     ]
    }
   ],
   "source": [
    "print(\"In this document we check whether fitting Fisher distribution is reasable for different values of parameters sampled from it.\")"
   ]
  },
  {
   "cell_type": "code",
   "execution_count": 2,
   "metadata": {},
   "outputs": [],
   "source": [
    "import pystan\n",
    "import numpy as np\n",
    "from pystan import StanModel \n",
    "from scipy.stats import f # fisher distribution to check whether it works well "
   ]
  },
  {
   "cell_type": "code",
   "execution_count": 3,
   "metadata": {},
   "outputs": [
    {
     "name": "stdout",
     "output_type": "stream",
     "text": [
      "With this setup we should recover following values of the parameters: \n",
      " alpha1 =  5.0 \n",
      " alpha2 =  5.0 \n",
      " beta =  1.0\n"
     ]
    }
   ],
   "source": [
    "df1, df2, N = 10, 10, 1000 # for parameters not too large we recover good values of fitted distribution\n",
    "\n",
    "print(\"With this setup we should recover following values of the parameters: \\n alpha1 = \", df1/2, \"\\n alpha2 = \", df2/2, \"\\n beta = \", df2 / df1)\n",
    "\n",
    "r = f.rvs(df1, df2, size=N) # we create data sampled from Fisher distribution"
   ]
  },
  {
   "cell_type": "code",
   "execution_count": 4,
   "metadata": {},
   "outputs": [
    {
     "name": "stdout",
     "output_type": "stream",
     "text": [
      "With this setup we should recover following values of the parameters: \n",
      " alpha1 =  0.5 \n",
      " alpha2 =  4 \n",
      " beta =  2\n"
     ]
    },
    {
     "data": {
      "text/plain": [
       "array([2.19221467e-03, 6.83542014e-01, 3.56439995e-01, 2.72429841e-03,\n",
       "       2.12339439e-01, 5.38654879e-02, 1.41445060e+00, 1.98004417e-01,\n",
       "       3.79494781e-01, 1.15499004e-02, 3.40858145e-02, 3.55717229e-02,\n",
       "       3.68690653e-01, 3.77619837e-02, 7.14516319e-01, 4.47060093e+00,\n",
       "       5.18318898e-01, 1.38283516e-01, 1.02331452e-01, 8.45734150e-01,\n",
       "       2.96940335e-01, 1.09120203e-01, 1.74057425e-01, 1.65837083e-01,\n",
       "       3.23441802e-01, 1.14054321e+00, 7.89121610e-01, 1.48863323e+00,\n",
       "       2.71182736e-01, 8.98091819e-02, 2.64298326e+00, 6.76422090e-01,\n",
       "       9.98597103e-01, 3.78541627e-03, 2.16938716e-02, 1.02918335e-01,\n",
       "       6.70271768e-02, 2.21417420e-01, 2.47706483e-01, 3.28300420e+00,\n",
       "       1.59758773e-01, 1.19254444e-02, 6.48379547e-01, 3.71392766e-01,\n",
       "       1.04381076e+00, 7.01615648e-02, 6.55900746e-01, 2.29986164e-02,\n",
       "       2.13154934e-01, 3.04688362e-02, 3.46172600e-02, 2.29799393e-03,\n",
       "       1.96724831e+00, 5.32839106e-02, 1.31260643e-04, 2.76952616e-01,\n",
       "       1.92394772e+00, 7.31086065e-01, 2.97672447e+00, 4.81458358e-02,\n",
       "       1.71550393e-01, 4.77370510e-02, 3.22003058e-01, 2.03405047e-03,\n",
       "       1.47163007e+00, 9.31400660e-02, 7.69525738e-02, 1.03271876e-01,\n",
       "       4.96767567e-01, 1.06964708e-02, 3.86931667e-01, 1.17464510e-01,\n",
       "       3.56878906e-01, 9.68310600e-03, 2.85885491e-02, 2.96843718e-01,\n",
       "       3.05125166e-01, 1.98117925e-01, 4.16306618e-02, 3.11431903e-02,\n",
       "       6.22828468e-02, 2.42234328e-01, 1.04483428e+00, 2.46064988e+00,\n",
       "       2.36421990e-02, 3.94311511e-01, 9.29409511e-03, 4.83945847e-01,\n",
       "       1.05015933e-02, 1.03657599e-01, 1.45913298e-01, 6.11569095e-01,\n",
       "       2.47040697e-01, 2.29643658e-01, 1.07018342e-01, 4.68820993e-02,\n",
       "       7.82058945e-01, 9.82193275e-01, 1.46620881e-02, 7.05201675e-02,\n",
       "       1.12391253e-03, 6.08645584e-02, 3.75520399e-01, 1.28533162e+00,\n",
       "       2.52959421e-01, 3.01483323e-01, 6.04615883e-02, 7.19381085e-03,\n",
       "       4.27339470e-02, 3.83518818e-01, 1.13972001e-01, 1.87822615e-01,\n",
       "       5.80101128e-02, 2.02439677e-01, 2.07629425e-03, 3.51891369e-01,\n",
       "       7.12816181e-01, 1.51641177e-02, 3.91116572e-02, 5.64101258e-03,\n",
       "       9.72850539e-01, 3.81177880e-01, 2.74690273e-04, 1.04347236e-03,\n",
       "       1.39589065e-02, 3.64630219e-02, 5.86513923e-01, 7.66313324e-01,\n",
       "       7.37748151e-02, 1.37923328e-01, 5.21073128e-03, 2.37190835e-01,\n",
       "       2.63201497e-03, 3.26715928e-01, 1.54296530e-01, 4.27981577e-02,\n",
       "       2.05437473e-01, 1.22478731e+00, 1.00190533e-01, 4.76745075e-03,\n",
       "       1.47722596e-02, 2.22739030e-01, 3.03134479e-01, 1.77690791e+00,\n",
       "       6.80671603e-02, 7.06442190e-01, 9.48345464e-02, 2.18277013e-01,\n",
       "       7.99722604e-03, 1.83867885e-02, 3.66407520e-01, 3.24403073e-02,\n",
       "       1.61356597e-03, 1.90282682e-01, 2.06448085e-01, 9.30862280e-02,\n",
       "       4.85133044e-02, 5.70765808e-01, 4.40020923e-02, 1.45069725e-01,\n",
       "       9.88846984e-03, 4.82632830e-01, 1.10063713e-01, 1.80197368e-01,\n",
       "       4.11798228e-02, 2.74972555e-01, 8.99407712e-01, 9.44673817e-04,\n",
       "       5.45635887e-01, 4.18150838e+00, 2.05102341e-01, 2.70235398e-02,\n",
       "       4.34124935e-04, 1.05279656e-02, 7.63123768e-01, 6.04105531e-02,\n",
       "       2.19045751e-01, 1.27736545e-02, 2.09290559e-01, 5.33766064e-01,\n",
       "       2.66559350e-03, 1.50739267e-01, 6.42412542e-02, 2.44162929e-02,\n",
       "       1.01344011e-01, 1.50047840e-01, 1.47126171e-01, 3.89494676e-01,\n",
       "       5.84772293e-03, 9.25589362e-01, 2.67559903e-01, 7.72569132e-01,\n",
       "       4.59418268e-01, 1.52313114e-01, 2.38043335e-03, 1.71113467e-03,\n",
       "       6.96628978e-02, 3.24920717e-02, 6.16082054e-04, 1.18441340e-01,\n",
       "       2.12023383e+00, 3.94021448e-01, 6.49597967e-02, 1.55045411e+00,\n",
       "       2.55255635e-01, 3.16601832e-01, 1.79047075e-01, 2.49054438e-02,\n",
       "       5.82625527e-02, 4.35042862e-04, 2.90631667e-01, 1.18838972e-01,\n",
       "       9.52146586e-01, 2.97542082e-01, 7.54204032e-02, 1.26815853e+00,\n",
       "       1.12202466e-01, 1.31309026e-01, 3.15522449e-01, 1.30021984e-01,\n",
       "       2.19317681e-01, 5.29290128e-02, 3.76240560e-01, 6.42677404e-02,\n",
       "       3.17301769e-02, 4.16591401e-01, 1.17869600e-02, 2.97273517e-02,\n",
       "       6.23020982e-02, 9.52598929e-03, 9.47300687e-03, 1.89273006e-01,\n",
       "       1.21210480e-01, 2.39232801e-01, 3.36371656e-01, 2.12794462e-01,\n",
       "       6.27297884e-02, 1.23332549e-01, 1.07716299e-01, 3.34594021e-02,\n",
       "       6.71519956e-01, 2.52496922e+00, 4.73373313e-01, 1.34620719e-01,\n",
       "       1.50203392e-02, 1.67734297e+00, 2.82155887e-04, 6.77704768e-01,\n",
       "       6.52063326e-01, 4.78423357e-01, 1.39168853e-01, 2.03514273e+00,\n",
       "       1.14299366e-01, 4.57806152e-02, 8.26993331e-01, 6.56258117e-02,\n",
       "       1.60199014e-01, 4.64215423e-01, 1.18620639e+00, 2.43662620e+00,\n",
       "       3.92128005e+00, 2.30839457e-01, 3.92001277e-03, 2.01085066e-01,\n",
       "       4.00210724e+00, 3.61183463e-02, 5.97534158e-04, 6.11329393e-02,\n",
       "       7.19981455e-01, 4.01849678e-01, 2.62247317e-03, 8.96709049e-02,\n",
       "       9.00309396e-03, 1.88723409e-01, 8.86308076e-01, 2.46820246e-01,\n",
       "       2.49107260e-02, 3.16421010e-01, 7.87746542e-03, 1.23200620e-01,\n",
       "       7.58506191e-01, 1.97891108e-02, 2.12924377e-02, 1.12295450e+00,\n",
       "       4.30727766e-02, 2.19239372e-01, 2.72465238e-01, 2.64541733e-01,\n",
       "       3.44639377e-04, 8.20052926e-01, 7.02932900e-01, 3.73947344e-01,\n",
       "       1.17228538e-01, 1.31486902e-01, 2.60731458e+00, 2.33054111e-01,\n",
       "       7.32194172e-02, 5.34418155e-03, 9.30261684e-03, 3.01087222e-03,\n",
       "       2.79743650e-02, 1.96212514e+00, 4.45521408e-01, 4.19200577e-01,\n",
       "       9.24643688e-03, 1.16438833e-04, 7.32965884e-02, 4.91549696e-03,\n",
       "       2.59456034e-01, 9.81605725e-01, 9.03351147e-02, 1.19955067e-02,\n",
       "       1.73769353e-02, 1.15040165e-03, 6.12248144e-01, 8.18733462e-01,\n",
       "       6.71714521e-01, 6.50092938e-01, 1.09673118e-03, 3.87332630e-01,\n",
       "       4.49562584e-01, 2.74860125e+00, 2.47798823e-02, 5.55600586e-03,\n",
       "       6.26962496e-01, 1.04380287e-02, 4.27319134e-02, 5.62678873e-02,\n",
       "       1.44666307e-01, 8.58783023e-03, 5.48890079e-01, 5.10695584e-02,\n",
       "       3.53418236e-01, 2.25296914e-01, 2.58510280e-02, 1.73673943e-01,\n",
       "       7.96465409e-03, 1.81925098e-02, 5.74180384e-01, 1.57177483e-02,\n",
       "       6.04950480e-02, 2.06617259e-01, 1.33663613e-01, 7.51267141e-01,\n",
       "       4.59682832e-02, 1.66443655e+00, 2.64816104e+00, 1.67632411e+00,\n",
       "       2.36516608e-02, 2.61132054e-03, 3.09338002e-01, 9.61684008e-02,\n",
       "       4.65169801e-02, 1.60387131e-01, 7.73436451e-01, 2.37764782e-02,\n",
       "       1.73251650e+00, 3.51902258e+00, 1.23521332e-02, 2.97115305e-01,\n",
       "       5.02221303e-01, 2.27177916e-01, 1.81402238e-02, 5.71533318e-04,\n",
       "       2.58983800e-02, 4.39992894e-02, 3.01436321e-02, 4.11191163e-02,\n",
       "       6.52663160e-02, 2.67457859e-01, 5.35021244e-07, 1.35969315e+00,\n",
       "       1.44631974e+00, 6.18349925e-03, 2.22118475e-01, 2.50336755e-01,\n",
       "       4.65345029e-01, 3.36728575e-06, 1.04515496e-01, 1.83770511e+00,\n",
       "       1.65470114e-02, 2.27936146e-01, 1.16089813e+00, 9.39019042e-02,\n",
       "       8.94609806e-04, 1.74463499e-02, 2.53619617e-01, 7.06050047e-02,\n",
       "       1.38405496e+00, 2.54080999e-02, 3.08672744e-02, 3.32005286e-02,\n",
       "       2.39721424e-01, 1.56459263e-02, 6.64952284e-01, 1.58204449e-01,\n",
       "       3.03797629e-01, 7.12347777e-02, 1.29851691e-02, 3.12755868e+00,\n",
       "       6.41988631e-04, 7.07769184e-01, 8.09181154e-02, 9.52187117e-01,\n",
       "       1.11591884e+00, 1.01822893e-01, 8.24539656e-01, 1.50414052e-02,\n",
       "       1.71215375e+00, 7.13767485e-04, 1.50585312e+00, 7.76948430e-01,\n",
       "       2.24327821e-03, 4.46147741e-04, 1.49405741e-01, 6.66597009e-02,\n",
       "       1.89026326e-01, 7.68787344e-01, 3.76959934e-01, 6.73399399e-02,\n",
       "       3.93111889e-01, 1.13775981e-01, 1.30979498e-01, 1.03912065e+00,\n",
       "       4.64911337e-02, 3.75484176e-02, 2.25834733e-01, 5.04681033e-01,\n",
       "       4.37769667e-01, 4.24103017e-01, 1.21883157e-02, 1.16067562e-06,\n",
       "       1.98750861e-01, 5.02796036e-02, 1.04691069e-01, 9.64686377e-02,\n",
       "       4.42160998e-02, 3.95715053e-01, 2.55261066e-02, 1.19905060e-01,\n",
       "       9.48432672e-01, 4.96819468e-02, 4.92229302e-02, 3.34963706e-01,\n",
       "       8.17600163e-01, 2.61512769e-01, 2.30058335e-02, 4.27509757e-01,\n",
       "       3.71504659e-02, 3.36746563e-02, 6.24301318e-04, 1.13226753e-02,\n",
       "       1.30644816e-01, 1.81426334e-01, 4.63816566e-01, 1.16416744e+00,\n",
       "       6.30504807e-03, 4.03686903e-01, 1.63324225e-01, 1.51504094e-03,\n",
       "       1.34990029e-02, 5.99823143e-01, 2.81463729e-01, 2.36969578e-01,\n",
       "       1.03441023e+00, 5.00362975e-03, 4.93706107e-01, 1.88961571e-02,\n",
       "       1.41839309e-01, 6.15523638e-02, 1.65350196e+00, 2.21124518e-01,\n",
       "       4.08321004e-02, 8.87336852e-02, 1.85139254e+00, 5.38999730e-03,\n",
       "       6.52399118e-02, 3.66036997e-01, 1.59859746e-01, 1.12120963e-04,\n",
       "       3.49086179e-01, 2.36528478e-03, 2.71492256e+00, 1.89531787e-01,\n",
       "       8.21964976e-01, 2.34234825e-01, 4.04591929e-03, 2.30364723e-01,\n",
       "       3.32532277e-01, 1.20518274e-02, 5.95703268e-05, 5.74415124e-03,\n",
       "       2.59749212e-01, 5.95812700e-02, 2.19975581e+00, 9.80640112e-04,\n",
       "       1.08503249e-01, 1.03724672e-01, 3.89664224e-01, 3.81885623e-02,\n",
       "       5.71156869e-01, 8.42404187e-02, 7.74840608e-01, 1.03547868e-01,\n",
       "       3.59858514e-02, 7.51589778e-02, 3.29330532e-02, 2.28493753e-01,\n",
       "       2.25067172e-01, 1.16550378e-02, 7.97650776e-01, 5.97736780e-01,\n",
       "       3.92839106e-01, 2.54867364e-04, 5.62926219e-02, 1.51136528e-01,\n",
       "       1.24516328e-03, 2.83808883e-06, 3.80118056e-02, 5.97512179e-03,\n",
       "       6.85788539e-02, 2.29070786e-01, 4.36425014e-01, 3.52563112e-01,\n",
       "       4.60273100e-02, 6.09540196e-03, 2.29709366e-01, 6.18759511e-02,\n",
       "       6.69557397e-02, 1.20457539e+00, 7.13007242e-01, 4.15240965e-02,\n",
       "       4.63836076e-01, 1.63721826e-01, 1.00490045e-01, 3.66315771e-01,\n",
       "       6.12551623e-02, 4.84892901e-01, 2.97883243e-01, 2.01173236e-01,\n",
       "       3.81933880e-02, 1.05324237e-01, 3.39828490e-01, 7.12040591e-01,\n",
       "       4.17990398e-03, 3.48012842e-03, 9.21332282e-02, 1.38696884e-02,\n",
       "       3.72401042e-06, 2.11383246e-01, 1.70113649e-01, 7.63708707e-01,\n",
       "       8.82992925e-02, 8.96342257e-01, 5.47644415e-02, 5.90899911e-01,\n",
       "       1.05885348e+00, 3.49502880e-01, 8.94151076e-01, 1.17181814e+00,\n",
       "       4.82728364e-01, 7.34688734e-03, 3.14372178e-01, 5.65815076e-01,\n",
       "       2.06533128e+00, 1.14535639e-01, 4.59031411e-02, 4.07344356e-03,\n",
       "       1.09102122e-03, 8.51937745e-02, 1.95162863e-01, 7.80726525e-01,\n",
       "       1.88766405e-02, 2.11845771e-02, 8.90940157e-02, 8.49696395e-02,\n",
       "       6.38966945e-02, 2.86647910e-01, 2.81290261e-01, 1.11497465e-02,\n",
       "       6.32293620e-06, 1.23353417e-03, 2.02362568e-01, 2.32434971e-01,\n",
       "       2.16523964e-04, 2.30127196e+00, 7.60953053e-02, 2.10364420e-05,\n",
       "       2.50852533e-03, 3.27678786e-01, 8.59252565e-01, 7.12184817e-01,\n",
       "       9.83984711e-01, 1.29379014e-01, 1.67963345e-01, 1.06693123e-01,\n",
       "       4.96625149e-02, 3.29396353e-01, 1.79851985e-01, 6.15754766e-01,\n",
       "       7.78979221e-02, 6.89947700e-01, 8.10027609e-01, 2.21022644e-01,\n",
       "       1.15721780e+00, 2.12459671e-01, 6.95388068e-02, 1.16845690e+00,\n",
       "       2.26543559e-01, 1.31143764e-01, 1.94479017e-01, 9.74281855e-01,\n",
       "       1.14264198e+00, 2.79421419e-05, 9.78016242e-03, 7.04470619e-03,\n",
       "       4.73814681e-02, 4.87577918e-01, 2.99867044e-01, 4.25063745e-01,\n",
       "       8.02614999e-02, 3.47365317e-02, 1.38555040e-03, 2.37933928e-02,\n",
       "       4.12089067e-01, 1.21938386e-02, 4.36636118e-01, 3.92971883e-03,\n",
       "       4.69394313e-02, 6.84063739e-04, 2.08123920e-01, 6.25680996e-02,\n",
       "       5.72861738e-02, 3.71387224e-02, 6.04190959e-02, 2.39880788e+00,\n",
       "       2.33684273e-01, 6.62236627e-03, 1.79976334e-02, 3.44279177e-01,\n",
       "       5.19921738e-02, 2.44031973e-01, 2.89492966e-01, 2.07830660e+00,\n",
       "       3.54363731e-02, 1.40358037e-01, 1.13429076e+00, 2.37514089e-02,\n",
       "       5.66842266e-01, 3.16118908e-01, 1.09672590e+00, 8.00096880e-02,\n",
       "       1.96466314e-01, 5.67888295e-02, 3.00570741e-01, 2.05476818e-01,\n",
       "       3.22518913e-01, 1.52577619e-02, 2.84008388e-01, 5.14784411e-03,\n",
       "       4.79670976e-03, 2.81519865e-04, 1.07398171e-02, 9.60236244e-03,\n",
       "       1.12781030e+00, 3.43125772e-02, 4.05179626e-03, 3.95914706e-01,\n",
       "       5.25970817e-03, 2.66854434e-02, 2.99464730e-01, 1.42609357e-01,\n",
       "       2.99776887e-01, 3.02368572e-01, 1.80060131e-03, 1.38408687e-01,\n",
       "       4.06007071e-03, 1.60230564e-02, 3.58401006e-02, 1.28951452e-01,\n",
       "       2.74171028e-01, 1.93851027e-01, 2.04738102e-01, 1.23348915e+00,\n",
       "       1.72134466e-01, 4.76113264e-01, 1.10702660e-01, 8.64783868e-05,\n",
       "       1.79825103e-01, 4.64272209e-01, 1.26181806e+00, 3.01265120e-01,\n",
       "       6.72966821e-02, 7.08973097e-03, 2.60272180e-01, 1.24579484e-02,\n",
       "       3.02313550e-01, 9.66281074e-03, 7.35816186e-01, 3.89910041e-03,\n",
       "       3.71026968e-01, 4.48149706e-05, 1.41564219e-02, 2.55579241e-02,\n",
       "       2.51094502e-01, 1.03848878e-01, 1.43130602e-02, 2.00454725e-01,\n",
       "       2.09444851e-01, 5.16989641e-02, 6.72378103e-01, 5.18320264e-01,\n",
       "       4.85439146e-02, 3.59601097e-01, 4.48753746e-02, 2.56810027e-02,\n",
       "       2.73387279e-02, 3.32222690e-02, 2.60407305e-01, 3.81797298e-02,\n",
       "       2.98983123e+00, 8.65513523e-02, 2.40831084e-02, 5.32469944e-01,\n",
       "       9.07409251e-01, 5.89827839e-02, 3.81170781e-01, 6.84894330e-02,\n",
       "       8.34953038e-02, 1.41145513e-01, 5.83762530e-01, 3.74293201e-03,\n",
       "       3.88954724e-03, 1.74601186e+00, 8.88344046e-02, 1.60317043e-01,\n",
       "       4.32167968e-01, 1.70306319e-01, 4.36000309e-03, 4.39464418e-01,\n",
       "       4.42882837e-01, 1.31950772e-01, 3.96588813e-02, 2.33232616e-05,\n",
       "       1.04681155e+00, 2.55912679e-02, 9.20175265e-01, 1.03166757e+00,\n",
       "       1.75534687e-02, 6.83052084e-03, 4.60965632e-02, 8.50779159e-01,\n",
       "       3.22895354e-02, 2.26519045e-01, 8.19103235e-01, 3.00987654e-02,\n",
       "       2.59909708e-02, 2.31791749e-03, 2.88811680e-02, 1.77349367e-01,\n",
       "       2.85665763e-02, 2.92524513e-01, 3.94655483e-01, 9.90618778e-02,\n",
       "       2.13990861e-01, 1.41016893e+00, 1.43951443e-01, 3.32661345e-02,\n",
       "       8.40083584e-01, 1.25875368e-01, 2.78451134e-01, 6.89975552e-04,\n",
       "       6.08021222e-03, 1.24008031e-01, 1.16625626e-01, 2.54468789e-01,\n",
       "       2.09610011e-01, 3.68523935e-01, 9.33379044e-02, 3.03116594e-01,\n",
       "       4.69875932e-05, 3.58983452e-04, 1.58132279e-03, 5.25617503e-02,\n",
       "       5.08840593e-01, 1.16183722e-01, 1.10297137e-02, 1.29061168e-04,\n",
       "       3.87697352e-02, 1.68748053e-01, 9.56177496e-01, 6.06829530e-02,\n",
       "       9.84614334e-02, 4.38256205e-02, 1.95528631e-01, 5.63039352e-01,\n",
       "       9.12373304e-01, 1.22697908e+00, 2.32890921e-01, 4.54135337e-01,\n",
       "       3.01822454e-03, 4.07263893e-02, 1.43083637e-01, 2.04327628e+01,\n",
       "       3.94001489e-01, 4.86928389e-01, 2.96872375e-01, 5.94083008e-02,\n",
       "       6.64291989e-02, 1.27655726e-01, 1.69127863e-01, 5.63714802e-01,\n",
       "       2.04074629e-03, 2.66698153e-02, 3.63110323e-01, 6.61251402e-01,\n",
       "       1.13106705e-02, 7.53458585e-02, 1.31175279e-02, 4.03727498e-01,\n",
       "       6.29219916e-02, 2.33481716e+00, 4.54566775e-02, 1.27023510e-02,\n",
       "       2.06316876e-01, 2.32454917e-02, 2.45041345e-02, 2.65451725e-01,\n",
       "       1.41778478e-01, 8.03190673e-01, 3.33207202e-01, 5.41672917e-02,\n",
       "       1.80760011e-04, 7.90988533e-02, 4.65877514e-01, 1.11375674e-01,\n",
       "       2.24616474e-03, 1.23096020e+00, 7.14007393e-02, 3.22433861e-01,\n",
       "       1.45870269e-01, 1.52077190e-03, 5.82938554e-04, 4.79198010e-02,\n",
       "       2.13315261e+00, 1.17451965e-04, 3.84305399e-01, 1.54775332e-01,\n",
       "       2.14908644e-05, 5.42968522e-01, 5.79088194e-02, 1.88828444e-01,\n",
       "       1.43603035e-02, 5.75874226e-01, 4.28919869e-03, 6.32484679e-02,\n",
       "       2.11782103e-01, 2.10576738e-01, 1.16421024e-01, 1.38109934e+00,\n",
       "       6.98050091e-02, 1.69640073e-01, 3.36679395e-02, 3.32432953e-02,\n",
       "       5.49265944e-01, 1.42533213e-01, 2.12626954e-01, 1.29822204e-01,\n",
       "       5.53866317e-03, 1.17467624e-01, 5.35715670e-01, 1.87131317e-01,\n",
       "       1.23881661e-01, 1.71107676e-03, 5.57699435e-03, 4.80638975e-04,\n",
       "       3.68884179e-01, 1.56048389e+00, 4.93750159e-03, 7.33217126e-02,\n",
       "       2.91809586e-02, 3.61556652e-01, 1.10860326e+00, 3.45591136e-02,\n",
       "       5.48793707e-02, 2.57782030e-01, 2.13871436e-02, 2.48207446e-02,\n",
       "       7.07926643e-02, 8.57396945e-03, 1.52501902e-01, 3.81970504e-01,\n",
       "       3.55193228e-02, 2.68498784e-02, 3.74313072e-01, 1.36464682e+00,\n",
       "       1.69698488e-01, 5.55682965e-02, 2.22050026e-01, 1.65733508e-01,\n",
       "       1.35110655e-08, 1.11851237e-02, 4.13502024e-03, 1.33213163e-02,\n",
       "       1.80912172e-01, 6.34320067e-02, 4.66359331e-01, 1.99514593e+00,\n",
       "       2.38792138e-01, 3.37731019e-01, 9.31013216e-02, 6.76070437e-03,\n",
       "       5.24881735e-01, 1.09273418e+00, 7.03466293e-04, 6.15065608e-01,\n",
       "       4.95076875e-01, 6.68760810e-01, 8.16608544e-02, 1.34768970e-01,\n",
       "       5.72237198e-01, 2.82932347e-03, 5.10947148e-02, 1.86911046e-01,\n",
       "       7.63524979e-01, 5.33600418e-02, 5.58642855e-01, 5.57800883e-02,\n",
       "       6.71109418e-02, 2.21553789e-01, 7.28912343e-01, 4.90439750e-02,\n",
       "       3.94651962e-01, 3.47260834e-01, 3.27633658e-01, 2.50358276e-01,\n",
       "       4.24260476e-03, 1.78664269e-02, 1.89913751e-01, 1.04855998e-01,\n",
       "       2.97645132e-03, 9.81877225e-02, 1.89147165e-01, 2.57408412e-01,\n",
       "       9.23254028e-02, 2.71235666e-02, 1.53048889e-01, 5.78830700e-01,\n",
       "       1.40588011e-01, 1.13768168e-02, 5.29640711e-01, 5.78667953e-02,\n",
       "       1.63582618e-02, 2.06195484e-03, 1.40805507e-01, 1.74837225e-01,\n",
       "       6.56393883e-02, 5.38548398e-01, 1.07224446e-01, 2.12748955e-03,\n",
       "       4.46834497e-01, 1.80324112e+00, 1.05770430e-02, 4.39561176e-01,\n",
       "       4.28234551e-02, 1.12187553e-01, 1.03797407e-01, 7.77549363e-01,\n",
       "       1.78257925e-01, 6.39301883e-01, 5.54486274e-03, 3.34397405e-02,\n",
       "       1.00245213e-01, 7.07761604e-01, 2.08311029e-01, 8.76596339e-02,\n",
       "       1.27313117e-01, 6.16703237e-03, 2.40098863e-01, 7.46532818e-01,\n",
       "       1.71484748e-02, 1.61599529e+00, 4.57459774e-02, 1.62972725e-01,\n",
       "       4.81149034e-03, 1.94190458e-01, 5.67982292e-03, 4.66198423e-02,\n",
       "       1.76266190e-01, 1.93850224e-01, 4.46265838e-01, 2.51212860e-02,\n",
       "       3.94763163e-01, 1.87441549e-02, 7.91203838e-01, 1.09753034e+00,\n",
       "       2.83749986e-02, 6.05736692e-03, 7.42519183e-02, 1.99004254e-04])"
      ]
     },
     "execution_count": 4,
     "metadata": {},
     "output_type": "execute_result"
    }
   ],
   "source": [
    "# reparametrizing the distribution\n",
    "alpha1, alpha2, beta = 0.5, 4, 2\n",
    "N = 1000 # for parameters not too large we recover good values of fitted distribution\n",
    "\n",
    "print(\"With this setup we should recover following values of the parameters: \\n alpha1 = \", alpha1, \"\\n alpha2 = \", alpha2, \"\\n beta = \", beta)\n",
    "\n",
    "# print(\"With this setup we should recover following values of the parameters: \\n alpha1 = \", df1/2, \"\\n alpha2 = \", df2/2, \"\\n beta = \", df2 / df1)\n",
    "\n",
    "f_michal = f.rvs(2 * alpha1, 2 * alpha2, size=N) / beta / beta #/ alpha2 * alpha1 # we create data sampled from Fisher distribution\n",
    "f_michal"
   ]
  },
  {
   "cell_type": "code",
   "execution_count": 5,
   "metadata": {},
   "outputs": [],
   "source": [
    "Fisher = \"\"\"\n",
    "functions { \n",
    " real myFisher_lpdf(real y, real alpha1, real alpha2, real beta) {\n",
    "      return -lbeta(alpha1,alpha2)-log(beta)+(alpha1-1)*log(y/beta)-(alpha1+alpha2)*log(1+y/beta);\n",
    "  }\n",
    "  \n",
    "// to recover more general distribution of Fisher parametrized by three parameters we need to multiply the above distribution \n",
    "// by: df1**df1/2\n",
    "// we have alpha1,2 = df1,2/2, beta = df2/df1\n",
    "}\n",
    "\n",
    "data { \n",
    "  int N;\n",
    "  real y[N]; // points sampled from fisher in python with some(known) parameters, by mcmc we recover true values of those params\n",
    "}\n",
    "parameters { \n",
    "  //parameters of the Fisher\n",
    "  //real df1;\n",
    "  //real df2;\n",
    "  real<lower=0> alpha1;\n",
    "  real<lower=0> alpha2;\n",
    "  real<lower=0> beta;\n",
    "  \n",
    "}\n",
    "model {\n",
    "  // when we deliberately do not specify priors then Stan works with improper priors\n",
    "  //alpha1 ~ uniform(0,2);\n",
    "  //alpha2 ~ gamma(2,2);\n",
    "  //beta ~ gamma(2,2);\n",
    "   // Likelihood\n",
    "  for(n in 1:N) {\n",
    "    target += myFisher_lpdf( y[n] |alpha1, alpha2, beta);\n",
    "  }\n",
    "}\n",
    "\n",
    "generated quantities{}\n",
    "\"\"\""
   ]
  },
  {
   "cell_type": "code",
   "execution_count": 6,
   "metadata": {},
   "outputs": [
    {
     "name": "stderr",
     "output_type": "stream",
     "text": [
      "INFO:pystan:COMPILING THE C++ CODE FOR MODEL anon_model_2593dbc6fd5eec19bf3b62623c410a5e NOW.\n",
      "C:\\Users\\Michal Lewandowski\\Anaconda3\\envs\\py35\\lib\\site-packages\\pystan\\misc.py:399: FutureWarning: Conversion of the second argument of issubdtype from `float` to `np.floating` is deprecated. In future, it will be treated as `np.float64 == np.dtype(float).type`.\n",
      "  elif np.issubdtype(np.asarray(v).dtype, float):\n"
     ]
    },
    {
     "name": "stdout",
     "output_type": "stream",
     "text": [
      "Inference for Stan model: anon_model_2593dbc6fd5eec19bf3b62623c410a5e.\n",
      "1 chains, each with iter=1000; warmup=200; thin=1; \n",
      "post-warmup draws per chain=800, total post-warmup draws=800.\n",
      "\n",
      "         mean se_mean     sd   2.5%    25%    50%    75%  97.5%  n_eff   Rhat\n",
      "alpha1    0.5  1.2e-3   0.02   0.46   0.48    0.5   0.51   0.54    317    1.0\n",
      "alpha2   4.59    0.09   1.41   2.81   3.68   4.35   5.14   7.82    244    1.0\n",
      "beta     2.56    0.07   1.06   1.26   1.89   2.38   2.94    5.0    243    1.0\n",
      "lp__    351.8    0.06   1.14 348.89 351.14 352.14 352.69 353.15    372    1.0\n",
      "\n",
      "Samples were drawn using NUTS at Sun May 13 09:37:43 2018.\n",
      "For each parameter, n_eff is a crude measure of effective sample size,\n",
      "and Rhat is the potential scale reduction factor on split chains (at \n",
      "convergence, Rhat=1).\n"
     ]
    }
   ],
   "source": [
    "data = dict(N = N,  y = f_michal) \n",
    "fit = StanModel(model_code=Fisher).sampling(data=data,iter=1000,warmup=200, chains=1) #we sample from the provided data ;\n",
    "print(fit)"
   ]
  },
  {
   "cell_type": "code",
   "execution_count": 7,
   "metadata": {},
   "outputs": [
    {
     "name": "stdout",
     "output_type": "stream",
     "text": [
      "Again, we try the different parameters:\n"
     ]
    }
   ],
   "source": [
    "print(\"Again, we try the different parameters:\")"
   ]
  },
  {
   "cell_type": "code",
   "execution_count": 8,
   "metadata": {},
   "outputs": [
    {
     "name": "stdout",
     "output_type": "stream",
     "text": [
      "With this setup we should recover following values of the parameters: \n",
      " alpha1 =  10 \n",
      " alpha2 =  3 \n",
      " beta =  7\n"
     ]
    }
   ],
   "source": [
    "# reparametrizing the distribution\n",
    "alpha1, alpha2, beta = 10, 3, 7\n",
    "N = 1000 # for parameters not too large we recover good values of fitted distribution\n",
    "\n",
    "print(\"With this setup we should recover following values of the parameters: \\n alpha1 = \", alpha1, \"\\n alpha2 = \", alpha2, \"\\n beta = \", beta)\n",
    "\n",
    "# print(\"With this setup we should recover following values of the parameters: \\n alpha1 = \", df1/2, \"\\n alpha2 = \", df2/2, \"\\n beta = \", df2 / df1)\n",
    "\n",
    "f_michal = f.rvs(2 * alpha1, 2 * alpha2, size=N) / beta / beta  # we create data sampled from Fisher distribution"
   ]
  },
  {
   "cell_type": "code",
   "execution_count": 9,
   "metadata": {},
   "outputs": [
    {
     "name": "stderr",
     "output_type": "stream",
     "text": [
      "INFO:pystan:COMPILING THE C++ CODE FOR MODEL anon_model_2593dbc6fd5eec19bf3b62623c410a5e NOW.\n"
     ]
    },
    {
     "name": "stdout",
     "output_type": "stream",
     "text": [
      "Inference for Stan model: anon_model_2593dbc6fd5eec19bf3b62623c410a5e.\n",
      "1 chains, each with iter=1200; warmup=200; thin=1; \n",
      "post-warmup draws per chain=1000, total post-warmup draws=1000.\n",
      "\n",
      "         mean se_mean     sd   2.5%    25%    50%    75%  97.5%  n_eff   Rhat\n",
      "alpha1   8.97    0.17   2.59   5.88   7.43   8.42    9.8   15.6    236    1.0\n",
      "alpha2   3.34    0.02    0.3   2.79   3.13   3.31   3.55   3.94    320    1.0\n",
      "beta   8.2e-3  1.7e-4 2.6e-3 3.5e-3 6.6e-3 8.0e-3 9.6e-3   0.01    253    1.0\n",
      "lp__   2751.0    0.07   1.31 2747.7 2750.5 2751.4 2751.9 2752.4    345   1.01\n",
      "\n",
      "Samples were drawn using NUTS at Sun May 13 09:41:51 2018.\n",
      "For each parameter, n_eff is a crude measure of effective sample size,\n",
      "and Rhat is the potential scale reduction factor on split chains (at \n",
      "convergence, Rhat=1).\n"
     ]
    },
    {
     "name": "stderr",
     "output_type": "stream",
     "text": [
      "C:\\Users\\Michal Lewandowski\\Anaconda3\\envs\\py35\\lib\\site-packages\\pystan\\misc.py:399: FutureWarning: Conversion of the second argument of issubdtype from `float` to `np.floating` is deprecated. In future, it will be treated as `np.float64 == np.dtype(float).type`.\n",
      "  elif np.issubdtype(np.asarray(v).dtype, float):\n"
     ]
    }
   ],
   "source": [
    "data = dict(N = N,  y = f_michal) \n",
    "fit = StanModel(model_code=Fisher).sampling(data=data,iter=1200,warmup=200, chains=1) #we sample from the provided data ;\n",
    "print(fit)"
   ]
  },
  {
   "cell_type": "code",
   "execution_count": 14,
   "metadata": {},
   "outputs": [
    {
     "data": {
      "text/plain": [
       "7.731185691324624"
      ]
     },
     "execution_count": 14,
     "metadata": {},
     "output_type": "execute_result"
    }
   ],
   "source": [
    "s = float(np.random.uniform(0,15,1))\n",
    "s"
   ]
  },
  {
   "cell_type": "code",
   "execution_count": 15,
   "metadata": {},
   "outputs": [
    {
     "name": "stdout",
     "output_type": "stream",
     "text": [
      "With this setup we should recover following values of the parameters: \n",
      " alpha1 =  6.909347783501519 \n",
      " alpha2 =  5.227145372066175 \n",
      " beta =  3.489357835988672\n"
     ]
    }
   ],
   "source": [
    "alpha1, alpha2, beta = float(np.random.uniform(0,15,1)), float(np.random.uniform(0,15,1)), float(np.random.uniform(0,15,1))\n",
    "N = 1000 # for parameters not too large we recover good values of fitted distribution\n",
    "\n",
    "print(\"With this setup we should recover following values of the parameters: \\n alpha1 = \", alpha1, \"\\n alpha2 = \", alpha2, \"\\n beta = \", beta)\n",
    "\n",
    "# print(\"With this setup we should recover following values of the parameters: \\n alpha1 = \", df1/2, \"\\n alpha2 = \", df2/2, \"\\n beta = \", df2 / df1)\n",
    "\n",
    "f_michal = f.rvs(2 * alpha1, 2 * alpha2, size=N) / beta / beta  # we create data sampled from Fisher distribution"
   ]
  },
  {
   "cell_type": "code",
   "execution_count": 16,
   "metadata": {
    "scrolled": true
   },
   "outputs": [
    {
     "name": "stderr",
     "output_type": "stream",
     "text": [
      "INFO:pystan:COMPILING THE C++ CODE FOR MODEL anon_model_2593dbc6fd5eec19bf3b62623c410a5e NOW.\n"
     ]
    },
    {
     "name": "stdout",
     "output_type": "stream",
     "text": [
      "Inference for Stan model: anon_model_2593dbc6fd5eec19bf3b62623c410a5e.\n",
      "1 chains, each with iter=1200; warmup=200; thin=1; \n",
      "post-warmup draws per chain=1000, total post-warmup draws=1000.\n",
      "\n",
      "         mean se_mean     sd   2.5%    25%    50%    75%  97.5%  n_eff   Rhat\n",
      "alpha1   5.19    0.05   0.63   4.16   4.76   5.11   5.57   6.54    168    1.0\n",
      "alpha2   7.19     0.1   1.23   5.24   6.33   7.09   7.84   10.1    160    1.0\n",
      "beta     0.12  3.0e-3   0.04   0.07    0.1   0.12   0.14    0.2    153    1.0\n",
      "lp__   1555.7    0.07   1.19 1552.6 1555.1 1556.0 1556.6 1557.0    333    1.0\n",
      "\n",
      "Samples were drawn using NUTS at Sun May 13 09:47:25 2018.\n",
      "For each parameter, n_eff is a crude measure of effective sample size,\n",
      "and Rhat is the potential scale reduction factor on split chains (at \n",
      "convergence, Rhat=1).\n"
     ]
    },
    {
     "name": "stderr",
     "output_type": "stream",
     "text": [
      "C:\\Users\\Michal Lewandowski\\Anaconda3\\envs\\py35\\lib\\site-packages\\pystan\\misc.py:399: FutureWarning: Conversion of the second argument of issubdtype from `float` to `np.floating` is deprecated. In future, it will be treated as `np.float64 == np.dtype(float).type`.\n",
      "  elif np.issubdtype(np.asarray(v).dtype, float):\n"
     ]
    }
   ],
   "source": [
    "data = dict(N = N,  y = f_michal) \n",
    "fit = StanModel(model_code=Fisher).sampling(data=data,iter=1200,warmup=200, chains=1) #we sample from the provided data ;\n",
    "print(fit)"
   ]
  },
  {
   "cell_type": "code",
   "execution_count": 17,
   "metadata": {},
   "outputs": [
    {
     "name": "stdout",
     "output_type": "stream",
     "text": [
      "For 1200 iterations, 200 warm-up, 1 chain and params values sampled from uniform (0,15) we are able to recover values not totally out of the blue but not really correct neither. We try to increase number of iterations.\n"
     ]
    }
   ],
   "source": [
    "print(\"For 1200 iterations, 200 warm-up, 1 chain and params values sampled from uniform (0,15) we are able to recover values not totally out of the blue but not really correct neither. We try to increase number of iterations.\")"
   ]
  },
  {
   "cell_type": "code",
   "execution_count": 18,
   "metadata": {},
   "outputs": [
    {
     "name": "stdout",
     "output_type": "stream",
     "text": [
      "With this setup we should recover following values of the parameters: \n",
      " alpha1 =  4.262588613950948 \n",
      " alpha2 =  4.518947391956019 \n",
      " beta =  6.150954399432402\n"
     ]
    }
   ],
   "source": [
    "alpha1, alpha2, beta = float(np.random.uniform(0,20,1)), float(np.random.uniform(0,20,1)), float(np.random.uniform(0,20,1))\n",
    "N = 1000 # for parameters not too large we recover good values of fitted distribution\n",
    "\n",
    "print(\"With this setup we should recover following values of the parameters: \\n alpha1 = \", alpha1, \"\\n alpha2 = \", alpha2, \"\\n beta = \", beta)\n",
    "\n",
    "# print(\"With this setup we should recover following values of the parameters: \\n alpha1 = \", df1/2, \"\\n alpha2 = \", df2/2, \"\\n beta = \", df2 / df1)\n",
    "\n",
    "f_michal = f.rvs(2 * alpha1, 2 * alpha2, size=N) / beta / beta  # we create data sampled from Fisher distribution"
   ]
  },
  {
   "cell_type": "code",
   "execution_count": 19,
   "metadata": {},
   "outputs": [
    {
     "name": "stderr",
     "output_type": "stream",
     "text": [
      "INFO:pystan:COMPILING THE C++ CODE FOR MODEL anon_model_2593dbc6fd5eec19bf3b62623c410a5e NOW.\n",
      "C:\\Users\\Michal Lewandowski\\Anaconda3\\envs\\py35\\lib\\site-packages\\pystan\\misc.py:399: FutureWarning: Conversion of the second argument of issubdtype from `float` to `np.floating` is deprecated. In future, it will be treated as `np.float64 == np.dtype(float).type`.\n",
      "  elif np.issubdtype(np.asarray(v).dtype, float):\n"
     ]
    },
    {
     "name": "stdout",
     "output_type": "stream",
     "text": [
      "Inference for Stan model: anon_model_2593dbc6fd5eec19bf3b62623c410a5e.\n",
      "2 chains, each with iter=2000; warmup=200; thin=1; \n",
      "post-warmup draws per chain=1800, total post-warmup draws=3600.\n",
      "\n",
      "         mean se_mean     sd   2.5%    25%    50%    75%  97.5%  n_eff   Rhat\n",
      "alpha1   4.53    0.02   0.65    3.5   4.08   4.45   4.89   6.02    686   1.01\n",
      "alpha2   3.98    0.02   0.49   3.18   3.65   3.93   4.25    5.1    789   1.01\n",
      "beta     0.02  2.5e-4 6.6e-3   0.01   0.02   0.02   0.03   0.04    708   1.01\n",
      "lp__   2525.0    0.04   1.26 2521.8 2524.4 2525.3 2525.9 2526.4    835    1.0\n",
      "\n",
      "Samples were drawn using NUTS at Sun May 13 09:52:02 2018.\n",
      "For each parameter, n_eff is a crude measure of effective sample size,\n",
      "and Rhat is the potential scale reduction factor on split chains (at \n",
      "convergence, Rhat=1).\n"
     ]
    }
   ],
   "source": [
    "data = dict(N = N,  y = f_michal) \n",
    "fit = StanModel(model_code=Fisher).sampling(data=data,iter=2000,warmup=200, chains=2) #we sample from the provided data ;\n",
    "print(fit)"
   ]
  },
  {
   "cell_type": "code",
   "execution_count": 20,
   "metadata": {},
   "outputs": [
    {
     "name": "stdout",
     "output_type": "stream",
     "text": [
      "Some problems recovering true value of beta ? \n"
     ]
    }
   ],
   "source": [
    "print(\"Some problems recovering true value of beta ? \")"
   ]
  },
  {
   "cell_type": "code",
   "execution_count": 21,
   "metadata": {},
   "outputs": [
    {
     "name": "stdout",
     "output_type": "stream",
     "text": [
      "I try the same values of params, but increase the number of iterations.\n"
     ]
    }
   ],
   "source": [
    "print(\"I try the same values of params, but increase the number of iterations.\")"
   ]
  },
  {
   "cell_type": "code",
   "execution_count": 22,
   "metadata": {},
   "outputs": [
    {
     "name": "stderr",
     "output_type": "stream",
     "text": [
      "INFO:pystan:COMPILING THE C++ CODE FOR MODEL anon_model_2593dbc6fd5eec19bf3b62623c410a5e NOW.\n",
      "C:\\Users\\Michal Lewandowski\\Anaconda3\\envs\\py35\\lib\\site-packages\\pystan\\misc.py:399: FutureWarning: Conversion of the second argument of issubdtype from `float` to `np.floating` is deprecated. In future, it will be treated as `np.float64 == np.dtype(float).type`.\n",
      "  elif np.issubdtype(np.asarray(v).dtype, float):\n"
     ]
    },
    {
     "name": "stdout",
     "output_type": "stream",
     "text": [
      "Inference for Stan model: anon_model_2593dbc6fd5eec19bf3b62623c410a5e.\n",
      "2 chains, each with iter=4000; warmup=200; thin=1; \n",
      "post-warmup draws per chain=3800, total post-warmup draws=7600.\n",
      "\n",
      "         mean se_mean     sd   2.5%    25%    50%    75%  97.5%  n_eff   Rhat\n",
      "alpha1   4.59    0.02   0.66   3.53   4.14   4.51   4.94   6.12   1148   1.01\n",
      "alpha2   3.93    0.01   0.48   3.15   3.59   3.89    4.2    5.0   1160    1.0\n",
      "beta     0.02  1.9e-4 6.4e-3   0.01   0.02   0.02   0.03   0.04   1093   1.01\n",
      "lp__   2524.9    0.03    1.3 2521.4 2524.3 2525.3 2525.8 2526.4   1740    1.0\n",
      "\n",
      "Samples were drawn using NUTS at Sun May 13 09:57:35 2018.\n",
      "For each parameter, n_eff is a crude measure of effective sample size,\n",
      "and Rhat is the potential scale reduction factor on split chains (at \n",
      "convergence, Rhat=1).\n"
     ]
    }
   ],
   "source": [
    "data = dict(N = N,  y = f_michal) \n",
    "fit = StanModel(model_code=Fisher).sampling(data=data,iter=4000,warmup=200, chains=2) #we sample from the provided data ;\n",
    "print(fit)"
   ]
  },
  {
   "cell_type": "code",
   "execution_count": null,
   "metadata": {},
   "outputs": [],
   "source": [
    "print(\"OK, still the fit is not perfect, maybe better for integer values ?\")"
   ]
  },
  {
   "cell_type": "code",
   "execution_count": 23,
   "metadata": {},
   "outputs": [
    {
     "name": "stdout",
     "output_type": "stream",
     "text": [
      "With this setup we should recover following values of the parameters: \n",
      " alpha1 =  10 \n",
      " alpha2 =  19 \n",
      " beta =  16\n"
     ]
    }
   ],
   "source": [
    "alpha1, alpha2, beta = int(np.random.uniform(0,20,1)), int(np.random.uniform(0,20,1)), int(np.random.uniform(0,20,1))\n",
    "N = 1000 # for parameters not too large we recover good values of fitted distribution\n",
    "\n",
    "print(\"With this setup we should recover following values of the parameters: \\n alpha1 = \", alpha1, \"\\n alpha2 = \", alpha2, \"\\n beta = \", beta)\n",
    "\n",
    "# print(\"With this setup we should recover following values of the parameters: \\n alpha1 = \", df1/2, \"\\n alpha2 = \", df2/2, \"\\n beta = \", df2 / df1)\n",
    "\n",
    "f_michal = f.rvs(2 * alpha1, 2 * alpha2, size=N) / beta / beta  # we create data sampled from Fisher distribution"
   ]
  },
  {
   "cell_type": "code",
   "execution_count": 24,
   "metadata": {},
   "outputs": [
    {
     "name": "stderr",
     "output_type": "stream",
     "text": [
      "INFO:pystan:COMPILING THE C++ CODE FOR MODEL anon_model_2593dbc6fd5eec19bf3b62623c410a5e NOW.\n",
      "C:\\Users\\Michal Lewandowski\\Anaconda3\\envs\\py35\\lib\\site-packages\\pystan\\misc.py:399: FutureWarning: Conversion of the second argument of issubdtype from `float` to `np.floating` is deprecated. In future, it will be treated as `np.float64 == np.dtype(float).type`.\n",
      "  elif np.issubdtype(np.asarray(v).dtype, float):\n"
     ]
    },
    {
     "name": "stdout",
     "output_type": "stream",
     "text": [
      "Inference for Stan model: anon_model_2593dbc6fd5eec19bf3b62623c410a5e.\n",
      "2 chains, each with iter=4000; warmup=200; thin=1; \n",
      "post-warmup draws per chain=3800, total post-warmup draws=7600.\n",
      "\n",
      "         mean se_mean     sd   2.5%    25%    50%    75%  97.5%  n_eff   Rhat\n",
      "alpha1   7.41    0.42   0.42   6.99   6.99   7.41   7.83   7.83      1    nan\n",
      "alpha2 2.6e12  1.2e12 1.2e12 1.5e12 1.5e12 2.6e12 3.8e12 3.8e12      1 4.8e10\n",
      "beta    1.5e9   7.5e8  7.5e8  7.7e8  7.7e8  1.5e9  2.3e9  2.3e9      1 4.2e10\n",
      "lp__   5170.6    13.4   13.4 5157.2 5157.2 5170.6 5183.9 5183.9      1  44.64\n",
      "\n",
      "Samples were drawn using NUTS at Sun May 13 11:07:53 2018.\n",
      "For each parameter, n_eff is a crude measure of effective sample size,\n",
      "and Rhat is the potential scale reduction factor on split chains (at \n",
      "convergence, Rhat=1).\n"
     ]
    }
   ],
   "source": [
    "data = dict(N = N,  y = f_michal) \n",
    "fit = StanModel(model_code=Fisher).sampling(data=data,iter=4000,warmup=200, chains=2) #we sample from the provided data ;\n",
    "print(fit)"
   ]
  },
  {
   "cell_type": "code",
   "execution_count": null,
   "metadata": {},
   "outputs": [],
   "source": []
  },
  {
   "cell_type": "code",
   "execution_count": null,
   "metadata": {},
   "outputs": [],
   "source": []
  }
 ],
 "metadata": {
  "kernelspec": {
   "display_name": "Python 3",
   "language": "python",
   "name": "python3"
  },
  "language_info": {
   "codemirror_mode": {
    "name": "ipython",
    "version": 3
   },
   "file_extension": ".py",
   "mimetype": "text/x-python",
   "name": "python",
   "nbconvert_exporter": "python",
   "pygments_lexer": "ipython3",
   "version": "3.5.4"
  }
 },
 "nbformat": 4,
 "nbformat_minor": 2
}
