{
 "cells": [
  {
   "cell_type": "code",
   "execution_count": null,
   "metadata": {},
   "outputs": [],
   "source": [
    "print(\"In this document we check whether fitting Fisher distribution is reasable for different values of parameters sampled from it.\")"
   ]
  },
  {
   "cell_type": "code",
   "execution_count": null,
   "metadata": {},
   "outputs": [],
   "source": [
    "import pystan\n",
    "import numpy as np\n",
    "from pystan import StanModel \n",
    "# from scipy.stats import f # fisher distribution to check whether it works well "
   ]
  },
  {
   "cell_type": "code",
   "execution_count": 7,
   "metadata": {},
   "outputs": [],
   "source": [
    "import pystan\n",
    "import numpy as np\n",
    "from pystan import StanModel \n",
    "from numpy import polyval, place, extract, any, asarray, nan, inf, pi\n",
    "from numpy import (where, arange, putmask, ravel, sum, shape,\n",
    "                   log, sqrt, exp, arctanh, tan, sin, arcsin, arctan,\n",
    "                   tanh, cos, cosh, sinh, log1p, expm1)\n",
    "import scipy.special as ss\n",
    "\n",
    "from scipy.stats import rv_continuous\n",
    "\n",
    "class Fischer_gen(rv_continuous):\n",
    "    \"\"\"A generalized Pareto continuous random variable.\n",
    "    %(before_notes)s\n",
    "    Notes\n",
    "    -----\n",
    "    The probability density function for `genpareto` is::\n",
    "        genpareto.pdf(x, c) = (1 + c * x)**(-1 - 1/c)\n",
    "    for ``c != 0``, and for ``x >= 0`` for all c,\n",
    "    and ``x < 1/abs(c)`` for ``c < 0``.\n",
    "    %(example)s\n",
    "    \"\"\"\n",
    "#     def _argcheck(self, c):\n",
    "#         c = asarray(c)\n",
    "#         self.b = where(c < 0, 1.0/abs(c), inf)\n",
    "#         return where(c == 0, 0, 1)\n",
    "\n",
    "    def _pdf(self, x, alpha1, alpha2, beta):\n",
    "        Px = 1 / beta / ss.beta(alpha1, alpha2) * pow(x/beta, asarray(alpha1-1)) * pow(1+x/beta, asarray(-alpha1-alpha2))\n",
    "        return Px\n",
    "\n",
    "#     def _logpdf(self, x, alpha, beta):\n",
    "#         return (-1.0-alpha) * np.log(1 + x/beta) + np.log(alpha) - np.log(beta)\n",
    "\n",
    "#     def _cdf(self, x, c):\n",
    "#         return 1.0 - pow(1+c*x, asarray(-1.0/c))\n",
    "\n",
    "#     def _ppf(self, q, c):\n",
    "#         vals = 1.0/c * (pow(1-q, -c)-1)\n",
    "#         return vals\n",
    "\n",
    "#     def _munp(self, n, c):\n",
    "#         k = arange(0, n+1)\n",
    "#         val = (-1.0/c)**n * sum(comb(n, k)*(-1)**k / (1.0-c*k), axis=0)\n",
    "#         return where(c*n < 1, val, inf)\n",
    "\n",
    "#     def _entropy(self, c):\n",
    "#         if (c > 0):\n",
    "#             return 1+c\n",
    "#         else:\n",
    "#             self.b = -1.0 / c\n",
    "#             return rv_continuous._entropy(self, c)\n",
    "Fischer = Fischer_gen(a=0.0, name='Fischer')"
   ]
  },
  {
   "cell_type": "code",
   "execution_count": 8,
   "metadata": {},
   "outputs": [],
   "source": [
    "N, alpha1, alpha2, beta = 10000, 1, 2, 3\n",
    "r = Fischer.rvs(alpha1, alpha2, beta, size=N)\n"
   ]
  },
  {
   "cell_type": "code",
   "execution_count": 9,
   "metadata": {},
   "outputs": [
    {
     "name": "stdout",
     "output_type": "stream",
     "text": [
      "+-----------+-------+-------+-------+-------+-------+-------+--------+\n",
      "| pr.distr. |  mean |   sd  |  2.5% |  25%  |  50%  |  75%  | 97.5%  |\n",
      "+-----------+-------+-------+-------+-------+-------+-------+--------+\n",
      "|  Fréchet  | 3.098 | 8.319 | 0.040 | 0.481 | 1.278 | 3.053 | 16.670 |\n",
      "+-----------+-------+-------+-------+-------+-------+-------+--------+\n"
     ]
    }
   ],
   "source": [
    "from prettytable import PrettyTable\n",
    "m = 3 # how much we round\n",
    "t = PrettyTable(['pr.distr.', 'mean', 'sd', '2.5%', '25%', '50%', '75%', '97.5%'])\n",
    "t.add_row(['Fréchet',\n",
    "           \"%.3f\" % round(np.mean(r),m),\n",
    "           \"%.3f\" % round(np.std(r),m),\n",
    "           \"%.3f\" % round(np.percentile(r, 2.5),m), \n",
    "           \"%.3f\" % round(np.percentile(r, 25),m), \n",
    "           \"%.3f\" % round(np.percentile(r, 50),m), \n",
    "           \"%.3f\" % round(np.percentile(r, 75),m), \n",
    "           \"%.3f\" % round(np.percentile(r, 97.5),m)])\n",
    "# t.add_row(['Bob', 19])\n",
    "print(t)"
   ]
  },
  {
   "cell_type": "code",
   "execution_count": 10,
   "metadata": {},
   "outputs": [],
   "source": [
    "Fisher = \"\"\"\n",
    "functions { \n",
    " real myFisher_lpdf(real y, real alpha1, real alpha2, real beta) {\n",
    "      return -lbeta(alpha1,alpha2)-log(beta)+(alpha1-1)*log(y/beta)-(alpha1+alpha2)*log(1+y/beta);\n",
    "  }\n",
    "  \n",
    "// to recover more general distribution of Fisher parametrized by three parameters we need to multiply the above distribution \n",
    "// by: df1**df1/2\n",
    "// we have alpha1,2 = df1,2/2, beta = df2/df1\n",
    "}\n",
    "\n",
    "data { \n",
    "  int N;\n",
    "  real y[N]; // points sampled from fisher in python with some(known) parameters, by mcmc we recover true values of those params\n",
    "}\n",
    "parameters { \n",
    "  //parameters of the Fisher\n",
    "  //real df1;\n",
    "  //real df2;\n",
    "  real<lower=0> alpha1;\n",
    "  real<lower=0> alpha2;\n",
    "  real<lower=0> beta;\n",
    "  \n",
    "}\n",
    "model {\n",
    "  // when we deliberately do not specify priors then Stan works with improper priors\n",
    "  alpha1 ~ gamma(2,2);\n",
    "  alpha2 ~ gamma(2,2);\n",
    "  beta ~ gamma(2,2);\n",
    "   // Likelihood\n",
    "  for(n in 1:N) {\n",
    "    target += myFisher_lpdf( y[n] |alpha1, alpha2, beta);\n",
    "  }\n",
    "}\n",
    "\n",
    "generated quantities{}\n",
    "\"\"\""
   ]
  },
  {
   "cell_type": "code",
   "execution_count": 11,
   "metadata": {},
   "outputs": [
    {
     "name": "stderr",
     "output_type": "stream",
     "text": [
      "INFO:pystan:COMPILING THE C++ CODE FOR MODEL anon_model_d4729f2aae7e8246b7fdb2f0d877cfb5 NOW.\n",
      "C:\\Users\\Michal Lewandowski\\Anaconda3\\envs\\py35\\lib\\site-packages\\pystan\\misc.py:399: FutureWarning: Conversion of the second argument of issubdtype from `float` to `np.floating` is deprecated. In future, it will be treated as `np.float64 == np.dtype(float).type`.\n",
      "  elif np.issubdtype(np.asarray(v).dtype, float):\n"
     ]
    },
    {
     "name": "stdout",
     "output_type": "stream",
     "text": [
      "Inference for Stan model: anon_model_d4729f2aae7e8246b7fdb2f0d877cfb5.\n",
      "1 chains, each with iter=1000; warmup=200; thin=1; \n",
      "post-warmup draws per chain=800, total post-warmup draws=800.\n",
      "\n",
      "         mean se_mean     sd   2.5%    25%    50%    75%  97.5%  n_eff   Rhat\n",
      "alpha1   1.03  1.4e-3   0.02   0.99   1.02   1.03   1.05   1.07    204   1.01\n",
      "alpha2   1.92  4.2e-3   0.06    1.8   1.87   1.92   1.96   2.04    210   1.01\n",
      "beta     2.81    0.01   0.17   2.49   2.69   2.81   2.93   3.15    178   1.01\n",
      "lp__   -1.9e4    0.07   1.15 -1.9e4 -1.9e4 -1.9e4 -1.9e4 -1.9e4    310    1.0\n",
      "\n",
      "Samples were drawn using NUTS at Sat May 26 15:56:36 2018.\n",
      "For each parameter, n_eff is a crude measure of effective sample size,\n",
      "and Rhat is the potential scale reduction factor on split chains (at \n",
      "convergence, Rhat=1).\n"
     ]
    }
   ],
   "source": [
    "data = dict(N = N,  y = r) \n",
    "fit = StanModel(model_code=Fisher).sampling(data=data,iter=1000,warmup=200, chains=1) #we sample from the provided data ;\n",
    "print(fit)"
   ]
  },
  {
   "cell_type": "code",
   "execution_count": 12,
   "metadata": {},
   "outputs": [
    {
     "name": "stdout",
     "output_type": "stream",
     "text": [
      " alpha1 =  1.031160831658588 \n",
      " alpha2 =  1.9188920831802476 \n",
      " beta =  2.814958547795438\n"
     ]
    }
   ],
   "source": [
    "traceplot_alpha1 = list(fit.extract().values())[0].tolist()\n",
    "beta = np.mean(list(fit.extract().values())[2].tolist())\n",
    "alpha1 = np.mean(list(fit.extract().values())[0].tolist())\n",
    "alpha2 = np.mean(list(fit.extract().values())[1].tolist())\n",
    "\n",
    "print(\" alpha1 = \", alpha1, \"\\n alpha2 = \", alpha2, \"\\n beta = \", beta)"
   ]
  },
  {
   "cell_type": "code",
   "execution_count": 13,
   "metadata": {},
   "outputs": [
    {
     "data": {
      "text/plain": [
       "<Figure size 1400x800 with 2 Axes>"
      ]
     },
     "metadata": {},
     "output_type": "display_data"
    }
   ],
   "source": [
    "import matplotlib.pyplot as plt\n",
    "\n",
    "# plot traceplots of parameters with the histogram displayed on the right side and rotated\n",
    "# f = plt.figure()\n",
    "# define window size, output and axes\n",
    "fig, ax = plt.subplots(1, 2, sharey=True, figsize=[14,8])\n",
    "\n",
    "# set x-axis name\n",
    "ax[0].set_xlabel(\"number of iteration\")\n",
    "ax[0].plot(traceplot_alpha1)\n",
    "ax[0].set_ylabel(\"value of alpha1\")\n",
    "\n",
    "# set y-axis name\n",
    "ax[1].set_xlabel(\"quantity of records\")\n",
    "# ax[1].set_ylabel(\"number of records\")\n",
    "\n",
    "plt.suptitle('traceplot with histogram of values of alpha1 parameter inferred by PyStan')\n",
    "\n",
    "# titles of subplots, here we don't use it \n",
    "# ax[0].set_title(\"traceplot of beta in GPD(alpha, beta)\")\n",
    "# ax[1].set_title(\"Values of beta in GPD(alpha, beta) fitted to the excesses from Frechet \")\n",
    "\n",
    "\n",
    "# create histogram within output\n",
    "Nb, bins, patches = ax[1].hist(traceplot_alpha1, bins=50, color=\"#777777\",  orientation=\"horizontal\") #initial color of all bins\n",
    "\n",
    "plt.show()\n",
    "fig.savefig(\"PyStan_recovers_good_values_of_Fischer.pdf\", bbox_inches='tight')"
   ]
  },
  {
   "cell_type": "code",
   "execution_count": null,
   "metadata": {},
   "outputs": [],
   "source": []
  },
  {
   "cell_type": "code",
   "execution_count": null,
   "metadata": {},
   "outputs": [],
   "source": []
  },
  {
   "cell_type": "code",
   "execution_count": null,
   "metadata": {},
   "outputs": [],
   "source": []
  },
  {
   "cell_type": "code",
   "execution_count": null,
   "metadata": {},
   "outputs": [],
   "source": []
  },
  {
   "cell_type": "code",
   "execution_count": null,
   "metadata": {},
   "outputs": [],
   "source": []
  },
  {
   "cell_type": "code",
   "execution_count": null,
   "metadata": {},
   "outputs": [],
   "source": []
  },
  {
   "cell_type": "code",
   "execution_count": null,
   "metadata": {},
   "outputs": [],
   "source": [
    "df1, df2, N = 10, 10, 1000 # for parameters not too large we recover good values of fitted distribution\n",
    "\n",
    "print(\"With this setup we should recover following values of the parameters: \\n alpha1 = \", df1/2, \"\\n alpha2 = \", df2/2, \"\\n beta = \", df2 / df1)\n",
    "\n",
    "r = f.rvs(df1, df2, size=N) # we create data sampled from Fisher distribution"
   ]
  },
  {
   "cell_type": "code",
   "execution_count": null,
   "metadata": {},
   "outputs": [],
   "source": [
    "# reparametrizing the distribution\n",
    "alpha1, alpha2, beta = 0.5, 4, 2\n",
    "N = 1000 # for parameters not too large we recover good values of fitted distribution\n",
    "\n",
    "print(\"With this setup we should recover following values of the parameters: \\n alpha1 = \", alpha1, \"\\n alpha2 = \", alpha2, \"\\n beta = \", beta)\n",
    "\n",
    "# print(\"With this setup we should recover following values of the parameters: \\n alpha1 = \", df1/2, \"\\n alpha2 = \", df2/2, \"\\n beta = \", df2 / df1)\n",
    "\n",
    "f_michal = f.rvs(2 * alpha1, 2 * alpha2, size=N) / beta / beta #/ alpha2 * alpha1 # we create data sampled from Fisher distribution\n",
    "f_michal"
   ]
  },
  {
   "cell_type": "code",
   "execution_count": null,
   "metadata": {},
   "outputs": [],
   "source": [
    "print(\"Again, we try the different parameters:\")"
   ]
  },
  {
   "cell_type": "code",
   "execution_count": null,
   "metadata": {},
   "outputs": [],
   "source": [
    "# reparametrizing the distribution\n",
    "alpha1, alpha2, beta = 10, 3, 7\n",
    "N = 1000 # for parameters not too large we recover good values of fitted distribution\n",
    "\n",
    "print(\"With this setup we should recover following values of the parameters: \\n alpha1 = \", alpha1, \"\\n alpha2 = \", alpha2, \"\\n beta = \", beta)\n",
    "\n",
    "# print(\"With this setup we should recover following values of the parameters: \\n alpha1 = \", df1/2, \"\\n alpha2 = \", df2/2, \"\\n beta = \", df2 / df1)\n",
    "\n",
    "f_michal = f.rvs(2 * alpha1, 2 * alpha2, size=N) / beta / beta  # we create data sampled from Fisher distribution"
   ]
  },
  {
   "cell_type": "code",
   "execution_count": null,
   "metadata": {},
   "outputs": [],
   "source": [
    "data = dict(N = N,  y = f_michal) \n",
    "fit = StanModel(model_code=Fisher).sampling(data=data,iter=1200,warmup=200, chains=1) #we sample from the provided data ;\n",
    "print(fit)"
   ]
  },
  {
   "cell_type": "code",
   "execution_count": null,
   "metadata": {},
   "outputs": [],
   "source": [
    "s = float(np.random.uniform(0,15,1))\n",
    "s"
   ]
  },
  {
   "cell_type": "code",
   "execution_count": null,
   "metadata": {},
   "outputs": [],
   "source": [
    "alpha1, alpha2, beta = float(np.random.uniform(0,15,1)), float(np.random.uniform(0,15,1)), float(np.random.uniform(0,15,1))\n",
    "N = 1000 # for parameters not too large we recover good values of fitted distribution\n",
    "\n",
    "print(\"With this setup we should recover following values of the parameters: \\n alpha1 = \", alpha1, \"\\n alpha2 = \", alpha2, \"\\n beta = \", beta)\n",
    "\n",
    "# print(\"With this setup we should recover following values of the parameters: \\n alpha1 = \", df1/2, \"\\n alpha2 = \", df2/2, \"\\n beta = \", df2 / df1)\n",
    "\n",
    "f_michal = f.rvs(2 * alpha1, 2 * alpha2, size=N) / beta / beta  # we create data sampled from Fisher distribution"
   ]
  },
  {
   "cell_type": "code",
   "execution_count": null,
   "metadata": {
    "scrolled": true
   },
   "outputs": [],
   "source": [
    "data = dict(N = N,  y = f_michal) \n",
    "fit = StanModel(model_code=Fisher).sampling(data=data,iter=1200,warmup=200, chains=1) #we sample from the provided data ;\n",
    "print(fit)"
   ]
  },
  {
   "cell_type": "code",
   "execution_count": null,
   "metadata": {},
   "outputs": [],
   "source": [
    "print(\"For 1200 iterations, 200 warm-up, 1 chain and params values sampled from uniform (0,15) we are able to recover values not totally out of the blue but not really correct neither. We try to increase number of iterations.\")"
   ]
  },
  {
   "cell_type": "code",
   "execution_count": null,
   "metadata": {},
   "outputs": [],
   "source": [
    "alpha1, alpha2, beta = float(np.random.uniform(0,20,1)), float(np.random.uniform(0,20,1)), float(np.random.uniform(0,20,1))\n",
    "N = 1000 # for parameters not too large we recover good values of fitted distribution\n",
    "\n",
    "print(\"With this setup we should recover following values of the parameters: \\n alpha1 = \", alpha1, \"\\n alpha2 = \", alpha2, \"\\n beta = \", beta)\n",
    "\n",
    "# print(\"With this setup we should recover following values of the parameters: \\n alpha1 = \", df1/2, \"\\n alpha2 = \", df2/2, \"\\n beta = \", df2 / df1)\n",
    "\n",
    "f_michal = f.rvs(2 * alpha1, 2 * alpha2, size=N) / beta / beta  # we create data sampled from Fisher distribution"
   ]
  },
  {
   "cell_type": "code",
   "execution_count": null,
   "metadata": {},
   "outputs": [],
   "source": [
    "data = dict(N = N,  y = f_michal) \n",
    "fit = StanModel(model_code=Fisher).sampling(data=data,iter=2000,warmup=200, chains=2) #we sample from the provided data ;\n",
    "print(fit)"
   ]
  },
  {
   "cell_type": "code",
   "execution_count": null,
   "metadata": {},
   "outputs": [],
   "source": [
    "print(\"Some problems recovering true value of beta ? \")"
   ]
  },
  {
   "cell_type": "code",
   "execution_count": null,
   "metadata": {},
   "outputs": [],
   "source": [
    "print(\"I try the same values of params, but increase the number of iterations.\")"
   ]
  },
  {
   "cell_type": "code",
   "execution_count": null,
   "metadata": {},
   "outputs": [],
   "source": [
    "data = dict(N = N,  y = f_michal) \n",
    "fit = StanModel(model_code=Fisher).sampling(data=data,iter=4000,warmup=200, chains=2) #we sample from the provided data ;\n",
    "print(fit)"
   ]
  },
  {
   "cell_type": "code",
   "execution_count": null,
   "metadata": {},
   "outputs": [],
   "source": [
    "print(\"OK, still the fit is not perfect, maybe better for integer values ?\")"
   ]
  },
  {
   "cell_type": "code",
   "execution_count": null,
   "metadata": {},
   "outputs": [],
   "source": [
    "alpha1, alpha2, beta = int(np.random.uniform(0,20,1)), int(np.random.uniform(0,20,1)), int(np.random.uniform(0,20,1))\n",
    "N = 1000 # for parameters not too large we recover good values of fitted distribution\n",
    "\n",
    "print(\"With this setup we should recover following values of the parameters: \\n alpha1 = \", alpha1, \"\\n alpha2 = \", alpha2, \"\\n beta = \", beta)\n",
    "\n",
    "# print(\"With this setup we should recover following values of the parameters: \\n alpha1 = \", df1/2, \"\\n alpha2 = \", df2/2, \"\\n beta = \", df2 / df1)\n",
    "\n",
    "f_michal = f.rvs(2 * alpha1, 2 * alpha2, size=N) / beta / beta  # we create data sampled from Fisher distribution"
   ]
  },
  {
   "cell_type": "code",
   "execution_count": null,
   "metadata": {},
   "outputs": [],
   "source": [
    "data = dict(N = N,  y = f_michal) \n",
    "fit = StanModel(model_code=Fisher).sampling(data=data,iter=4000,warmup=200, chains=2) #we sample from the provided data ;\n",
    "print(fit)"
   ]
  },
  {
   "cell_type": "code",
   "execution_count": null,
   "metadata": {},
   "outputs": [],
   "source": []
  },
  {
   "cell_type": "code",
   "execution_count": null,
   "metadata": {},
   "outputs": [],
   "source": []
  }
 ],
 "metadata": {
  "kernelspec": {
   "display_name": "Python 3",
   "language": "python",
   "name": "python3"
  },
  "language_info": {
   "codemirror_mode": {
    "name": "ipython",
    "version": 3
   },
   "file_extension": ".py",
   "mimetype": "text/x-python",
   "name": "python",
   "nbconvert_exporter": "python",
   "pygments_lexer": "ipython3",
   "version": "3.5.4"
  }
 },
 "nbformat": 4,
 "nbformat_minor": 2
}
