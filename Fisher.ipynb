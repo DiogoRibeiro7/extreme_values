{
 "cells": [
  {
   "cell_type": "code",
   "execution_count": null,
   "metadata": {},
   "outputs": [],
   "source": [
    "# We simulate data from 3 distributions, we will be interested in excesses: k statistics for k \\in 50, 100, 150, ..., \n",
    "# to each excess we then fit GPD and Fisher distributions, with priors as already written \n",
    "\n",
    "# 1) we need to sample from exactly specified distributions: a) either create a class and sample rv from it or\n",
    "#                                                            b) use the transformation proposed by Julyan (easier)\n",
    "# 2) make replications of data sets, for each of the set obtain excesses, for each excess obtain the parameters\n",
    "# 3) try changing values of k, keep fitting the parameters"
   ]
  },
  {
   "cell_type": "code",
   "execution_count": 1,
   "metadata": {},
   "outputs": [],
   "source": [
    "# genereting random numbers from Frechet & Burr & log-gamma \n",
    "import pystan\n",
    "import numpy as np\n",
    "from pystan import StanModel \n",
    "from scipy.stats import frechet_r, loggamma, burr, invweibull\n",
    "# from scipy.stats import burr\n",
    "# f`rom scipy.stats import loggamma\n",
    "N = 5000\n",
    "c = 1\n",
    "# frechet_r.pdf(x, c) =c*x**(-c-1)*exp(-x**-c)\n",
    "frechet = invweibull.rvs(c, size=N) # this is exactly the same as in publication, there beta = 1/c \n",
    "\n",
    "# burr distribution, burr(1, 1/2, 2)\n",
    "# burr_r.pdf = c * d * x**(-c-1) * ( 1 + x**( -c ) )**(- d - 1)\n",
    "c, d = 1, 0.5\n",
    "burr = burr.rvs(c, d, size=N)\n",
    "\n",
    "# log-gamma\n",
    "# probability density for loggamma: loggamma.pdf(x, c) = exp(c*x-exp(x)) / gamma(c)\n",
    "c = 2\n",
    "loggamma = loggamma.rvs(c, size=N)\n",
    "\n",
    "# i assume the pdfs are correct, now we need to save the k- greatest values from each distribution,\n",
    "\n",
    "# save the k-th greatest value u, \n",
    "\n",
    "# get the array of x_i - u and to those data fit both GPD and Fisher distribution then use fitted scale and shape params to \n",
    "# get the quantiles of Fisher and GPD distributions"
   ]
  },
  {
   "cell_type": "code",
   "execution_count": 2,
   "metadata": {},
   "outputs": [],
   "source": [
    "# fisher\n",
    "from scipy.stats import f\n",
    "df1, df2, N = 10, 10, 1000 # for parameters not too large we recover good values of fitted distribution\n",
    "r = f.rvs(df1, df2, size=N)# we create first column of data sampled from desired distribution and then we add to them others\n",
    "n = 20 # number of datasets we investigate\n",
    "\n",
    "for i in range(n):\n",
    "    r = np.column_stack((r, f.rvs(df1, df2, size=N))) # 20 replications of datas from frechet distribution in columns\n",
    "# np.shape(r)\n",
    "# print((r[0,:]))\n"
   ]
  },
  {
   "cell_type": "code",
   "execution_count": null,
   "metadata": {},
   "outputs": [],
   "source": [
    "# here we work with dataset with dimensions  1000 x 21  (1000 rows and 21 columns)"
   ]
  },
  {
   "cell_type": "code",
   "execution_count": 3,
   "metadata": {},
   "outputs": [],
   "source": [
    "for i in range(0, len(r[0,:])):# now we have sampled data in columns, we sort each column in increasing order \n",
    "    # so that to easily get excesses\n",
    "    r[:,i] = np.sort(r[:,i], axis=None)# we sort data sampled from frechet, each dataset is in separate column\n",
    "\n",
    "#  we need to get excesses from each column, equivalently k = 50, 100, 150, 200, 2500 excesses from N = 5000 data points"
   ]
  },
  {
   "cell_type": "code",
   "execution_count": null,
   "metadata": {},
   "outputs": [],
   "source": [
    "# rescaling the data to obtain parameters alpha1, alhpa2, beta in PyStan fit\n",
    "# f.rvs(alpha1, alpha2, beta) = f.rvs(2 * alpha1, 2 * alpha2) * beta / alpha2 * alpha1\n",
    "\n",
    "# so we expect to obtain - this part of simulation was good, we received the desired values of the params\n",
    "# alpha1 = df1 / 2 = 5, \n",
    "# alpha2 = df2 / 2 = 5, \n",
    "# beta = df2 / df1 = 1"
   ]
  },
  {
   "cell_type": "code",
   "execution_count": null,
   "metadata": {},
   "outputs": [],
   "source": [
    "# frechet = np.sort(frechet, axis=None)\n",
    "# k = np.linspace(50, 250, num=5)\n",
    "k = [int(x) for x in np.linspace(50, 250, num=5)] # here we create a level k for excesses \n",
    "k"
   ]
  },
  {
   "cell_type": "code",
   "execution_count": 4,
   "metadata": {},
   "outputs": [],
   "source": [
    "# to get k-greatest value from which we subtract the border value\n",
    "# a - list, k - we get k greatest values, \n",
    "# we create a matrix of fixed excesses\n",
    "k = 50\n",
    "def k_greatest_values(a,k):\n",
    "    \"\"\"returns k greatest elements from the list a and k-1 value starting from which we consider values as extremes\"\"\"\n",
    "#     a = np.sort(a, axis=None)\n",
    "    mat = np.zeros(len(a[-1 - k + 1 : ,1] )) # we prepare the matrix for the excesses\n",
    "    u = np.zeros(len(r[0 , : ] )) # we prepare the vector in which we will return u values for each dataset in column of a\n",
    "    for i in range(0, len(a[0,:])): # index i goes through the columns, instead of len(a[0,:]) there could be len(a[i,:]) for i in range of columns\n",
    "                     u[i] = a[-1 - k, i] # u is a list of values s.t. bigger values are considered as excesses, for each\n",
    "            # set of data,\n",
    "            # i.e. for each column we save an u value\n",
    "                     mat = np.column_stack((mat,a[ -1 - k + 1 : , i])) # k = 50 is the number of excesses we are interested in\n",
    "#                    in mat matrix we return the values of excesses but not yet transformed (y_i = x_i - u)\n",
    "    return(mat, u) # u is the starting value from which we consider others as excesses"
   ]
  },
  {
   "cell_type": "code",
   "execution_count": 8,
   "metadata": {},
   "outputs": [
    {
     "data": {
      "text/plain": [
       "50"
      ]
     },
     "execution_count": 8,
     "metadata": {},
     "output_type": "execute_result"
    }
   ],
   "source": [
    "# for instance we save k = 100 greatest values generated form frechet distribution\n",
    "# k = 100\n",
    "data_frechet,u = k_greatest_values(r,k) # in data frechet we keep the matrix of excesses, each sampled data set is in \n",
    "len(data_frechet[:,1]) # the number of excesses"
   ]
  },
  {
   "cell_type": "code",
   "execution_count": 13,
   "metadata": {},
   "outputs": [
    {
     "data": {
      "text/plain": [
       "array([ 3.01428866,  3.01901526,  3.06776823,  3.08977678,  3.09781158,\n",
       "        3.11247477,  3.13645726,  3.15498972,  3.19572357,  3.27558794,\n",
       "        3.32888757,  3.3520501 ,  3.35442703,  3.35853284,  3.42658905,\n",
       "        3.45934525,  3.46249212,  3.49187549,  3.5384521 ,  3.5405901 ,\n",
       "        3.56035912,  3.61101278,  3.65568195,  3.6815078 ,  3.68860678,\n",
       "        3.71247881,  3.88485014,  3.90307282,  3.96538873,  4.10369519,\n",
       "        4.11444956,  4.14674849,  4.43558924,  4.45446396,  4.57404945,\n",
       "        4.57561087,  4.66344058,  4.77254484,  4.99192837,  5.15063539,\n",
       "        5.35301385,  5.65060192,  5.69498354,  5.85679189,  6.030824  ,\n",
       "        6.13725375,  6.35874494,  6.48227462,  7.44395701, 12.36198051])"
      ]
     },
     "execution_count": 13,
     "metadata": {},
     "output_type": "execute_result"
    }
   ],
   "source": [
    "data_frechet[:,3] # the excesses from the 1st generated dataset "
   ]
  },
  {
   "cell_type": "code",
   "execution_count": 14,
   "metadata": {},
   "outputs": [],
   "source": [
    "B = [[x]*50 for x in u] # form the array of u values we create matrix, in columns we have repeated u values   \n",
    "A = np.delete(data_frechet, 0, 1)  # delete first column of a matrix A, \n",
    "# which is full of zeros and was necessery to get column_stack"
   ]
  },
  {
   "cell_type": "code",
   "execution_count": 26,
   "metadata": {},
   "outputs": [],
   "source": [
    "# (data, number of column / row, 1 = column & 0 = row)\n",
    "C = np.array(A) - np.array(B).transpose() # here we subtract u_i from excesses in each dataset"
   ]
  },
  {
   "cell_type": "code",
   "execution_count": null,
   "metadata": {},
   "outputs": [],
   "source": [
    "# C contains in its columns replication of data simulated from Frechet distribution, to each data set in column we need to fit \n",
    "# a fischer distribution, then take average over the results of obtained parameters \n",
    "\n",
    "# C to access the values of reduced extremes we need to do the following: C[:,i].tolist() for index i in len(C[1].tolist())"
   ]
  },
  {
   "cell_type": "code",
   "execution_count": 36,
   "metadata": {},
   "outputs": [
    {
     "data": {
      "text/plain": [
       "21"
      ]
     },
     "execution_count": 36,
     "metadata": {},
     "output_type": "execute_result"
    }
   ],
   "source": [
    "len(C[1].tolist())"
   ]
  },
  {
   "cell_type": "code",
   "execution_count": 39,
   "metadata": {},
   "outputs": [
    {
     "data": {
      "text/plain": [
       "50"
      ]
     },
     "execution_count": 39,
     "metadata": {},
     "output_type": "execute_result"
    }
   ],
   "source": [
    "len(C[:,0].tolist())"
   ]
  },
  {
   "cell_type": "code",
   "execution_count": 43,
   "metadata": {},
   "outputs": [],
   "source": [
    "Fisher = \"\"\"\n",
    "functions { \n",
    " real myFisher_lpdf(real y3, real alpha1, real alpha2, real beta) {\n",
    "      //return df2/2*log(df2)+df1/2*log(df1)+(df1/2-1)*log(y3)-(df1/2+df2/2)*log(df2+df1*y3)-lbeta(df1/2, df2/2);\n",
    "      return -lbeta(alpha1,alpha2)-log(beta)+(alpha1-1)*log(y3/beta)-(alpha1+alpha2)*log(1+y3/beta);\n",
    "  }\n",
    "  \n",
    "// to recover more general distribution of Fisher parametrized by three parameters we need to multiply the above distribution \n",
    "// by: df1**df1/2\n",
    "// we have alpha1,2 = df1,2/2, beta = df2/df1\n",
    "}\n",
    "data { \n",
    "  int N;\n",
    "  real y3[N]; // points sampled from fisher in python with some(known) parameters, by mcmc we recover true values of those params\n",
    "}\n",
    "parameters { \n",
    "  // parameters of the Fisher\n",
    "  //real df1;\n",
    "  //real df2;\n",
    "  real<lower=0> alpha1;\n",
    "  real<lower=0> alpha2;\n",
    "  real<lower=0> beta;\n",
    "\n",
    "  \n",
    "}\n",
    "model {\n",
    "  // deliberately we do not specify priors - in this way Stan works with improper priors\n",
    "  alpha1 ~ uniform(0,2);\n",
    "  alpha2 ~ gamma(2,2);\n",
    "  beta ~ gamma(2,2);\n",
    "   // Likelihood\n",
    "  for(n in 1:N) {\n",
    "    target += myFisher_lpdf( y3[n] |alpha1, alpha2, beta);\n",
    "  }\n",
    "}\n",
    "\n",
    "generated quantities{}\n",
    "\"\"\""
   ]
  },
  {
   "cell_type": "code",
   "execution_count": 52,
   "metadata": {},
   "outputs": [
    {
     "name": "stderr",
     "output_type": "stream",
     "text": [
      "INFO:pystan:COMPILING THE C++ CODE FOR MODEL anon_model_6d2d2d02e51f94a9181eb9337334d024 NOW.\n"
     ]
    },
    {
     "name": "stdout",
     "output_type": "stream",
     "text": [
      "Inference for Stan model: anon_model_6d2d2d02e51f94a9181eb9337334d024.\n",
      "1 chains, each with iter=3000; warmup=200; thin=1; \n",
      "post-warmup draws per chain=2800, total post-warmup draws=2800.\n",
      "\n",
      "         mean se_mean     sd   2.5%    25%    50%    75%  97.5%  n_eff   Rhat\n",
      "alpha1   1.42  9.5e-3   0.28   0.89   1.22   1.41   1.63   1.94    869    1.0\n",
      "alpha2   1.85    0.02   0.52   1.06   1.49   1.76   2.13   3.11    934    1.0\n",
      "beta     1.32    0.02    0.6    0.5   0.88   1.22   1.64   2.77    958    1.0\n",
      "lp__   -78.99    0.04   1.18 -81.97 -79.54 -78.66 -78.14 -77.69    986    1.0\n",
      "\n",
      "Samples were drawn using NUTS at Thu May 10 10:13:28 2018.\n",
      "For each parameter, n_eff is a crude measure of effective sample size,\n",
      "and Rhat is the potential scale reduction factor on split chains (at \n",
      "convergence, Rhat=1).\n"
     ]
    },
    {
     "name": "stderr",
     "output_type": "stream",
     "text": [
      "C:\\Users\\Michal Lewandowski\\Anaconda3\\envs\\py35\\lib\\site-packages\\pystan\\misc.py:399: FutureWarning: Conversion of the second argument of issubdtype from `float` to `np.floating` is deprecated. In future, it will be treated as `np.float64 == np.dtype(float).type`.\n",
      "  elif np.issubdtype(np.asarray(v).dtype, float):\n"
     ]
    }
   ],
   "source": [
    "data = dict(N = len(C[:,0].tolist()),  y3 = C[:,0].tolist()) \n",
    "fit = StanModel(model_code=Fisher).sampling(data=data,iter=1000,warmup=200, chains=1) #we sample from the provided data ;\n",
    "print(fit)"
   ]
  },
  {
   "cell_type": "code",
   "execution_count": 53,
   "metadata": {},
   "outputs": [],
   "source": [
    "# attention - stupid values with improper priors"
   ]
  },
  {
   "cell_type": "code",
   "execution_count": 54,
   "metadata": {},
   "outputs": [
    {
     "data": {
      "image/png": "[encoded data removed]",
      "text/plain": [
       "<Figure size 432x288 with 1 Axes>"
      ]
     },
     "metadata": {},
     "output_type": "display_data"
    }
   ],
   "source": [
    "# beta = np.mean(list(fit.extract().values())[0].tolist())\n",
    "import matplotlib.pyplot as plt\n",
    "beta = list(fit.extract().values())[0].tolist()\n",
    "plt.plot(beta)\n",
    "plt.show()\n",
    "# problem - for 1k iteration the value of beta does not converge\n",
    "# for 2k iteration it does not converge neither\n",
    "# for 3k the same story\n",
    "# ok, the values do not converge - I do numerous fits for different dataset for the same number of excesses, then I take the average of\n",
    "# the obtained values"
   ]
  },
  {
   "cell_type": "code",
   "execution_count": null,
   "metadata": {},
   "outputs": [],
   "source": [
    "alpha1 = np.mean(list(fit.extract().values())[1].tolist())\n",
    "alpha2 = np.mean(list(fit.extract().values())[2].tolist())"
   ]
  },
  {
   "cell_type": "code",
   "execution_count": 55,
   "metadata": {},
   "outputs": [
    {
     "data": {
      "text/plain": [
       "21"
      ]
     },
     "execution_count": 55,
     "metadata": {},
     "output_type": "execute_result"
    }
   ],
   "source": [
    "len(C[0].tolist())"
   ]
  },
  {
   "cell_type": "code",
   "execution_count": 56,
   "metadata": {},
   "outputs": [],
   "source": [
    "# we prepare array for the values of the beta and alpha1,2 parameters \n",
    "number_of_fits = len(C[0].tolist())\n",
    "betas = np.zeros(number_of_fits)\n",
    "alphas1 = np.zeros(number_of_fits)\n",
    "alphas2 = np.zeros(number_of_fits)\n",
    "# so the method works, now we need to make about 100 fits and to average over the fits, maybe set up better priors\n",
    "# we should also plot the histogram of data and compare it with density function on one plot"
   ]
  },
  {
   "cell_type": "code",
   "execution_count": 57,
   "metadata": {},
   "outputs": [
    {
     "name": "stderr",
     "output_type": "stream",
     "text": [
      "INFO:pystan:COMPILING THE C++ CODE FOR MODEL anon_model_6d2d2d02e51f94a9181eb9337334d024 NOW.\n",
      "C:\\Users\\Michal Lewandowski\\Anaconda3\\envs\\py35\\lib\\site-packages\\pystan\\misc.py:399: FutureWarning: Conversion of the second argument of issubdtype from `float` to `np.floating` is deprecated. In future, it will be treated as `np.float64 == np.dtype(float).type`.\n",
      "  elif np.issubdtype(np.asarray(v).dtype, float):\n",
      "INFO:pystan:COMPILING THE C++ CODE FOR MODEL anon_model_6d2d2d02e51f94a9181eb9337334d024 NOW.\n",
      "INFO:pystan:COMPILING THE C++ CODE FOR MODEL anon_model_6d2d2d02e51f94a9181eb9337334d024 NOW.\n",
      "INFO:pystan:COMPILING THE C++ CODE FOR MODEL anon_model_6d2d2d02e51f94a9181eb9337334d024 NOW.\n",
      "INFO:pystan:COMPILING THE C++ CODE FOR MODEL anon_model_6d2d2d02e51f94a9181eb9337334d024 NOW.\n",
      "INFO:pystan:COMPILING THE C++ CODE FOR MODEL anon_model_6d2d2d02e51f94a9181eb9337334d024 NOW.\n",
      "INFO:pystan:COMPILING THE C++ CODE FOR MODEL anon_model_6d2d2d02e51f94a9181eb9337334d024 NOW.\n",
      "INFO:pystan:COMPILING THE C++ CODE FOR MODEL anon_model_6d2d2d02e51f94a9181eb9337334d024 NOW.\n",
      "INFO:pystan:COMPILING THE C++ CODE FOR MODEL anon_model_6d2d2d02e51f94a9181eb9337334d024 NOW.\n",
      "INFO:pystan:COMPILING THE C++ CODE FOR MODEL anon_model_6d2d2d02e51f94a9181eb9337334d024 NOW.\n",
      "INFO:pystan:COMPILING THE C++ CODE FOR MODEL anon_model_6d2d2d02e51f94a9181eb9337334d024 NOW.\n",
      "INFO:pystan:COMPILING THE C++ CODE FOR MODEL anon_model_6d2d2d02e51f94a9181eb9337334d024 NOW.\n",
      "INFO:pystan:COMPILING THE C++ CODE FOR MODEL anon_model_6d2d2d02e51f94a9181eb9337334d024 NOW.\n",
      "INFO:pystan:COMPILING THE C++ CODE FOR MODEL anon_model_6d2d2d02e51f94a9181eb9337334d024 NOW.\n",
      "INFO:pystan:COMPILING THE C++ CODE FOR MODEL anon_model_6d2d2d02e51f94a9181eb9337334d024 NOW.\n",
      "INFO:pystan:COMPILING THE C++ CODE FOR MODEL anon_model_6d2d2d02e51f94a9181eb9337334d024 NOW.\n",
      "INFO:pystan:COMPILING THE C++ CODE FOR MODEL anon_model_6d2d2d02e51f94a9181eb9337334d024 NOW.\n",
      "INFO:pystan:COMPILING THE C++ CODE FOR MODEL anon_model_6d2d2d02e51f94a9181eb9337334d024 NOW.\n",
      "INFO:pystan:COMPILING THE C++ CODE FOR MODEL anon_model_6d2d2d02e51f94a9181eb9337334d024 NOW.\n",
      "INFO:pystan:COMPILING THE C++ CODE FOR MODEL anon_model_6d2d2d02e51f94a9181eb9337334d024 NOW.\n",
      "INFO:pystan:COMPILING THE C++ CODE FOR MODEL anon_model_6d2d2d02e51f94a9181eb9337334d024 NOW.\n"
     ]
    }
   ],
   "source": [
    "for i in range(0, len(betas)):\n",
    "    data = dict(N = len(C[i].tolist()),  y3 = C[i].tolist())\n",
    "    fit = StanModel(model_code=Fisher).sampling(data=data,iter=1000,warmup=200, chains=1) #we sample from the provided data ;\n",
    "    betas[i] = np.mean(list(fit.extract().values())[0].tolist())\n",
    "    alphas1[i] = np.mean(list(fit.extract().values())[1].tolist())\n",
    "    alphas2[i] = np.mean(list(fit.extract().values())[2].tolist())\n",
    "# print(fit)"
   ]
  },
  {
   "cell_type": "code",
   "execution_count": 67,
   "metadata": {},
   "outputs": [
    {
     "name": "stdout",
     "output_type": "stream",
     "text": [
      "Average over dataset of k = 50 excesses from frechet distribution of 1000 variables, we considered 50 excesses. \n",
      " mean of alphas1 =  3.2112827937092043 \n",
      " mean of alphas2 =  0.4700266543370785 \n",
      " mean of betas =  1.7022636673804648\n"
     ]
    }
   ],
   "source": [
    "print(\"Average over dataset of k = 50 excesses from frechet distribution of 1000 variables, we considered 50 excesses.\",\"\\n\", \"mean of alphas1 = \", np.mean(alphas1), \"\\n\", \"mean of alphas2 = \", np.mean(alphas2),\"\\n\", \"mean of betas = \", np.mean(betas)) "
   ]
  },
  {
   "cell_type": "code",
   "execution_count": null,
   "metadata": {},
   "outputs": [],
   "source": [
    "# I'm not sure whether priors used above are adequate.\n",
    "# comment about testing not excess values.\n",
    "# so it recovers good parameters for not big values of df1, df2."
   ]
  },
  {
   "cell_type": "code",
   "execution_count": null,
   "metadata": {},
   "outputs": [],
   "source": [
    "# here we consider datasets with excesses of different size, lets try k = 100 from burr distribution"
   ]
  },
  {
   "cell_type": "code",
   "execution_count": 77,
   "metadata": {},
   "outputs": [
    {
     "data": {
      "text/plain": [
       "2.8378211577706037e-09"
      ]
     },
     "execution_count": 77,
     "metadata": {},
     "output_type": "execute_result"
    }
   ],
   "source": [
    "from scipy.stats import burr\n",
    "\n",
    "c, d, N = 1, 0.5, 1000\n",
    "# burr = burr.rvs(c, d, size=N)\n",
    "# from scipy.stats import f\n",
    "r = burr.rvs(c, d, size=N)# we create first column of data sampled from desired distribution and then we add to them others\n",
    "n = 20 # number of datasets we investigate\n",
    "\n",
    "for i in range(n):\n",
    "    r = np.column_stack((r, burr.rvs(c, d, size=N))) # 20 replications of datas from frechet distribution in columns\n",
    "    \n",
    "np.min(r)\n",
    "# np.shape(r)\n",
    "# print((r[0,:]))"
   ]
  },
  {
   "cell_type": "code",
   "execution_count": 78,
   "metadata": {},
   "outputs": [],
   "source": [
    "# we need to sort in increasing order gathered data\n",
    "for i in range(0, len(r[0,:])):# now we have sampled data in columns, we sort each column in increasing order \n",
    "    # so that to easily get excesses\n",
    "    r[:,i] = np.sort(r[:,i], axis=None)# we sort data sampled from frechet, each dataset is in separate column\n"
   ]
  },
  {
   "cell_type": "code",
   "execution_count": 79,
   "metadata": {},
   "outputs": [],
   "source": [
    "data_burr,u = k_greatest_values(r,k) # in data frechet we keep the matrix of excesses, each sampled data set is in \n"
   ]
  },
  {
   "cell_type": "code",
   "execution_count": 80,
   "metadata": {},
   "outputs": [],
   "source": [
    "B = [[x]*50 for x in u] # form the array of u values we create matrix, in columns we have repeated u values   \n",
    "A = np.delete(data_burr, 0, 1)  # delete first column of a matrix A, \n",
    "# which is full of zeros and was necessery to get column_stack"
   ]
  },
  {
   "cell_type": "code",
   "execution_count": 81,
   "metadata": {},
   "outputs": [],
   "source": [
    "C = np.array(A) - np.array(B).transpose() # here we subtract u_i from excesses in each dataset"
   ]
  },
  {
   "cell_type": "code",
   "execution_count": 82,
   "metadata": {},
   "outputs": [],
   "source": [
    "number_of_fits = len(C[0].tolist())\n",
    "betas = np.zeros(number_of_fits)\n",
    "alphas1 = np.zeros(number_of_fits)\n",
    "alphas2 = np.zeros(number_of_fits)\n",
    "# so the method works, now we need to make about 100 fits and to average over the fits, maybe set up better priors\n",
    "# we should also plot the histogram of data and compare it with density function on one plot"
   ]
  },
  {
   "cell_type": "code",
   "execution_count": 83,
   "metadata": {},
   "outputs": [
    {
     "name": "stderr",
     "output_type": "stream",
     "text": [
      "INFO:pystan:COMPILING THE C++ CODE FOR MODEL anon_model_6d2d2d02e51f94a9181eb9337334d024 NOW.\n",
      "C:\\Users\\Michal Lewandowski\\Anaconda3\\envs\\py35\\lib\\site-packages\\pystan\\misc.py:399: FutureWarning: Conversion of the second argument of issubdtype from `float` to `np.floating` is deprecated. In future, it will be treated as `np.float64 == np.dtype(float).type`.\n",
      "  elif np.issubdtype(np.asarray(v).dtype, float):\n",
      "INFO:pystan:COMPILING THE C++ CODE FOR MODEL anon_model_6d2d2d02e51f94a9181eb9337334d024 NOW.\n",
      "INFO:pystan:COMPILING THE C++ CODE FOR MODEL anon_model_6d2d2d02e51f94a9181eb9337334d024 NOW.\n",
      "INFO:pystan:COMPILING THE C++ CODE FOR MODEL anon_model_6d2d2d02e51f94a9181eb9337334d024 NOW.\n",
      "INFO:pystan:COMPILING THE C++ CODE FOR MODEL anon_model_6d2d2d02e51f94a9181eb9337334d024 NOW.\n",
      "INFO:pystan:COMPILING THE C++ CODE FOR MODEL anon_model_6d2d2d02e51f94a9181eb9337334d024 NOW.\n",
      "INFO:pystan:COMPILING THE C++ CODE FOR MODEL anon_model_6d2d2d02e51f94a9181eb9337334d024 NOW.\n",
      "INFO:pystan:COMPILING THE C++ CODE FOR MODEL anon_model_6d2d2d02e51f94a9181eb9337334d024 NOW.\n",
      "INFO:pystan:COMPILING THE C++ CODE FOR MODEL anon_model_6d2d2d02e51f94a9181eb9337334d024 NOW.\n",
      "INFO:pystan:COMPILING THE C++ CODE FOR MODEL anon_model_6d2d2d02e51f94a9181eb9337334d024 NOW.\n",
      "INFO:pystan:COMPILING THE C++ CODE FOR MODEL anon_model_6d2d2d02e51f94a9181eb9337334d024 NOW.\n",
      "INFO:pystan:COMPILING THE C++ CODE FOR MODEL anon_model_6d2d2d02e51f94a9181eb9337334d024 NOW.\n",
      "INFO:pystan:COMPILING THE C++ CODE FOR MODEL anon_model_6d2d2d02e51f94a9181eb9337334d024 NOW.\n",
      "INFO:pystan:COMPILING THE C++ CODE FOR MODEL anon_model_6d2d2d02e51f94a9181eb9337334d024 NOW.\n",
      "INFO:pystan:COMPILING THE C++ CODE FOR MODEL anon_model_6d2d2d02e51f94a9181eb9337334d024 NOW.\n",
      "INFO:pystan:COMPILING THE C++ CODE FOR MODEL anon_model_6d2d2d02e51f94a9181eb9337334d024 NOW.\n",
      "INFO:pystan:COMPILING THE C++ CODE FOR MODEL anon_model_6d2d2d02e51f94a9181eb9337334d024 NOW.\n",
      "INFO:pystan:COMPILING THE C++ CODE FOR MODEL anon_model_6d2d2d02e51f94a9181eb9337334d024 NOW.\n",
      "INFO:pystan:COMPILING THE C++ CODE FOR MODEL anon_model_6d2d2d02e51f94a9181eb9337334d024 NOW.\n",
      "INFO:pystan:COMPILING THE C++ CODE FOR MODEL anon_model_6d2d2d02e51f94a9181eb9337334d024 NOW.\n",
      "INFO:pystan:COMPILING THE C++ CODE FOR MODEL anon_model_6d2d2d02e51f94a9181eb9337334d024 NOW.\n"
     ]
    }
   ],
   "source": [
    "for i in range(0, len(betas)):\n",
    "    data = dict(N = len(C[i].tolist()),  y3 = C[i].tolist())\n",
    "    fit = StanModel(model_code=Fisher).sampling(data=data,iter=1000,warmup=200, chains=1) #we sample from the provided data ;\n",
    "    betas[i] = np.mean(list(fit.extract().values())[0].tolist())\n",
    "    alphas1[i] = np.mean(list(fit.extract().values())[1].tolist())\n",
    "    alphas2[i] = np.mean(list(fit.extract().values())[2].tolist())\n",
    "# print(fit)"
   ]
  },
  {
   "cell_type": "code",
   "execution_count": 84,
   "metadata": {},
   "outputs": [
    {
     "name": "stdout",
     "output_type": "stream",
     "text": [
      "Average over dataset of k = 50 excesses from burr distribution of 1000 variables, we considered 50 excesses. \n",
      " mean of alphas1 =  1.9250483082396308 \n",
      " mean of alphas2 =  2.295012469352681 \n",
      " mean of betas =  1.75062237579999\n"
     ]
    }
   ],
   "source": [
    "print(\"Average over dataset of k = 50 excesses from burr distribution of 1000 variables, we considered 50 excesses.\",\"\\n\", \"mean of alphas1 = \", np.mean(alphas1), \"\\n\", \"mean of alphas2 = \", np.mean(alphas2),\"\\n\", \"mean of betas = \", np.mean(betas)) "
   ]
  },
  {
   "cell_type": "code",
   "execution_count": null,
   "metadata": {},
   "outputs": [],
   "source": [
    "# what are plots in publication ? what we need to plot ?"
   ]
  },
  {
   "cell_type": "code",
   "execution_count": 85,
   "metadata": {},
   "outputs": [
    {
     "name": "stdout",
     "output_type": "stream",
     "text": [
      "aa\n"
     ]
    }
   ],
   "source": [
    "print(\"aa\")"
   ]
  },
  {
   "cell_type": "code",
   "execution_count": null,
   "metadata": {},
   "outputs": [],
   "source": []
  },
  {
   "cell_type": "code",
   "execution_count": null,
   "metadata": {},
   "outputs": [],
   "source": []
  },
  {
   "cell_type": "code",
   "execution_count": null,
   "metadata": {},
   "outputs": [],
   "source": []
  },
  {
   "cell_type": "code",
   "execution_count": null,
   "metadata": {},
   "outputs": [],
   "source": []
  },
  {
   "cell_type": "code",
   "execution_count": null,
   "metadata": {},
   "outputs": [],
   "source": []
  },
  {
   "cell_type": "code",
   "execution_count": null,
   "metadata": {},
   "outputs": [],
   "source": []
  },
  {
   "cell_type": "code",
   "execution_count": null,
   "metadata": {},
   "outputs": [],
   "source": []
  },
  {
   "cell_type": "code",
   "execution_count": null,
   "metadata": {},
   "outputs": [],
   "source": []
  },
  {
   "cell_type": "code",
   "execution_count": null,
   "metadata": {},
   "outputs": [],
   "source": []
  },
  {
   "cell_type": "code",
   "execution_count": null,
   "metadata": {},
   "outputs": [],
   "source": [
    "# saving values of parameters of the fit\n",
    "beta = np.mean(list(fit.extract().values())[0].tolist())\n",
    "alpha1 = np.mean(list(fit.extract().values())[1].tolist())\n",
    "alpha2 = np.mean(list(fit.extract().values())[2].tolist())"
   ]
  },
  {
   "cell_type": "code",
   "execution_count": null,
   "metadata": {},
   "outputs": [],
   "source": [
    "myHist = plt.hist(data_frechet, 100, normed=True)\n",
    "plt.show()"
   ]
  },
  {
   "cell_type": "code",
   "execution_count": null,
   "metadata": {},
   "outputs": [],
   "source": [
    "import scipy.special as ss\n",
    "# here we want to get a pdf to plot it on histogram\n",
    "# function which returns probability density of fisher\n",
    "def fisher_den(x,alpha1,alpha2,beta1):\n",
    "    return(1/ss.beta(alpha1,alpha2)*np.exp(-np.log(beta1)+(alpha1-1)*np.log(x/beta1)-(alpha1+alpha2)*np.log(1+x/beta1))) \n",
    "x = np.linspace(0,600) "
   ]
  },
  {
   "cell_type": "code",
   "execution_count": null,
   "metadata": {},
   "outputs": [],
   "source": [
    "plt.plot(fisher_den(x,1,1,1))"
   ]
  },
  {
   "cell_type": "code",
   "execution_count": null,
   "metadata": {},
   "outputs": [],
   "source": [
    "# we investigate closer the values of mcmc chain for each parameters, in particular we should verify if it converges\n",
    "plt.plot(alpha1[0:100])"
   ]
  },
  {
   "cell_type": "code",
   "execution_count": null,
   "metadata": {},
   "outputs": [],
   "source": [
    "# estimation of quantiles \n",
    "def quantile_GPD(N, k, p, beta, gamma, u):\n",
    "    return( u + beta*( ( N * p / k )**( -gamma ) - 1 ) ) # p = 0.05\n",
    "\n",
    "def quantile_Fisher(N, F_y):\n",
    "    return(u + F_y) # F_y is inversed survival function available for programmed .f distribution in python"
   ]
  },
  {
   "cell_type": "code",
   "execution_count": null,
   "metadata": {},
   "outputs": [],
   "source": [
    "# these values are the same as in the programmed form of fisher distribution, to transform them to alpha's, beta we need to do \n",
    "# as below, however now we have corrected the form of the distribution so that it is no longer necessery\n",
    "df1 = np.mean(list(fit.extract().values())[0].tolist())\n",
    "df2 = np.mean(list(fit.extract().values())[1].tolist())\n",
    "alpha1, alpha2, beta_f = df1 / 2, df2 / 2, df2 / df1\n",
    "print(alpha1, alpha2, beta_f)"
   ]
  },
  {
   "cell_type": "code",
   "execution_count": null,
   "metadata": {},
   "outputs": [],
   "source": []
  },
  {
   "cell_type": "code",
   "execution_count": null,
   "metadata": {},
   "outputs": [],
   "source": []
  },
  {
   "cell_type": "code",
   "execution_count": null,
   "metadata": {},
   "outputs": [],
   "source": []
  }
 ],
 "metadata": {
  "kernelspec": {
   "display_name": "Python 3",
   "language": "python",
   "name": "python3"
  },
  "language_info": {
   "codemirror_mode": {
    "name": "ipython",
    "version": 3
   },
   "file_extension": ".py",
   "mimetype": "text/x-python",
   "name": "python",
   "nbconvert_exporter": "python",
   "pygments_lexer": "ipython3",
   "version": "3.5.4"
  }
 },
 "nbformat": 4,
 "nbformat_minor": 2
}
