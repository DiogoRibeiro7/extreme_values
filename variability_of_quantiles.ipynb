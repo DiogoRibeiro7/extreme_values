{
 "cells": [
  {
   "cell_type": "code",
   "execution_count": 1,
   "metadata": {},
   "outputs": [],
   "source": [
    "import numpy as np\n",
    "import matplotlib.pyplot as plt\n",
    "import pystan\n",
    "from pystan import StanModel \n",
    "from numpy import polyval, place, extract, any, asarray, nan, inf, pi\n",
    "from numpy import (where, arange, putmask, ravel, sum, shape,\n",
    "                   log, sqrt, exp, arctanh, tan, sin, arcsin, arctan,\n",
    "                   tanh, cos, cosh, sinh, log1p, expm1)\n",
    "\n",
    "from scipy.stats import rv_continuous\n",
    "\n",
    "class frechet_gen(rv_continuous):\n",
    "#     def _argcheck(self, c):\n",
    "#         c = asarray(c)\n",
    "#         self.b = where(c < 0, 1.0/abs(c), inf)\n",
    "#         return where(c == 0, 0, 1)\n",
    "\n",
    "#     def _pdf(self, x, alpha1, alpha2, beta):\n",
    "#         Px = 1 / beta / ss.beta(alpha1, alpha2) * pow(x/beta, asarray(alpha1-1.0)) * pow(1 + x/beta, asarray(- alpha1 - alpha2))\n",
    "#         return Px\n",
    "\n",
    "#     def _logpdf(self, x, alpha1, alpha2, beta):\n",
    "#         return (alpha1 - 1) * np.log(x) - alpha1 * np.log(beta) - np.log(ss.beta(alpha1, alpha2)) - (alpha1 + alpha2) * np.log(1 + x/beta)\n",
    "\n",
    "    def _cdf(self, x, beta):\n",
    "        return exp(-pow(x, -1/beta))\n",
    "#     def _ppf(self, q, c):\n",
    "#         vals = 1.0/c * (pow(1-q, -c)-1)\n",
    "#         return vals\n",
    "\n",
    "#     def _munp(self, n, c):\n",
    "#         k = arange(0, n+1)\n",
    "#         val = (-1.0/c)**n * sum(comb(n, k)*(-1)**k / (1.0-c*k), axis=0)\n",
    "#         return where(c*n < 1, val, inf)\n",
    "\n",
    "#     def _entropy(self, c):\n",
    "#         if (c > 0):\n",
    "#             return 1+c\n",
    "#         else:\n",
    "#             self.b = -1.0 / c\n",
    "#             return rv_continuous._entropy(self, c)\n",
    "frechet = frechet_gen(a=0.0, name='frechet') # we specify the support [a,b], no b means b = infinity"
   ]
  },
  {
   "cell_type": "code",
   "execution_count": 2,
   "metadata": {},
   "outputs": [],
   "source": [
    "# here we are able to sample rv exactly as in publication\n",
    "N, beta = 1000,  1/2 # run with n = 1000000\n",
    "# beta = 1/2 because we want to have a finite mean and for this beta we could check that the code is good\n",
    "r = frechet.rvs(beta, size=N)\n",
    "# np.mean(r)\n",
    "# + histogram of data's"
   ]
  },
  {
   "cell_type": "code",
   "execution_count": 3,
   "metadata": {},
   "outputs": [
    {
     "name": "stdout",
     "output_type": "stream",
     "text": [
      "+-----------+-------+-------+-------+-------+-------+-------+--------+\n",
      "| pr.distr. |  mean |   sd  | 92.5% |  95%  | 97.5% |  99%  | 99.9%  |\n",
      "+-----------+-------+-------+-------+-------+-------+-------+--------+\n",
      "|  Fréchet  | 1.628 | 1.604 | 3.408 | 4.014 | 5.306 | 7.052 | 15.706 |\n",
      "+-----------+-------+-------+-------+-------+-------+-------+--------+\n"
     ]
    }
   ],
   "source": [
    "from prettytable import PrettyTable\n",
    "m = 3 # how much we round\n",
    "t = PrettyTable(['pr.distr.', 'mean', 'sd', '92.5%', '95%', '97.5%', '99%', '99.9%'])\n",
    "t.add_row(['Fréchet',\n",
    "           \"%.3f\" % round(np.mean(r),m),\n",
    "           \"%.3f\" % round(np.std(r),m),\n",
    "#            \"%.3f\" % round(np.percentile(r, 2.5),m), \n",
    "#            \"%.3f\" % round(np.percentile(r, 25),m), \n",
    "#            \"%.3f\" % round(np.percentile(r, 50),m), \n",
    "           \"%.3f\" % round(np.percentile(r, 92.5),m), \n",
    "           \"%.3f\" % round(np.percentile(r, 95),m), \n",
    "           \"%.3f\" % round(np.percentile(r, 97.5),m), \n",
    "           \"%.3f\" % round(np.percentile(r, 99),m),\n",
    "           \"%.3f\" % round(np.percentile(r, 99.9),m)])\n",
    "# t.add_row(['Bob', 19])\n",
    "print(t)"
   ]
  },
  {
   "cell_type": "code",
   "execution_count": 4,
   "metadata": {},
   "outputs": [],
   "source": [
    "# we need a function to get a excesses\n",
    "def k_greatest_values(a,k):\n",
    "    \"\"\"returns k greatest elements from the list and k-1 value starting from which we consider values to be extreme\"\"\"\n",
    "    u = np.sort(a, axis=None)[-1-k]\n",
    "    a = np.sort(a, axis=None)[-1-k+1:]\n",
    "    a = asarray([a-u for x in a])\n",
    "    return(a[1].tolist(), u) # u the starting value from which we consider others as excesses"
   ]
  },
  {
   "cell_type": "code",
   "execution_count": 5,
   "metadata": {},
   "outputs": [],
   "source": [
    "GPD = \"\"\"\n",
    "functions {\n",
    "  real myGPD_lpdf(real y, real alpha, real beta) {\n",
    "      //return -(1+1/c)*log(1+c*y2);\n",
    "      return -(alpha + 1)*( log(1+y/beta) )+(log(alpha) - log(beta));\n",
    "  }\n",
    "  // above distribution is a special case of the distribution in the paper for alpha = beta = 1 / c\n",
    "  // c = 1/beta\n",
    "}\n",
    "data { \n",
    "  int N;\n",
    "  real y[N]; // points sampled from gpd in python with some(known) parameters, by mcmc we recover true values of those params\n",
    "}\n",
    "parameters { \n",
    "  //real c; \n",
    "  real alpha;\n",
    "  real beta;\n",
    "}\n",
    "model {\n",
    "  // Priors\n",
    "  // no priors - we assume improper priors on params\n",
    "  // c ~ uniform(0,1);\n",
    "  alpha ~ gamma(2,2);\n",
    "  beta ~ gamma(2,2);\n",
    "\n",
    "// Likelihood\n",
    "  for(n in 1:N) {\n",
    "    target += myGPD_lpdf( y[n] | alpha, beta );\n",
    "  }\n",
    "\n",
    "}\n",
    "generated quantities{}\n",
    "\"\"\""
   ]
  },
  {
   "cell_type": "code",
   "execution_count": 7,
   "metadata": {},
   "outputs": [],
   "source": [
    "Fisher = \"\"\"\n",
    "functions { \n",
    " real myFisher_lpdf(real y, real alpha1, real alpha2, real beta) {\n",
    "      return -lbeta(alpha1,alpha2)-log(beta)+(alpha1-1)*log(y/beta)-(alpha1+alpha2)*log(1+y/beta);\n",
    "  }\n",
    "  \n",
    "// to recover more general distribution of Fisher parametrized by three parameters we need to multiply the above distribution \n",
    "// by: df1**df1/2\n",
    "// we have alpha1,2 = df1,2/2, beta = df2/df1\n",
    "}\n",
    "\n",
    "data { \n",
    "  int N;\n",
    "  real y[N]; // points sampled from fisher in python with some(known) parameters, by mcmc we recover true values of those params\n",
    "}\n",
    "parameters { \n",
    "  //parameters of the Fisher\n",
    "  //real df1;\n",
    "  //real df2;\n",
    "  real<lower=0> alpha1;\n",
    "  real<lower=0> alpha2;\n",
    "  real<lower=0> beta;\n",
    "  \n",
    "}\n",
    "model {\n",
    "  // when we deliberately do not specify priors then Stan works with improper priors\n",
    "  alpha1 ~ gamma(2,2);\n",
    "  alpha2 ~ gamma(2,2);\n",
    "  beta ~ gamma(2,2);\n",
    "   // Likelihood\n",
    "  for(n in 1:N) {\n",
    "    target += myFisher_lpdf( y[n] |alpha1, alpha2, beta);\n",
    "  }\n",
    "}\n",
    "\n",
    "generated quantities{}\n",
    "\"\"\""
   ]
  },
  {
   "cell_type": "code",
   "execution_count": null,
   "metadata": {},
   "outputs": [],
   "source": [
    "traceplot_beta_GPD = list(fit.extract().values())[1].tolist() \n",
    "traceplot_alpha = list(fit.extract().values())[0].tolist()\n",
    "traceplot_gamma = np.divide(np.ones(len(traceplot_alpha)), traceplot_alpha)\n",
    "beta_GPD = np.mean(list(fit.extract().values())[1].tolist())\n",
    "alpha = np.mean(list(fit.extract().values())[0].tolist())\n",
    "gamma = 1 / alpha \n",
    "print(\" alpha = \", alpha, \"\\n beta = \", beta, \"\\n gamma = \", gamma)"
   ]
  },
  {
   "cell_type": "code",
   "execution_count": null,
   "metadata": {},
   "outputs": [],
   "source": [
    "traceplot_beta = list(fit.extract().values())[2].tolist()\n",
    "traceplot_alpha1 = list(fit.extract().values())[1].tolist()\n",
    "traceplot_alpha2 = list(fit.extract().values())[0].tolist()\n",
    "beta = np.mean(list(fit.extract().values())[2].tolist())\n",
    "alpha2 = np.mean(list(fit.extract().values())[1].tolist())\n",
    "alpha1 = np.mean(list(fit.extract().values())[0].tolist())\n",
    "print(\" alpha1 = \", alpha1, \"\\n alpha2 = \", alpha2, \"\\n beta = \", beta)\n"
   ]
  },
  {
   "cell_type": "code",
   "execution_count": 20,
   "metadata": {},
   "outputs": [
    {
     "name": "stderr",
     "output_type": "stream",
     "text": [
      "INFO:pystan:COMPILING THE C++ CODE FOR MODEL anon_model_5551b5fb5994a23fc671300ba4c16b27 NOW.\n",
      "C:\\Users\\Michal Lewandowski\\Anaconda3\\envs\\py35\\lib\\site-packages\\pystan\\misc.py:399: FutureWarning: Conversion of the second argument of issubdtype from `float` to `np.floating` is deprecated. In future, it will be treated as `np.float64 == np.dtype(float).type`.\n",
      "  elif np.issubdtype(np.asarray(v).dtype, float):\n",
      "INFO:pystan:COMPILING THE C++ CODE FOR MODEL anon_model_5551b5fb5994a23fc671300ba4c16b27 NOW.\n",
      "INFO:pystan:COMPILING THE C++ CODE FOR MODEL anon_model_5551b5fb5994a23fc671300ba4c16b27 NOW.\n",
      "INFO:pystan:COMPILING THE C++ CODE FOR MODEL anon_model_5551b5fb5994a23fc671300ba4c16b27 NOW.\n",
      "INFO:pystan:COMPILING THE C++ CODE FOR MODEL anon_model_5551b5fb5994a23fc671300ba4c16b27 NOW.\n",
      "INFO:pystan:COMPILING THE C++ CODE FOR MODEL anon_model_5551b5fb5994a23fc671300ba4c16b27 NOW.\n",
      "INFO:pystan:COMPILING THE C++ CODE FOR MODEL anon_model_5551b5fb5994a23fc671300ba4c16b27 NOW.\n",
      "INFO:pystan:COMPILING THE C++ CODE FOR MODEL anon_model_5551b5fb5994a23fc671300ba4c16b27 NOW.\n",
      "INFO:pystan:COMPILING THE C++ CODE FOR MODEL anon_model_5551b5fb5994a23fc671300ba4c16b27 NOW.\n",
      "INFO:pystan:COMPILING THE C++ CODE FOR MODEL anon_model_5551b5fb5994a23fc671300ba4c16b27 NOW.\n",
      "INFO:pystan:COMPILING THE C++ CODE FOR MODEL anon_model_5551b5fb5994a23fc671300ba4c16b27 NOW.\n",
      "INFO:pystan:COMPILING THE C++ CODE FOR MODEL anon_model_5551b5fb5994a23fc671300ba4c16b27 NOW.\n",
      "INFO:pystan:COMPILING THE C++ CODE FOR MODEL anon_model_5551b5fb5994a23fc671300ba4c16b27 NOW.\n",
      "INFO:pystan:COMPILING THE C++ CODE FOR MODEL anon_model_5551b5fb5994a23fc671300ba4c16b27 NOW.\n",
      "INFO:pystan:COMPILING THE C++ CODE FOR MODEL anon_model_5551b5fb5994a23fc671300ba4c16b27 NOW.\n",
      "INFO:pystan:COMPILING THE C++ CODE FOR MODEL anon_model_5551b5fb5994a23fc671300ba4c16b27 NOW.\n",
      "INFO:pystan:COMPILING THE C++ CODE FOR MODEL anon_model_5551b5fb5994a23fc671300ba4c16b27 NOW.\n",
      "INFO:pystan:COMPILING THE C++ CODE FOR MODEL anon_model_5551b5fb5994a23fc671300ba4c16b27 NOW.\n",
      "INFO:pystan:COMPILING THE C++ CODE FOR MODEL anon_model_5551b5fb5994a23fc671300ba4c16b27 NOW.\n",
      "INFO:pystan:COMPILING THE C++ CODE FOR MODEL anon_model_5551b5fb5994a23fc671300ba4c16b27 NOW.\n"
     ]
    },
    {
     "name": "stdout",
     "output_type": "stream",
     "text": [
      "[8.18058552 4.31604986 4.01129814 3.74944492 3.45329348 3.44408325\n",
      " 3.40287295 3.33785399 3.32256703 3.3111926  3.31556212 3.32601644\n",
      " 3.32622453 3.33612896 3.34917158 3.34113409 3.33132109 3.32943494\n",
      " 3.32160381 3.31508248]\n"
     ]
    }
   ],
   "source": [
    "jump_excesses = np.linspace(5, N/4, 20).astype(int) # astype function converts the values in the array to integers\n",
    "# jump_excesses = np.range(5, N/2, 5)\n",
    "\n",
    "q = [0.925, 0.95, 0.975, 0.99, 0.999]\n",
    "# print(quant_GPD)\n",
    "\n",
    "quant_GPD = np.zeros(len(jump_excesses)) \n",
    "\n",
    "for i in range(len(jump_excesses)):\n",
    "    frechet, u = k_greatest_values(r, jump_excesses[i])\n",
    "    data = dict(N = jump_excesses[i],  y = frechet)\n",
    "    fit = StanModel(model_code=GPD).sampling(data=data,iter=1000,warmup=200, chains=1) #we sample from the provided data ;\n",
    "    beta_GPD = np.mean(list(fit.extract().values())[1].tolist()) \n",
    "    gamma = 1/np.mean(list(fit.extract().values())[0].tolist())\n",
    "    quant_GPD[i] = u + beta_GPD*( pow( N * (1-q[0]) / jump_excesses[i], -gamma ) - 1 )\n",
    "\n",
    "print(quant_GPD)\n",
    "\n",
    "#we see values for a fixed quantiles"
   ]
  },
  {
   "cell_type": "code",
   "execution_count": 21,
   "metadata": {},
   "outputs": [
    {
     "data": {
      "image/png": "[encoded data removed]",
      "text/plain": [
       "<Figure size 432x288 with 1 Axes>"
      ]
     },
     "metadata": {},
     "output_type": "display_data"
    }
   ],
   "source": [
    "plt.plot(jump_excesses, quant_GPD)\n",
    "plt.xlabel('number of excesses')\n",
    "plt.ylabel('value of quantile at level 0.925')\n",
    "plt.title('Variability of quantile at fixed level ')\n",
    "plt.show()"
   ]
  },
  {
   "cell_type": "code",
   "execution_count": 14,
   "metadata": {},
   "outputs": [],
   "source": [
    "# the same for Fischer distribution \n",
    "from scipy.stats import f\n"
   ]
  },
  {
   "cell_type": "code",
   "execution_count": 22,
   "metadata": {},
   "outputs": [
    {
     "name": "stderr",
     "output_type": "stream",
     "text": [
      "INFO:pystan:COMPILING THE C++ CODE FOR MODEL anon_model_d4729f2aae7e8246b7fdb2f0d877cfb5 NOW.\n",
      "C:\\Users\\Michal Lewandowski\\Anaconda3\\envs\\py35\\lib\\site-packages\\pystan\\misc.py:399: FutureWarning: Conversion of the second argument of issubdtype from `float` to `np.floating` is deprecated. In future, it will be treated as `np.float64 == np.dtype(float).type`.\n",
      "  elif np.issubdtype(np.asarray(v).dtype, float):\n",
      "INFO:pystan:COMPILING THE C++ CODE FOR MODEL anon_model_d4729f2aae7e8246b7fdb2f0d877cfb5 NOW.\n",
      "INFO:pystan:COMPILING THE C++ CODE FOR MODEL anon_model_d4729f2aae7e8246b7fdb2f0d877cfb5 NOW.\n",
      "INFO:pystan:COMPILING THE C++ CODE FOR MODEL anon_model_d4729f2aae7e8246b7fdb2f0d877cfb5 NOW.\n",
      "INFO:pystan:COMPILING THE C++ CODE FOR MODEL anon_model_d4729f2aae7e8246b7fdb2f0d877cfb5 NOW.\n",
      "INFO:pystan:COMPILING THE C++ CODE FOR MODEL anon_model_d4729f2aae7e8246b7fdb2f0d877cfb5 NOW.\n",
      "INFO:pystan:COMPILING THE C++ CODE FOR MODEL anon_model_d4729f2aae7e8246b7fdb2f0d877cfb5 NOW.\n",
      "INFO:pystan:COMPILING THE C++ CODE FOR MODEL anon_model_d4729f2aae7e8246b7fdb2f0d877cfb5 NOW.\n",
      "INFO:pystan:COMPILING THE C++ CODE FOR MODEL anon_model_d4729f2aae7e8246b7fdb2f0d877cfb5 NOW.\n",
      "INFO:pystan:COMPILING THE C++ CODE FOR MODEL anon_model_d4729f2aae7e8246b7fdb2f0d877cfb5 NOW.\n",
      "INFO:pystan:COMPILING THE C++ CODE FOR MODEL anon_model_d4729f2aae7e8246b7fdb2f0d877cfb5 NOW.\n",
      "INFO:pystan:COMPILING THE C++ CODE FOR MODEL anon_model_d4729f2aae7e8246b7fdb2f0d877cfb5 NOW.\n",
      "INFO:pystan:COMPILING THE C++ CODE FOR MODEL anon_model_d4729f2aae7e8246b7fdb2f0d877cfb5 NOW.\n",
      "INFO:pystan:COMPILING THE C++ CODE FOR MODEL anon_model_d4729f2aae7e8246b7fdb2f0d877cfb5 NOW.\n",
      "INFO:pystan:COMPILING THE C++ CODE FOR MODEL anon_model_d4729f2aae7e8246b7fdb2f0d877cfb5 NOW.\n",
      "INFO:pystan:COMPILING THE C++ CODE FOR MODEL anon_model_d4729f2aae7e8246b7fdb2f0d877cfb5 NOW.\n",
      "INFO:pystan:COMPILING THE C++ CODE FOR MODEL anon_model_d4729f2aae7e8246b7fdb2f0d877cfb5 NOW.\n",
      "INFO:pystan:COMPILING THE C++ CODE FOR MODEL anon_model_d4729f2aae7e8246b7fdb2f0d877cfb5 NOW.\n",
      "INFO:pystan:COMPILING THE C++ CODE FOR MODEL anon_model_d4729f2aae7e8246b7fdb2f0d877cfb5 NOW.\n",
      "INFO:pystan:COMPILING THE C++ CODE FOR MODEL anon_model_d4729f2aae7e8246b7fdb2f0d877cfb5 NOW.\n"
     ]
    },
    {
     "name": "stdout",
     "output_type": "stream",
     "text": [
      "[       nan        nan        nan        nan        nan        nan\n",
      " 3.4049163  3.36669215 3.30572412 3.27187435 3.20241851 3.24689672\n",
      " 3.20943312 3.25690178 3.23865932 3.24328245 3.35741164 3.46827873\n",
      " 3.52701751 3.64803486]\n"
     ]
    }
   ],
   "source": [
    "quant_Fischer = np.zeros(len(jump_excesses)) \n",
    "\n",
    "for i in range(len(jump_excesses)):\n",
    "    frechet, u = k_greatest_values(r, jump_excesses[i])\n",
    "    data = dict(N = jump_excesses[i],  y = frechet)\n",
    "    fit = StanModel(model_code=Fisher).sampling(data=data,iter=1000,warmup=200, chains=1) #we sample from the provided data ;\n",
    "    beta = np.mean(list(fit.extract().values())[2].tolist())\n",
    "    alpha2 = np.mean(list(fit.extract().values())[1].tolist())\n",
    "    alpha1 = np.mean(list(fit.extract().values())[0].tolist())\n",
    "    beta0 = alpha2/alpha1\n",
    "    quant_Fischer[i] = u + beta0 / beta * f.isf(N / jump_excesses[i] * (1-q[0]), 2 * alpha1, 2 * alpha2, loc=0, scale=1)\n",
    "\n",
    "print(quant_Fischer)\n"
   ]
  },
  {
   "cell_type": "code",
   "execution_count": 23,
   "metadata": {},
   "outputs": [
    {
     "data": {
      "image/png": "[encoded data removed]",
      "text/plain": [
       "<Figure size 432x288 with 1 Axes>"
      ]
     },
     "metadata": {},
     "output_type": "display_data"
    }
   ],
   "source": [
    "plt.plot(jump_excesses, quant_Fischer)\n",
    "plt.xlabel('number of excesses')\n",
    "plt.ylabel('value of quantile at level 0.925')\n",
    "plt.title('Variability of quantile at fixed level ')\n",
    "plt.show()"
   ]
  },
  {
   "cell_type": "code",
   "execution_count": null,
   "metadata": {},
   "outputs": [],
   "source": []
  },
  {
   "cell_type": "code",
   "execution_count": null,
   "metadata": {},
   "outputs": [],
   "source": []
  },
  {
   "cell_type": "code",
   "execution_count": null,
   "metadata": {},
   "outputs": [],
   "source": []
  },
  {
   "cell_type": "code",
   "execution_count": null,
   "metadata": {},
   "outputs": [],
   "source": []
  }
 ],
 "metadata": {
  "kernelspec": {
   "display_name": "Python 3",
   "language": "python",
   "name": "python3"
  },
  "language_info": {
   "codemirror_mode": {
    "name": "ipython",
    "version": 3
   },
   "file_extension": ".py",
   "mimetype": "text/x-python",
   "name": "python",
   "nbconvert_exporter": "python",
   "pygments_lexer": "ipython3",
   "version": "3.5.4"
  }
 },
 "nbformat": 4,
 "nbformat_minor": 2
}
