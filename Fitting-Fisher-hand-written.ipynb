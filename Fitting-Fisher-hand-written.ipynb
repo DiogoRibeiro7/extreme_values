{
 "cells": [
  {
   "cell_type": "code",
   "execution_count": 1,
   "metadata": {},
   "outputs": [
    {
     "name": "stdout",
     "output_type": "stream",
     "text": [
      "In this document we check whether fitting Fisher distribution is reasable for different values of parameters sampled from it.\n"
     ]
    }
   ],
   "source": [
    "print(\"In this document we check whether fitting Fisher distribution is reasable for different values of parameters sampled from it.\")"
   ]
  },
  {
   "cell_type": "code",
   "execution_count": 2,
   "metadata": {},
   "outputs": [],
   "source": [
    "import pystan\n",
    "import numpy as np\n",
    "from pystan import StanModel \n",
    "import scipy.special as ss"
   ]
  },
  {
   "cell_type": "code",
   "execution_count": 3,
   "metadata": {},
   "outputs": [],
   "source": [
    "Fisher = \"\"\"\n",
    "functions { \n",
    " real myFisher_lpdf(real y, real alpha1, real alpha2, real beta) {\n",
    "      return -lbeta(alpha1,alpha2)-log(beta)+(alpha1-1)*log(y/beta)-(alpha1+alpha2)*log(1+y/beta);\n",
    "  }\n",
    "  \n",
    "// to recover more general distribution of Fisher parametrized by three parameters we need to multiply the above distribution \n",
    "// by: df1**df1/2\n",
    "// we have alpha1,2 = df1,2/2, beta = df2/df1\n",
    "}\n",
    "\n",
    "data { \n",
    "  int N;\n",
    "  real y[N]; // points sampled from fisher in python with some(known) parameters, by mcmc we recover true values of those params\n",
    "}\n",
    "parameters { \n",
    "  //parameters of the Fisher\n",
    "  //real df1;\n",
    "  //real df2;\n",
    "  real<lower=0> alpha1;\n",
    "  real<lower=0> alpha2;\n",
    "  real<lower=0> beta;\n",
    "  \n",
    "}\n",
    "model {\n",
    "  // when we deliberately do not specify priors then Stan works with improper priors\n",
    "  //alpha1 ~ uniform(0,2);\n",
    "  //alpha2 ~ gamma(2,2);\n",
    "  //beta ~ gamma(2,2);\n",
    "   // Likelihood\n",
    "  for(n in 1:N) {\n",
    "    target += myFisher_lpdf( y[n] |alpha1, alpha2, beta);\n",
    "  }\n",
    "}\n",
    "\n",
    "generated quantities{}\n",
    "\"\"\""
   ]
  },
  {
   "cell_type": "code",
   "execution_count": 31,
   "metadata": {},
   "outputs": [],
   "source": [
    "from numpy import polyval, place, extract, any, asarray, nan, inf, pi\n",
    "from numpy import (where, arange, putmask, ravel, sum, shape,\n",
    "                   log, sqrt, exp, arctanh, tan, sin, arcsin, arctan,\n",
    "                   tanh, cos, cosh, sinh, log1p, expm1)\n",
    "\n",
    "from scipy.stats import rv_continuous\n",
    "\n",
    "class f_gen(rv_continuous):\n",
    "    \"\"\"A generalized Pareto continuous random variable.\n",
    "    %(before_notes)s\n",
    "    Notes\n",
    "    -----\n",
    "    The probability density function for `genpareto` is::\n",
    "        genpareto.pdf(x, c) = (1 + c * x)**(-1 - 1/c)\n",
    "    for ``c != 0``, and for ``x >= 0`` for all c,\n",
    "    and ``x < 1/abs(c)`` for ``c < 0``.\n",
    "    %(example)s\n",
    "    \"\"\"\n",
    "#     def _argcheck(self, c):\n",
    "#         c = asarray(c)\n",
    "#         self.b = where(c < 0, 1.0/abs(c), inf)\n",
    "#         return where(c == 0, 0, 1)\n",
    "\n",
    "    def _pdf(self, x, alpha1, alpha2, beta):\n",
    "        Px = 1 / beta / ss.beta(alpha1, alpha2) * pow(x/beta, asarray(alpha1-1.0)) * pow(1 + x/beta, asarray(- alpha1 - alpha2))\n",
    "        return Px\n",
    "\n",
    "    def _logpdf(self, x, alpha1, alpha2, beta):\n",
    "        return (alpha1 - 1) * np.log(x) - alpha1 * np.log(beta) - np.log(ss.beta(alpha1, alpha2)) - (alpha1 + alpha2) * np.log(1 + x/beta)\n",
    "\n",
    "    def _isf(self, q, c):\n",
    "        return -ss.boxcox(q, -c) # inverse survival function\n",
    "    \n",
    "#     def _cdf(self, x, c):\n",
    "#         return 1.0 - pow(1+c*x, asarray(-1.0/c))\n",
    "\n",
    "#     def _ppf(self, q, c):\n",
    "#         vals = 1.0/c * (pow(1-q, -c)-1)\n",
    "#         return vals\n",
    "\n",
    "#     def _munp(self, n, c):\n",
    "#         k = arange(0, n+1)\n",
    "#         val = (-1.0/c)**n * sum(comb(n, k)*(-1)**k / (1.0-c*k), axis=0)\n",
    "#         return where(c*n < 1, val, inf)\n",
    "\n",
    "#     def _entropy(self, c):\n",
    "#         if (c > 0):\n",
    "#             return 1+c\n",
    "#         else:\n",
    "#             self.b = -1.0 / c\n",
    "#             return rv_continuous._entropy(self, c)\n",
    "f = f_gen(a=0.0, name='f')"
   ]
  },
  {
   "cell_type": "code",
   "execution_count": 32,
   "metadata": {},
   "outputs": [
    {
     "name": "stdout",
     "output_type": "stream",
     "text": [
      "We expect to obtain \n",
      " alpha1 =  5 \n",
      " alpha2 =  2 \n",
      " beta =  1\n"
     ]
    }
   ],
   "source": [
    "N, alpha1, alpha2, beta = 1000, 5, 2, 1\n",
    "r = f.rvs(alpha1, alpha2, beta, size=N)\n",
    "print(\"We expect to obtain \\n alpha1 = \", alpha1,\"\\n alpha2 = \", alpha2, \"\\n beta = \", beta)"
   ]
  },
  {
   "cell_type": "code",
   "execution_count": null,
   "metadata": {},
   "outputs": [],
   "source": [
    "# now how to use inverse survival function in those data"
   ]
  },
  {
   "cell_type": "code",
   "execution_count": 39,
   "metadata": {},
   "outputs": [
    {
     "ename": "TypeError",
     "evalue": "isf() missing 1 required positional argument: 'q'",
     "output_type": "error",
     "traceback": [
      "\u001b[1;31m---------------------------------------------------------------------------\u001b[0m",
      "\u001b[1;31mTypeError\u001b[0m                                 Traceback (most recent call last)",
      "\u001b[1;32m<ipython-input-39-8c6ba46cecaa>\u001b[0m in \u001b[0;36m<module>\u001b[1;34m()\u001b[0m\n\u001b[0;32m      1\u001b[0m \u001b[0mq\u001b[0m \u001b[1;33m=\u001b[0m \u001b[1;36m0.05\u001b[0m\u001b[1;33m\u001b[0m\u001b[0m\n\u001b[1;32m----> 2\u001b[1;33m \u001b[0mf\u001b[0m\u001b[1;33m.\u001b[0m\u001b[0misf\u001b[0m\u001b[1;33m(\u001b[0m\u001b[0malpha1\u001b[0m \u001b[1;33m=\u001b[0m \u001b[1;36m5\u001b[0m\u001b[1;33m,\u001b[0m \u001b[0malpha2\u001b[0m \u001b[1;33m=\u001b[0m \u001b[1;36m2\u001b[0m\u001b[1;33m,\u001b[0m \u001b[0mbeta\u001b[0m \u001b[1;33m=\u001b[0m \u001b[1;36m1\u001b[0m\u001b[1;33m)\u001b[0m\u001b[1;33m\u001b[0m\u001b[0m\n\u001b[0m",
      "\u001b[1;31mTypeError\u001b[0m: isf() missing 1 required positional argument: 'q'"
     ]
    }
   ],
   "source": [
    "q = 0.05\n",
    "f.isf(alpha1 = 5, alpha2 = 2, beta = 1)"
   ]
  },
  {
   "cell_type": "code",
   "execution_count": null,
   "metadata": {},
   "outputs": [],
   "source": []
  },
  {
   "cell_type": "code",
   "execution_count": 28,
   "metadata": {},
   "outputs": [
    {
     "name": "stderr",
     "output_type": "stream",
     "text": [
      "INFO:pystan:COMPILING THE C++ CODE FOR MODEL anon_model_2593dbc6fd5eec19bf3b62623c410a5e NOW.\n",
      "C:\\Users\\Michal Lewandowski\\Anaconda3\\envs\\py35\\lib\\site-packages\\pystan\\misc.py:399: FutureWarning: Conversion of the second argument of issubdtype from `float` to `np.floating` is deprecated. In future, it will be treated as `np.float64 == np.dtype(float).type`.\n",
      "  elif np.issubdtype(np.asarray(v).dtype, float):\n"
     ]
    },
    {
     "name": "stdout",
     "output_type": "stream",
     "text": [
      "Inference for Stan model: anon_model_2593dbc6fd5eec19bf3b62623c410a5e.\n",
      "1 chains, each with iter=1000; warmup=200; thin=1; \n",
      "post-warmup draws per chain=800, total post-warmup draws=800.\n",
      "\n",
      "         mean se_mean     sd   2.5%    25%    50%    75%  97.5%  n_eff   Rhat\n",
      "alpha1   4.01    0.05   0.59   3.05   3.57   3.96   4.39   5.26    116   1.01\n",
      "alpha2    2.3    0.02    0.2   1.94   2.17   2.29   2.43   2.72    168   1.01\n",
      "beta     1.57    0.03   0.39   0.93   1.28   1.53   1.81   2.38    144   1.01\n",
      "lp__    -2389    0.08   1.18  -2392  -2390  -2389  -2388  -2388    209    1.0\n",
      "\n",
      "Samples were drawn using NUTS at Mon May 14 11:20:29 2018.\n",
      "For each parameter, n_eff is a crude measure of effective sample size,\n",
      "and Rhat is the potential scale reduction factor on split chains (at \n",
      "convergence, Rhat=1).\n"
     ]
    }
   ],
   "source": [
    "data = dict(N = N,  y = r) \n",
    "fit = StanModel(model_code=Fisher).sampling(data=data,iter=1000,warmup=200, chains=1) #we sample from the provided data ;\n",
    "print(fit)"
   ]
  },
  {
   "cell_type": "code",
   "execution_count": null,
   "metadata": {},
   "outputs": [],
   "source": []
  },
  {
   "cell_type": "code",
   "execution_count": 29,
   "metadata": {},
   "outputs": [
    {
     "name": "stdout",
     "output_type": "stream",
     "text": [
      "We expect to obtain \n",
      " alpha1 =  18 \n",
      " alpha2 =  3 \n",
      " beta =  11\n"
     ]
    }
   ],
   "source": [
    "N, alpha1, alpha2, beta = 1000, 18, 3, 11\n",
    "r = f.rvs(alpha1, alpha2, beta, size=N)\n",
    "print(\"We expect to obtain \\n alpha1 = \", alpha1,\"\\n alpha2 = \", alpha2, \"\\n beta = \", beta)"
   ]
  },
  {
   "cell_type": "code",
   "execution_count": 30,
   "metadata": {},
   "outputs": [
    {
     "name": "stderr",
     "output_type": "stream",
     "text": [
      "INFO:pystan:COMPILING THE C++ CODE FOR MODEL anon_model_2593dbc6fd5eec19bf3b62623c410a5e NOW.\n"
     ]
    },
    {
     "name": "stdout",
     "output_type": "stream",
     "text": [
      "Inference for Stan model: anon_model_2593dbc6fd5eec19bf3b62623c410a5e.\n",
      "1 chains, each with iter=1000; warmup=200; thin=1; \n",
      "post-warmup draws per chain=800, total post-warmup draws=800.\n",
      "\n",
      "         mean se_mean     sd   2.5%    25%    50%    75%  97.5%  n_eff   Rhat\n",
      "alpha1  10.35    0.24    2.9    6.5   8.34   9.77  11.87  17.39    149    1.0\n",
      "alpha2   3.35    0.02   0.29   2.84   3.13   3.33   3.54   3.94    147    1.0\n",
      "beta    25.02    0.74   8.64  11.38  18.36  24.03  30.35  44.09    136    1.0\n",
      "lp__    -5375    0.06   1.09  -5377  -5375  -5374  -5374  -5373    291   1.01\n",
      "\n",
      "Samples were drawn using NUTS at Mon May 14 11:23:30 2018.\n",
      "For each parameter, n_eff is a crude measure of effective sample size,\n",
      "and Rhat is the potential scale reduction factor on split chains (at \n",
      "convergence, Rhat=1).\n"
     ]
    },
    {
     "name": "stderr",
     "output_type": "stream",
     "text": [
      "C:\\Users\\Michal Lewandowski\\Anaconda3\\envs\\py35\\lib\\site-packages\\pystan\\misc.py:399: FutureWarning: Conversion of the second argument of issubdtype from `float` to `np.floating` is deprecated. In future, it will be treated as `np.float64 == np.dtype(float).type`.\n",
      "  elif np.issubdtype(np.asarray(v).dtype, float):\n"
     ]
    }
   ],
   "source": [
    "data = dict(N = N,  y = r) \n",
    "fit = StanModel(model_code=Fisher).sampling(data=data,iter=1000,warmup=200, chains=1) #we sample from the provided data ;\n",
    "print(fit)"
   ]
  },
  {
   "cell_type": "code",
   "execution_count": null,
   "metadata": {},
   "outputs": [],
   "source": []
  },
  {
   "cell_type": "code",
   "execution_count": null,
   "metadata": {},
   "outputs": [],
   "source": []
  },
  {
   "cell_type": "code",
   "execution_count": null,
   "metadata": {},
   "outputs": [],
   "source": []
  }
 ],
 "metadata": {
  "kernelspec": {
   "display_name": "Python 3",
   "language": "python",
   "name": "python3"
  },
  "language_info": {
   "codemirror_mode": {
    "name": "ipython",
    "version": 3
   },
   "file_extension": ".py",
   "mimetype": "text/x-python",
   "name": "python",
   "nbconvert_exporter": "python",
   "pygments_lexer": "ipython3",
   "version": "3.5.4"
  }
 },
 "nbformat": 4,
 "nbformat_minor": 2
}
