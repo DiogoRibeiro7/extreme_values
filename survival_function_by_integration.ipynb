{
 "cells": [
  {
   "cell_type": "code",
   "execution_count": 14,
   "metadata": {},
   "outputs": [],
   "source": [
    "\n",
    "# import numpy as np\n",
    "# result = integrate.quad(lambda x: special.jv(2.5,x), 0, 4.5)\n",
    "# result \n",
    "# result : first element holding the estimated value of the integral and the second element holding an upper bound on the error\n"
   ]
  },
  {
   "cell_type": "code",
   "execution_count": 2,
   "metadata": {},
   "outputs": [
    {
     "data": {
      "text/plain": [
       "1.0"
      ]
     },
     "execution_count": 2,
     "metadata": {},
     "output_type": "execute_result"
    }
   ],
   "source": [
    "special.beta(1,1) # beta function"
   ]
  },
  {
   "cell_type": "code",
   "execution_count": 34,
   "metadata": {},
   "outputs": [],
   "source": [
    "# alpha1, alpha2, beta, u = 1,2,3,4\n",
    "alpha1 =  1.3388799617115301  \n",
    "alpha2 =  0.7211946129688434 \n",
    "beta =  2.9943709360978916 \n",
    "u =  4.810203382522611"
   ]
  },
  {
   "cell_type": "code",
   "execution_count": 29,
   "metadata": {},
   "outputs": [],
   "source": [
    "import scipy.integrate as integrate\n",
    "import scipy.special as special\n",
    "\n",
    "def isf(alpha1, alpha2, beta, u):\n",
    "    const = 1/special.beta(alpha1, alpha2)\n",
    "    I = integrate.quad(lambda x : pow(x, alpha1 - 1 ) / pow(1 + x, alpha1 + alpha2), -np.inf, u / beta)\n",
    "    sf = 1 - I[0]\n",
    "    isf = pow(sf, -1)\n",
    "    return isf"
   ]
  },
  {
   "cell_type": "code",
   "execution_count": 36,
   "metadata": {},
   "outputs": [],
   "source": [
    "const = 1/special.beta(alpha1, alpha2)\n",
    "I = integrate.quad(lambda x : pow(x, alpha1 - 1 ) / pow(1 + x, alpha1 + alpha2), 0, u / beta)\n",
    "sf = 1 - I[0]\n",
    "isf = pow(sf, -1)"
   ]
  },
  {
   "cell_type": "code",
   "execution_count": 37,
   "metadata": {},
   "outputs": [
    {
     "name": "stdout",
     "output_type": "stream",
     "text": [
      "1.8066285885665676 6.625006154781232e-09\n"
     ]
    }
   ],
   "source": [
    "print(isf, I[1])"
   ]
  },
  {
   "cell_type": "code",
   "execution_count": 30,
   "metadata": {},
   "outputs": [
    {
     "name": "stderr",
     "output_type": "stream",
     "text": [
      "C:\\Users\\Michal Lewandowski\\Anaconda3\\envs\\py35\\lib\\site-packages\\scipy\\integrate\\quadpack.py:364: IntegrationWarning: The integral is probably divergent, or slowly convergent.\n",
      "  warnings.warn(msg, IntegrationWarning)\n"
     ]
    },
    {
     "data": {
      "text/plain": [
       "0.9159082916754848"
      ]
     },
     "execution_count": 30,
     "metadata": {},
     "output_type": "execute_result"
    }
   ],
   "source": [
    "result = isf(alpha1, alpha2, beta, u)\n",
    "result"
   ]
  },
  {
   "cell_type": "code",
   "execution_count": null,
   "metadata": {},
   "outputs": [],
   "source": [
    "# scipy knows the isf for Fischer (quantile function) "
   ]
  }
 ],
 "metadata": {
  "kernelspec": {
   "display_name": "Python 3",
   "language": "python",
   "name": "python3"
  },
  "language_info": {
   "codemirror_mode": {
    "name": "ipython",
    "version": 3
   },
   "file_extension": ".py",
   "mimetype": "text/x-python",
   "name": "python",
   "nbconvert_exporter": "python",
   "pygments_lexer": "ipython3",
   "version": "3.5.4"
  }
 },
 "nbformat": 4,
 "nbformat_minor": 2
}
